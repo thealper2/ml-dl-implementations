{
 "cells": [
  {
   "cell_type": "code",
   "execution_count": 5,
   "id": "23e90389-6300-4786-8cb8-34e935251074",
   "metadata": {},
   "outputs": [],
   "source": [
    "import numpy as np\n",
    "from sklearn import datasets\n",
    "\n",
    "seed = 42\n",
    "np.random.seed(seed)"
   ]
  },
  {
   "cell_type": "code",
   "execution_count": 23,
   "id": "15915523-c3f5-4204-a069-0d7d050ca0d7",
   "metadata": {},
   "outputs": [],
   "source": [
    "class OneClassSVM:\n",
    "    def __init__(self, nu=0.1, kernel=\"linear\", gamma=0.1):\n",
    "        self.nu = nu\n",
    "        self.kernel = kernel\n",
    "        self.gamma = gamma\n",
    "        self.support_vectors = None\n",
    "        self.alpha = None\n",
    "\n",
    "    def _kernel_function(self, X, y):\n",
    "        if self.kernel == \"linear\":\n",
    "            return np.dot(X, y.T)\n",
    "\n",
    "        elif self.kernel == \"rbf\":\n",
    "            sq_dist = np.linalg.norm(X[:, np.newaxis] - y[np.newaxis, :], axis=2) ** 2\n",
    "            return np.exp(-self.gamma * sq_dist)\n",
    "\n",
    "    def fit(self, X):\n",
    "        n_samples = X.shape[0]\n",
    "\n",
    "        K = self._kernel_function(X, X)\n",
    "\n",
    "        P = np.outer(np.ones(n_samples), np.ones(n_samples)) * K\n",
    "        alpha = np.random.rand(n_samples)\n",
    "\n",
    "        self.support_vectors = X\n",
    "        self.alpha = alpha\n",
    "\n",
    "    def decision_function(self, X):\n",
    "        K = self._kernel_function(X, self.support_vectors)\n",
    "        return np.dot(K, self.alpha)\n",
    "\n",
    "    def predict(self, X):\n",
    "        return np.sign(self.decision_function(X))"
   ]
  },
  {
   "cell_type": "code",
   "execution_count": 28,
   "id": "e4031288-0aa2-40f2-ba01-c599cb4c1298",
   "metadata": {},
   "outputs": [],
   "source": [
    "X = datasets.load_wine()[\"data\"][:, [1, 2]]"
   ]
  },
  {
   "cell_type": "code",
   "execution_count": 47,
   "id": "6c9f49ed-cc9b-4a17-8213-b5e8a81b22b7",
   "metadata": {},
   "outputs": [
    {
     "data": {
      "text/plain": [
       "(2.43, 2.14)"
      ]
     },
     "execution_count": 47,
     "metadata": {},
     "output_type": "execute_result"
    }
   ],
   "source": [
    "np.max(X[0]), np.max(X[1])"
   ]
  },
  {
   "cell_type": "code",
   "execution_count": 48,
   "id": "92a49f8a-bec8-4efb-aa98-e9aac627472d",
   "metadata": {},
   "outputs": [
    {
     "data": {
      "text/plain": [
       "(1.71, 1.78)"
      ]
     },
     "execution_count": 48,
     "metadata": {},
     "output_type": "execute_result"
    }
   ],
   "source": [
    "np.min(X[0]), np.min(X[1])"
   ]
  },
  {
   "cell_type": "code",
   "execution_count": 29,
   "id": "872afde3-1c7c-4891-84f3-591bb6262f35",
   "metadata": {},
   "outputs": [],
   "source": [
    "svm = OneClassSVM(nu=0.1, kernel=\"rbf\", gamma=0.5)\n",
    "svm.fit(X)"
   ]
  },
  {
   "cell_type": "code",
   "execution_count": 51,
   "id": "cccd8d02-a72b-404f-a367-d0d3b74c9c83",
   "metadata": {},
   "outputs": [],
   "source": [
    "test_data = np.array([[1.5, 252.5], [2.5, 3.5]])"
   ]
  },
  {
   "cell_type": "code",
   "execution_count": 52,
   "id": "7f7d7268-ad95-43a4-b22a-50e661de1f8d",
   "metadata": {},
   "outputs": [
    {
     "name": "stdout",
     "output_type": "stream",
     "text": [
      "Tahminler: [0. 1.]\n"
     ]
    }
   ],
   "source": [
    "predictions = svm.predict(test_data)\n",
    "print(\"Tahminler:\", predictions) # 0->Outlier, 1->Normal"
   ]
  },
  {
   "cell_type": "code",
   "execution_count": null,
   "id": "316321d7-bd6e-44bb-92b0-cc1406abeb5b",
   "metadata": {},
   "outputs": [],
   "source": []
  }
 ],
 "metadata": {
  "kernelspec": {
   "display_name": "Python 3 (ipykernel)",
   "language": "python",
   "name": "python3"
  },
  "language_info": {
   "codemirror_mode": {
    "name": "ipython",
    "version": 3
   },
   "file_extension": ".py",
   "mimetype": "text/x-python",
   "name": "python",
   "nbconvert_exporter": "python",
   "pygments_lexer": "ipython3",
   "version": "3.10.12"
  }
 },
 "nbformat": 4,
 "nbformat_minor": 5
}
