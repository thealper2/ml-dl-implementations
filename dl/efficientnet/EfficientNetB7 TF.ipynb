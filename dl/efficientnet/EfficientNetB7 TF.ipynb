{
 "cells": [
  {
   "cell_type": "code",
   "execution_count": 1,
   "id": "f803456e-cee0-41c7-b288-372974c04db4",
   "metadata": {},
   "outputs": [],
   "source": [
    "import tensorflow as tf\n",
    "from tensorflow.keras import activations, layers, models\n",
    "from tensorflow.keras.utils import plot_model\n",
    "from tensorflow.keras.applications.efficientnet import EfficientNetB7"
   ]
  },
  {
   "cell_type": "code",
   "execution_count": 2,
   "id": "58cae93c-83be-4a86-b5be-d177d53152e6",
   "metadata": {},
   "outputs": [],
   "source": [
    "def swish_function(x):\n",
    "    return x * activations.sigmoid(x)"
   ]
  },
  {
   "cell_type": "code",
   "execution_count": 3,
   "id": "86ae180d-f109-460f-a37d-e0e1c0a4411a",
   "metadata": {},
   "outputs": [],
   "source": [
    "def squeeze_and_excitation_block(inputs, reduction=4):\n",
    "    filters = inputs.shape[-1]\n",
    "    x = layers.GlobalAveragePooling2D()(inputs)\n",
    "    x = layers.Reshape((1, 1, filters))(x)\n",
    "    x = layers.Conv2D(filters // reduction, (1, 1), activation=\"relu\", padding=\"same\")(x)\n",
    "    x = layers.Conv2D(filters, (1, 1), activation=\"sigmoid\", padding=\"same\")(x)\n",
    "    return layers.multiply([inputs, x])"
   ]
  },
  {
   "cell_type": "code",
   "execution_count": 5,
   "id": "5e270c33-7c1d-4553-8e25-adaeda27b1fd",
   "metadata": {},
   "outputs": [],
   "source": [
    "def mobile_inverted_bottleneck_conv_block(inputs, filters, kernel_size, strides, expand_ratio, reduction=4, dropout_rate=0.2):\n",
    "    input_filters = inputs.shape[-1]\n",
    "    expanded_filters = input_filters * expand_ratio\n",
    "\n",
    "    if expand_ratio != 1:\n",
    "        x = layers.Conv2D(expanded_filters, (1, 1), padding='same', use_bias=False)(inputs)\n",
    "        x = layers.BatchNormalization()(x)\n",
    "        x = layers.Activation(swish_function)(x)\n",
    "    else:\n",
    "        x = inputs\n",
    "\n",
    "    x = layers.DepthwiseConv2D(kernel_size, strides=strides, padding='same', use_bias=False)(x)\n",
    "    x = layers.BatchNormalization()(x)\n",
    "    x = layers.Activation(swish_function)(x)\n",
    "\n",
    "    x = squeeze_and_excitation_block(x, reduction=reduction)\n",
    "\n",
    "    x = layers.Conv2D(filters, (1, 1), padding='same', use_bias=False)(x)\n",
    "    x = layers.BatchNormalization()(x)\n",
    "\n",
    "    if strides == 1 and input_filters == filters:\n",
    "        if dropout_rate > 0:\n",
    "            x = layers.Dropout(dropout_rate)(x)\n",
    "        x = layers.add([x, inputs])\n",
    "    \n",
    "    return x"
   ]
  },
  {
   "cell_type": "code",
   "execution_count": 6,
   "id": "127e94e3-3e1d-4143-a179-486671548334",
   "metadata": {},
   "outputs": [],
   "source": [
    "def build_efficientnet_b7(input_shape=(600, 600, 3), num_classes=1000):\n",
    "    inputs = layers.Input(shape=input_shape)\n",
    "    \n",
    "    x = layers.Conv2D(64, (3, 3), strides=2, padding='same', use_bias=False)(inputs)\n",
    "    x = layers.BatchNormalization()(x)\n",
    "    x = layers.Activation(swish_function)(x)\n",
    "    \n",
    "    x = mobile_inverted_bottleneck_conv_block(x, filters=32, kernel_size=3, strides=1, expand_ratio=1)\n",
    "    x = mobile_inverted_bottleneck_conv_block(x, filters=32, kernel_size=3, strides=2, expand_ratio=6)\n",
    "    \n",
    "    x = mobile_inverted_bottleneck_conv_block(x, filters=64, kernel_size=3, strides=2, expand_ratio=6)\n",
    "    x = mobile_inverted_bottleneck_conv_block(x, filters=64, kernel_size=3, strides=1, expand_ratio=6)\n",
    "\n",
    "    x = mobile_inverted_bottleneck_conv_block(x, filters=128, kernel_size=5, strides=2, expand_ratio=6)\n",
    "    x = mobile_inverted_bottleneck_conv_block(x, filters=128, kernel_size=5, strides=1, expand_ratio=6)\n",
    "\n",
    "    x = mobile_inverted_bottleneck_conv_block(x, filters=256, kernel_size=5, strides=2, expand_ratio=6)\n",
    "    x = mobile_inverted_bottleneck_conv_block(x, filters=256, kernel_size=5, strides=1, expand_ratio=6)\n",
    "\n",
    "    x = mobile_inverted_bottleneck_conv_block(x, filters=512, kernel_size=3, strides=1, expand_ratio=6)\n",
    "    x = mobile_inverted_bottleneck_conv_block(x, filters=512, kernel_size=3, strides=1, expand_ratio=6)\n",
    "\n",
    "    x = layers.Conv2D(2048, (1, 1), padding='same', use_bias=False)(x)\n",
    "    x = layers.BatchNormalization()(x)\n",
    "    x = layers.Activation(swish_function)(x)\n",
    "    \n",
    "    x = layers.GlobalAveragePooling2D()(x)\n",
    "    x = layers.Dropout(0.5)(x)\n",
    "    outputs = layers.Dense(num_classes, activation='softmax')(x)\n",
    "\n",
    "    model = models.Model(inputs, outputs)\n",
    "    \n",
    "    return model"
   ]
  },
  {
   "cell_type": "code",
   "execution_count": null,
   "id": "4a411b95-dc96-464d-95e9-d965ac8ac96e",
   "metadata": {
    "scrolled": true
   },
   "outputs": [],
   "source": [
    "efficientnet_b7_scratch_model = build_efficientnet_b7()\n",
    "efficientnet_b7_scratch_model.summary()"
   ]
  },
  {
   "cell_type": "code",
   "execution_count": null,
   "id": "4ed345c6-ce79-4e99-8de5-bcaa81f65e8d",
   "metadata": {
    "scrolled": true
   },
   "outputs": [],
   "source": [
    "efficientnet_b7_tf_model = EfficientNetB7(include_top=True, weights=\"imagenet\", input_shape=(600, 600, 3))\n",
    "efficientnet_b7_tf_model.summary()"
   ]
  },
  {
   "cell_type": "code",
   "execution_count": null,
   "id": "602882aa-9c13-40df-b321-e8f83de12eca",
   "metadata": {},
   "outputs": [],
   "source": []
  }
 ],
 "metadata": {
  "kernelspec": {
   "display_name": "Python 3 (ipykernel)",
   "language": "python",
   "name": "python3"
  },
  "language_info": {
   "codemirror_mode": {
    "name": "ipython",
    "version": 3
   },
   "file_extension": ".py",
   "mimetype": "text/x-python",
   "name": "python",
   "nbconvert_exporter": "python",
   "pygments_lexer": "ipython3",
   "version": "3.10.12"
  }
 },
 "nbformat": 4,
 "nbformat_minor": 5
}
