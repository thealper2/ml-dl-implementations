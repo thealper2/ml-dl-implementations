{
 "cells": [
  {
   "cell_type": "code",
   "execution_count": 1,
   "id": "81d7e1d8-703d-425f-ab2d-2ef0e82a78f6",
   "metadata": {},
   "outputs": [],
   "source": [
    "import tensorflow as tf\n",
    "from tensorflow.keras import layers, models\n",
    "from tensorflow.keras.utils import plot_model\n",
    "from tensorflow.keras.applications.xception import Xception"
   ]
  },
  {
   "cell_type": "code",
   "execution_count": 2,
   "id": "73f747e0-c0cd-498f-ac60-83b62d84027a",
   "metadata": {},
   "outputs": [],
   "source": [
    "def depthwise_separable_conv(x, filters, kernel_size=3, strides=1):\n",
    "    x = layers.DepthwiseConv2D(kernel_size=kernel_size, strides=strides, padding=\"same\", use_bias=False)(x)\n",
    "    x = layers.BatchNormalization()(x)\n",
    "    x = layers.ReLU()(x)\n",
    "\n",
    "    x = layers.Conv2D(filters, kernel_size=1, strides=1, padding=\"same\", use_bias=False)(x)\n",
    "    x = layers.BatchNormalization()(x)\n",
    "    x = layers.ReLU()(x)\n",
    "    return x"
   ]
  },
  {
   "cell_type": "code",
   "execution_count": 9,
   "id": "55393b6f-3ebf-4a95-97f1-e2d1edf51eca",
   "metadata": {},
   "outputs": [],
   "source": [
    "def entry_flow(inputs):\n",
    "    x = layers.Conv2D(32, (3, 3), strides=2, padding=\"same\")(inputs)\n",
    "    x = layers.BatchNormalization()(x)\n",
    "    x = layers.ReLU()(x)\n",
    "\n",
    "    x = layers.Conv2D(64, (3, 3), padding=\"same\")(x)\n",
    "    x = layers.BatchNormalization()(x)\n",
    "    x = layers.ReLU()(x)\n",
    "\n",
    "    residual = layers.Conv2D(128, (1, 1), strides=2, padding=\"same\")(x)\n",
    "    residual = layers.BatchNormalization()(residual)\n",
    "\n",
    "    x = depthwise_separable_conv(x, 128)\n",
    "    x = depthwise_separable_conv(x, 128)\n",
    "    x = layers.MaxPooling2D((3, 3), strides=2, padding=\"same\")(x)\n",
    "\n",
    "    x = layers.Add()([x, residual])\n",
    "\n",
    "    residual = layers.Conv2D(256, (1, 1), strides=2, padding=\"same\")(x)\n",
    "    residual = layers.BatchNormalization()(residual)\n",
    "\n",
    "    x = depthwise_separable_conv(x, 256)\n",
    "    x = depthwise_separable_conv(x, 256)\n",
    "    x = layers.MaxPooling2D((3, 3), strides=2, padding=\"same\")(x)\n",
    "\n",
    "    x = layers.Add()([x, residual])\n",
    "\n",
    "    residual = layers.Conv2D(728, (1, 1), strides=2, padding=\"same\")(x)\n",
    "    residual = layers.BatchNormalization()(residual)\n",
    "\n",
    "    x = depthwise_separable_conv(x, 728)\n",
    "    x = depthwise_separable_conv(x, 728)\n",
    "    x = layers.MaxPooling2D((3, 3), strides=2, padding=\"same\")(x)\n",
    "\n",
    "    x = layers.Add()([x, residual])\n",
    "    return x"
   ]
  },
  {
   "cell_type": "code",
   "execution_count": 10,
   "id": "7f4e6469-f02b-4cbd-89f1-cf42d1ab106a",
   "metadata": {},
   "outputs": [],
   "source": [
    "def middle_flow(x):\n",
    "    for _ in range(8):\n",
    "        residual = x\n",
    "\n",
    "        x = depthwise_separable_conv(x, 728)\n",
    "        x = depthwise_separable_conv(x, 728)\n",
    "        x = depthwise_separable_conv(x, 728)\n",
    "\n",
    "        x = layers.Add()([x, residual])\n",
    "\n",
    "    return x"
   ]
  },
  {
   "cell_type": "code",
   "execution_count": 11,
   "id": "223812f8-3862-42f9-897f-11677fddda70",
   "metadata": {},
   "outputs": [],
   "source": [
    "def exit_flow(x):\n",
    "    residual = layers.Conv2D(1024, (1, 1), strides=2, padding='same')(x)\n",
    "    residual = layers.BatchNormalization()(residual)\n",
    "    \n",
    "    x = depthwise_separable_conv(x, 728)\n",
    "    x = depthwise_separable_conv(x, 1024)\n",
    "    x = layers.MaxPooling2D((3, 3), strides=2, padding='same')(x)\n",
    "    \n",
    "    x = layers.Add()([x, residual])\n",
    "    \n",
    "    x = depthwise_separable_conv(x, 1536)\n",
    "    x = depthwise_separable_conv(x, 2048)\n",
    "    \n",
    "    x = layers.GlobalAveragePooling2D()(x)\n",
    "    x = layers.Dense(1000, activation='softmax')(x)\n",
    "    \n",
    "    return x"
   ]
  },
  {
   "cell_type": "code",
   "execution_count": 12,
   "id": "f2741f14-dc2e-46f1-806a-ce6d7930a4cd",
   "metadata": {},
   "outputs": [],
   "source": [
    "def build_xception(input_shape=(299, 299, 3)):\n",
    "    inputs = layers.Input(shape=input_shape)\n",
    "    \n",
    "    x = entry_flow(inputs)\n",
    "    x = middle_flow(x)\n",
    "    x = exit_flow(x)\n",
    "    \n",
    "    model = models.Model(inputs, x)\n",
    "    return model"
   ]
  },
  {
   "cell_type": "code",
   "execution_count": null,
   "id": "1baea532-350b-48ea-881d-650b6734ff1d",
   "metadata": {
    "scrolled": true
   },
   "outputs": [],
   "source": [
    "xception_scratch_model = build_xception()\n",
    "xception_scratch_model.summary()"
   ]
  },
  {
   "cell_type": "code",
   "execution_count": null,
   "id": "6df35471-3b8c-45ba-9232-0eb86783ed89",
   "metadata": {
    "scrolled": true
   },
   "outputs": [],
   "source": [
    "xception_tf_model = Xception(include_top=True, weights=\"imagenet\", input_shape=(299, 299, 3))\n",
    "xception_tf_model.summary()"
   ]
  },
  {
   "cell_type": "code",
   "execution_count": null,
   "id": "6e3bbc24-f6ff-441e-8169-d1b63071e01c",
   "metadata": {},
   "outputs": [],
   "source": []
  }
 ],
 "metadata": {
  "kernelspec": {
   "display_name": "Python 3 (ipykernel)",
   "language": "python",
   "name": "python3"
  },
  "language_info": {
   "codemirror_mode": {
    "name": "ipython",
    "version": 3
   },
   "file_extension": ".py",
   "mimetype": "text/x-python",
   "name": "python",
   "nbconvert_exporter": "python",
   "pygments_lexer": "ipython3",
   "version": "3.10.12"
  }
 },
 "nbformat": 4,
 "nbformat_minor": 5
}
