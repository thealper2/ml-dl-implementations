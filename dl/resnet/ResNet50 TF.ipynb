{
 "cells": [
  {
   "cell_type": "code",
   "execution_count": 1,
   "id": "ce8afbac-8d0a-4862-9499-f3f2643e4e20",
   "metadata": {},
   "outputs": [],
   "source": [
    "import os\n",
    "os.environ[\"TF_CPP_MIN_LOG_LEVEL\"] = \"3\"\n",
    "\n",
    "import tensorflow as tf\n",
    "from tensorflow.keras import layers, models\n",
    "from tensorflow.keras.applications.resnet50 import ResNet50\n",
    "from tensorflow.keras.utils import plot_model"
   ]
  },
  {
   "cell_type": "code",
   "execution_count": 8,
   "id": "10ac9e61-273f-46cf-b1d3-e2d411a772a7",
   "metadata": {},
   "outputs": [],
   "source": [
    "def conv_batchnorm_relu(x, filters, kernel_size, strides=1):\n",
    "    x = layers.Conv2D(filters, kernel_size, strides=strides, padding=\"same\", use_bias=False)(x)\n",
    "    x = layers.BatchNormalization()(x)\n",
    "    x = layers.ReLU()(x)\n",
    "    return x"
   ]
  },
  {
   "cell_type": "code",
   "execution_count": 9,
   "id": "0a576014-7850-46c7-a9bb-7675e370727f",
   "metadata": {},
   "outputs": [],
   "source": [
    "def conv_batchnorm(x, filters, kernel_size, strides=1):\n",
    "    x = layers.Conv2D(filters, kernel_size, strides=strides, padding=\"same\", use_bias=False)(x)\n",
    "    x = layers.BatchNormalization()(x)\n",
    "    return x"
   ]
  },
  {
   "cell_type": "code",
   "execution_count": 10,
   "id": "46293bac-2f9e-4a2f-87cc-faeaa6f1c632",
   "metadata": {},
   "outputs": [],
   "source": [
    "def residual_block(x, filters, strides=1, use_projection=False):\n",
    "    shortcut = x\n",
    "\n",
    "    if use_projection:\n",
    "        shortcut = conv_batchnorm(shortcut, filters * 4, kernel_size = 1, strides=strides)\n",
    "\n",
    "    x = conv_batchnorm_relu(x, filters, kernel_size=1, strides=strides)\n",
    "    x = conv_batchnorm_relu(x, filters, kernel_size=3, strides=1)\n",
    "    x = conv_batchnorm(x, filters * 4, kernel_size=1, strides=1)\n",
    "\n",
    "    x = layers.Add()([x, shortcut])\n",
    "    x = layers.ReLU()(x)\n",
    "    return x"
   ]
  },
  {
   "cell_type": "code",
   "execution_count": 11,
   "id": "9c833851-ce42-40ee-a9f1-1eb53435bb94",
   "metadata": {},
   "outputs": [],
   "source": [
    "def build_resnet50(input_shape=(224, 224, 3), num_classes=1000):\n",
    "    inputs = layers.Input(shape=input_shape)\n",
    "    \n",
    "    x = conv_batchnorm_relu(inputs, filters=64, kernel_size=7, strides=2)\n",
    "    x = layers.MaxPooling2D(pool_size=3, strides=2, padding='same')(x)\n",
    "\n",
    "    x = residual_block(x, filters=64, strides=1, use_projection=True)\n",
    "    for _ in range(2):\n",
    "        x = residual_block(x, filters=64, strides=1)\n",
    "\n",
    "    x = residual_block(x, filters=128, strides=2, use_projection=True)\n",
    "    for _ in range(3):\n",
    "        x = residual_block(x, filters=128, strides=1)\n",
    "\n",
    "    x = residual_block(x, filters=256, strides=2, use_projection=True)\n",
    "    for _ in range(5):\n",
    "        x = residual_block(x, filters=256, strides=1)\n",
    "\n",
    "    x = residual_block(x, filters=512, strides=2, use_projection=True)\n",
    "    for _ in range(2):\n",
    "        x = residual_block(x, filters=512, strides=1)\n",
    "\n",
    "    x = layers.GlobalAveragePooling2D()(x)\n",
    "    x = layers.Dense(num_classes, activation='softmax')(x)\n",
    "\n",
    "    model = models.Model(inputs, x)\n",
    "    return model"
   ]
  },
  {
   "cell_type": "code",
   "execution_count": null,
   "id": "1f45df98-17f6-4212-96a1-8f059bc128fe",
   "metadata": {
    "scrolled": true
   },
   "outputs": [],
   "source": [
    "resnet50_scratch_model = build_resnet50()\n",
    "resnet50_scratch_model.summary()"
   ]
  },
  {
   "cell_type": "code",
   "execution_count": null,
   "id": "6a242530-372d-4249-9af0-783ed0441492",
   "metadata": {
    "scrolled": true
   },
   "outputs": [],
   "source": [
    "resnet50_tf_model = ResNet50(include_top=True, weights=\"imagenet\", input_shape=(224, 224, 3))\n",
    "resnet50_tf_model.summary()"
   ]
  },
  {
   "cell_type": "code",
   "execution_count": null,
   "id": "c3bf13a5-f17d-4723-b411-32c1d02b8bcb",
   "metadata": {},
   "outputs": [],
   "source": []
  }
 ],
 "metadata": {
  "kernelspec": {
   "display_name": "Python 3 (ipykernel)",
   "language": "python",
   "name": "python3"
  },
  "language_info": {
   "codemirror_mode": {
    "name": "ipython",
    "version": 3
   },
   "file_extension": ".py",
   "mimetype": "text/x-python",
   "name": "python",
   "nbconvert_exporter": "python",
   "pygments_lexer": "ipython3",
   "version": "3.10.12"
  }
 },
 "nbformat": 4,
 "nbformat_minor": 5
}
