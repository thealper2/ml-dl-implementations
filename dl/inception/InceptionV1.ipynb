{
 "cells": [
  {
   "cell_type": "code",
   "execution_count": 1,
   "id": "172f30f0-6a93-4d24-91b8-6d09df30d8f4",
   "metadata": {},
   "outputs": [],
   "source": [
    "import tensorflow as tf\n",
    "from tensorflow.keras import layers, models"
   ]
  },
  {
   "cell_type": "code",
   "execution_count": 2,
   "id": "26cb9888-a638-4338-851c-665510ff028e",
   "metadata": {},
   "outputs": [],
   "source": [
    "def inception_module(x, f1x1, f3x3_reduce, f3x3, f5x5_reduce, f5x5, pool_proj):\n",
    "    conv_1x1 = layers.Conv2D(f1x1, (1, 1), padding='same', activation='relu')(x)\n",
    "    conv_3x3 = layers.Conv2D(f3x3_reduce, (1, 1), padding='same', activation='relu')(x)\n",
    "    conv_3x3 = layers.Conv2D(f3x3, (3, 3), padding='same', activation='relu')(conv_3x3)\n",
    "    conv_5x5 = layers.Conv2D(f5x5_reduce, (1, 1), padding='same', activation='relu')(x)\n",
    "    conv_5x5 = layers.Conv2D(f5x5, (5, 5), padding='same', activation='relu')(conv_5x5)\n",
    "    pool_proj = layers.MaxPooling2D((3, 3), strides=(1, 1), padding='same')(x)\n",
    "    pool_proj = layers.Conv2D(pool_proj, (1, 1), padding='same', activation='relu')(pool_proj)\n",
    "    output = layers.Concatenate(axis=-1)([conv_1x1, conv_3x3, conv_5x5, pool_proj])\n",
    "    return output"
   ]
  },
  {
   "cell_type": "code",
   "execution_count": 3,
   "id": "a52bfc0c-8216-4edb-ab07-5d229ee61edb",
   "metadata": {},
   "outputs": [],
   "source": [
    "def build_googlenet(input_shape=(224, 224, 3), num_classes=1000):\n",
    "    inputs = layers.Input(shape=input_shape)\n",
    "    \n",
    "    x = layers.Conv2D(64, (7, 7), strides=2, padding='same', activation='relu')(inputs)\n",
    "    x = layers.MaxPooling2D((3, 3), strides=2, padding='same')(x)\n",
    "    \n",
    "    x = layers.Conv2D(64, (1, 1), padding='same', activation='relu')(x)\n",
    "    x = layers.Conv2D(192, (3, 3), padding='same', activation='relu')(x)\n",
    "    x = layers.MaxPooling2D((3, 3), strides=2, padding='same')(x)\n",
    "    \n",
    "    x = inception_module(x, f1x1=64, f3x3_reduce=96, f3x3=128, f5x5_reduce=16, f5x5=32, pool_proj=32)\n",
    "    x = inception_module(x, f1x1=128, f3x3_reduce=128, f3x3=192, f5x5_reduce=32, f5x5=96, pool_proj=64)\n",
    "    \n",
    "    x = layers.MaxPooling2D((3, 3), strides=2, padding='same')(x)\n",
    "    \n",
    "    x = inception_module(x, f1x1=192, f3x3_reduce=96, f3x3=208, f5x5_reduce=16, f5x5=48, pool_proj=64)\n",
    "    \n",
    "    aux1 = layers.AveragePooling2D((5, 5), strides=3)(x)\n",
    "    aux1 = layers.Conv2D(128, (1, 1), padding='same', activation='relu')(aux1)\n",
    "    aux1 = layers.Flatten()(aux1)\n",
    "    aux1 = layers.Dense(1024, activation='relu')(aux1)\n",
    "    aux1 = layers.Dense(num_classes, activation='softmax')(aux1)\n",
    "    \n",
    "    x = inception_module(x, f1x1=160, f3x3_reduce=112, f3x3=224, f5x5_reduce=24, f5x5=64, pool_proj=64)\n",
    "    x = inception_module(x, f1x1=128, f3x3_reduce=128, f3x3=256, f5x5_reduce=24, f5x5=64, pool_proj=64)\n",
    "    x = inception_module(x, f1x1=112, f3x3_reduce=144, f3x3=288, f5x5_reduce=32, f5x5=64, pool_proj=64)\n",
    "    \n",
    "    aux2 = layers.AveragePooling2D((5, 5), strides=3)(x)\n",
    "    aux2 = layers.Conv2D(128, (1, 1), padding='same', activation='relu')(aux2)\n",
    "    aux2 = layers.Flatten()(aux2)\n",
    "    aux2 = layers.Dense(1024, activation='relu')(aux2)\n",
    "    aux2 = layers.Dense(num_classes, activation='softmax')(aux2)\n",
    "    \n",
    "    x = inception_module(x, f1x1=256, f3x3_reduce=160, f3x3=320, f5x5_reduce=32, f5x5=128, pool_proj=128)\n",
    "    \n",
    "    x = layers.MaxPooling2D((3, 3), strides=2, padding='same')(x)\n",
    "    \n",
    "    x = inception_module(x, f1x1=256, f3x3_reduce=160, f3x3=320, f5x5_reduce=32, f5x5=128, pool_proj=128)\n",
    "    x = inception_module(x, f1x1=384, f3x3_reduce=192, f3x3=384, f5x5_reduce=48, f5x5=128, pool_proj=128)\n",
    "    \n",
    "    x = layers.GlobalAveragePooling2D()(x)\n",
    "    x = layers.Dropout(0.4)(x)\n",
    "    outputs = layers.Dense(num_classes, activation='softmax')(x)\n",
    "    \n",
    "    model = models.Model(inputs, [outputs, aux1, aux2])\n",
    "    \n",
    "    return model"
   ]
  },
  {
   "cell_type": "code",
   "execution_count": null,
   "id": "7c73b30d-75a4-4e55-aa99-0523a44f0a66",
   "metadata": {},
   "outputs": [],
   "source": [
    "googlenet_scratch_model = build_googlenet()\n",
    "googlenet_scratch_model.summary()"
   ]
  },
  {
   "cell_type": "code",
   "execution_count": null,
   "id": "3b4117d2-608c-4267-a24f-67244a70f859",
   "metadata": {},
   "outputs": [],
   "source": []
  }
 ],
 "metadata": {
  "kernelspec": {
   "display_name": "Python 3 (ipykernel)",
   "language": "python",
   "name": "python3"
  },
  "language_info": {
   "codemirror_mode": {
    "name": "ipython",
    "version": 3
   },
   "file_extension": ".py",
   "mimetype": "text/x-python",
   "name": "python",
   "nbconvert_exporter": "python",
   "pygments_lexer": "ipython3",
   "version": "3.10.12"
  }
 },
 "nbformat": 4,
 "nbformat_minor": 5
}
