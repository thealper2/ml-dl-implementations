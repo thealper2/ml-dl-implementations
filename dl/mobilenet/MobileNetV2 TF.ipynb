{
 "cells": [
  {
   "cell_type": "code",
   "execution_count": 1,
   "id": "b5e96666-f21f-45da-b345-ab1a5afbf0bf",
   "metadata": {},
   "outputs": [],
   "source": [
    "import tensorflow as tf\n",
    "from tensorflow.keras import layers, models\n",
    "from tensorflow.keras.utils import plot_model\n",
    "from tensorflow.keras.applications.mobilenet_v2 import MobileNetV2"
   ]
  },
  {
   "cell_type": "code",
   "execution_count": 28,
   "id": "9c9a855d-e8ba-4fac-8600-d692603b40bf",
   "metadata": {},
   "outputs": [],
   "source": [
    "def inverted_residual_block(inputs, filters, expansion_factor, strides):\n",
    "    in_channels = inputs.shape[-1]\n",
    "    \n",
    "    x = layers.Conv2D(in_channels * expansion_factor, kernel_size=1, padding='same', use_bias=False)(inputs)\n",
    "    x = layers.BatchNormalization()(x)\n",
    "    x = layers.ReLU()(x)\n",
    "    \n",
    "    x = layers.DepthwiseConv2D(kernel_size=3, strides=strides, padding='same', use_bias=False)(x)\n",
    "    x = layers.BatchNormalization()(x)\n",
    "    x = layers.ReLU()(x)\n",
    "    \n",
    "    x = layers.Conv2D(filters, kernel_size=1, padding='same', use_bias=False)(x)\n",
    "    x = layers.BatchNormalization()(x)\n",
    "    \n",
    "    if in_channels == filters and strides == 1:\n",
    "        return layers.Add()([x, inputs])\n",
    "    return x"
   ]
  },
  {
   "cell_type": "code",
   "execution_count": 29,
   "id": "5c33d325-5eb1-4525-92b6-fe7ca848a282",
   "metadata": {},
   "outputs": [],
   "source": [
    "def build_mobilenet_v2(input_shape=(224, 224, 3), num_classes=1000):\n",
    "    inputs = layers.Input(shape=input_shape)\n",
    "    \n",
    "    x = layers.Conv2D(32, kernel_size=3, strides=2, padding='same', use_bias=False)(inputs)\n",
    "    x = layers.BatchNormalization()(x)\n",
    "    x = layers.ReLU()(x)\n",
    "    \n",
    "    x = inverted_residual_block(x, filters=16, expansion_factor=1, strides=1)\n",
    "    \n",
    "    x = inverted_residual_block(x, filters=24, expansion_factor=6, strides=2)\n",
    "    x = inverted_residual_block(x, filters=24, expansion_factor=6, strides=1)\n",
    "    \n",
    "    x = inverted_residual_block(x, filters=32, expansion_factor=6, strides=2)\n",
    "    x = inverted_residual_block(x, filters=32, expansion_factor=6, strides=1)\n",
    "    x = inverted_residual_block(x, filters=32, expansion_factor=6, strides=1)\n",
    "    \n",
    "    x = inverted_residual_block(x, filters=64, expansion_factor=6, strides=2)\n",
    "    x = inverted_residual_block(x, filters=64, expansion_factor=6, strides=1)\n",
    "    x = inverted_residual_block(x, filters=64, expansion_factor=6, strides=1)\n",
    "    x = inverted_residual_block(x, filters=64, expansion_factor=6, strides=1)\n",
    "    \n",
    "    x = inverted_residual_block(x, filters=96, expansion_factor=6, strides=1)\n",
    "    x = inverted_residual_block(x, filters=96, expansion_factor=6, strides=1)\n",
    "    x = inverted_residual_block(x, filters=96, expansion_factor=6, strides=1)\n",
    "    \n",
    "    x = inverted_residual_block(x, filters=160, expansion_factor=6, strides=2)\n",
    "    x = inverted_residual_block(x, filters=160, expansion_factor=6, strides=1)\n",
    "    x = inverted_residual_block(x, filters=160, expansion_factor=6, strides=1)\n",
    "    \n",
    "    x = inverted_residual_block(x, filters=320, expansion_factor=6, strides=1)\n",
    "    \n",
    "    x = layers.Conv2D(1280, kernel_size=1, use_bias=False)(x)\n",
    "    x = layers.BatchNormalization()(x)\n",
    "    x = layers.ReLU()(x)\n",
    "    \n",
    "    x = layers.GlobalAveragePooling2D()(x)\n",
    "    x = layers.Dense(num_classes, activation='softmax')(x)\n",
    "    \n",
    "    model = models.Model(inputs, x)\n",
    "    return model"
   ]
  },
  {
   "cell_type": "code",
   "execution_count": null,
   "id": "d1884ec9-3732-4c39-bda2-294701c59235",
   "metadata": {
    "scrolled": true
   },
   "outputs": [],
   "source": [
    "mobilenetv2_scratch_model = build_mobilenet_v2()\n",
    "mobilenetv2_scratch_model.summary()"
   ]
  },
  {
   "cell_type": "code",
   "execution_count": null,
   "id": "abebd4dd-1844-48d4-8b90-f771eb91de14",
   "metadata": {
    "scrolled": true
   },
   "outputs": [],
   "source": [
    "mobilenetv2_tf_model = MobileNetV2(include_top=True, weights=\"imagenet\", input_shape=(224, 224, 3))\n",
    "mobilenetv2_tf_model.summary()"
   ]
  },
  {
   "cell_type": "code",
   "execution_count": null,
   "id": "f9bcdac0-1b61-43a3-b220-42bc409a4cd2",
   "metadata": {},
   "outputs": [],
   "source": []
  }
 ],
 "metadata": {
  "kernelspec": {
   "display_name": "Python 3 (ipykernel)",
   "language": "python",
   "name": "python3"
  },
  "language_info": {
   "codemirror_mode": {
    "name": "ipython",
    "version": 3
   },
   "file_extension": ".py",
   "mimetype": "text/x-python",
   "name": "python",
   "nbconvert_exporter": "python",
   "pygments_lexer": "ipython3",
   "version": "3.10.12"
  }
 },
 "nbformat": 4,
 "nbformat_minor": 5
}
