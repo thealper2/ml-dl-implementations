{
 "cells": [
  {
   "cell_type": "code",
   "execution_count": 1,
   "id": "f41f10e5-e1e0-423a-9bc1-ed25ad510905",
   "metadata": {},
   "outputs": [],
   "source": [
    "import numpy as np"
   ]
  },
  {
   "cell_type": "code",
   "execution_count": 2,
   "id": "4d412bfa-4d02-4d38-8419-eeb7190fb777",
   "metadata": {},
   "outputs": [],
   "source": [
    "def flatten_layer(X):\n",
    "    return X.reshape(X.shape[0], -1)"
   ]
  },
  {
   "cell_type": "code",
   "execution_count": 4,
   "id": "ab9f8c13-3ea9-48a2-aa7c-9f88aaf89b29",
   "metadata": {},
   "outputs": [],
   "source": [
    "# Girdi, 4x4x3\n",
    "X = np.array([\n",
    "    [[[1, 2, 3], [4, 5, 6], [7, 8, 9], [10, 11, 12]],\n",
    "    [[13, 14, 15], [16, 17, 18], [19, 20, 21], [22, 23, 24]],\n",
    "    [[25, 26, 27], [28, 29, 30], [31, 32, 33], [34, 35, 36]],\n",
    "    [[37, 38, 39], [40, 41, 42], [43, 44, 45], [46, 47, 48]]]\n",
    "])"
   ]
  },
  {
   "cell_type": "code",
   "execution_count": 5,
   "id": "046a29f9-02f1-48f1-9376-97bec544fb7f",
   "metadata": {},
   "outputs": [],
   "source": [
    "flat_output = flatten_layer(X)"
   ]
  },
  {
   "cell_type": "code",
   "execution_count": 6,
   "id": "25c099ce-346b-44ba-99db-ad1f9506750c",
   "metadata": {},
   "outputs": [
    {
     "name": "stdout",
     "output_type": "stream",
     "text": [
      "[[ 1  2  3  4  5  6  7  8  9 10 11 12 13 14 15 16 17 18 19 20 21 22 23 24\n",
      "  25 26 27 28 29 30 31 32 33 34 35 36 37 38 39 40 41 42 43 44 45 46 47 48]]\n"
     ]
    }
   ],
   "source": [
    "print(flat_output)"
   ]
  },
  {
   "cell_type": "code",
   "execution_count": null,
   "id": "375a18aa-748a-4a34-b713-47116bea757c",
   "metadata": {},
   "outputs": [],
   "source": []
  }
 ],
 "metadata": {
  "kernelspec": {
   "display_name": "Python 3 (ipykernel)",
   "language": "python",
   "name": "python3"
  },
  "language_info": {
   "codemirror_mode": {
    "name": "ipython",
    "version": 3
   },
   "file_extension": ".py",
   "mimetype": "text/x-python",
   "name": "python",
   "nbconvert_exporter": "python",
   "pygments_lexer": "ipython3",
   "version": "3.10.12"
  }
 },
 "nbformat": 4,
 "nbformat_minor": 5
}
