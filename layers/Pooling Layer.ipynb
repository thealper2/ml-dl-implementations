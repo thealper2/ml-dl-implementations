{
 "cells": [
  {
   "cell_type": "code",
   "execution_count": 1,
   "id": "9382df5a-fbd3-42ce-a435-c7802d383c02",
   "metadata": {},
   "outputs": [],
   "source": [
    "import numpy as np"
   ]
  },
  {
   "cell_type": "code",
   "execution_count": 15,
   "id": "cad9364e-13a9-4045-9b5c-e5221502ee54",
   "metadata": {},
   "outputs": [],
   "source": [
    "def pooling_layer(X, pool_size=2, stride=2, mode=\"max\"):\n",
    "    n_H, n_W, n_C = X.shape\n",
    "\n",
    "    # Pooling cikti boyutlari\n",
    "    out_height = (n_H - pool_size) // stride + 1\n",
    "    out_width = (n_W - pool_size) // stride + 1\n",
    "\n",
    "    # Cikis matrisi\n",
    "    pooled_output = np.zeros((out_height, out_width, n_C))\n",
    "\n",
    "    for h in range(out_height):\n",
    "        for w in range(out_width):\n",
    "            for c in range(n_C):\n",
    "                # Pooling penceresi secilir\n",
    "                h_start = h * stride\n",
    "                h_end = h_start + pool_size\n",
    "                w_start = w * stride\n",
    "                w_end = w_start + pool_size\n",
    "\n",
    "                X_slice = X[h_start:h_end, w_start:w_end, c]\n",
    "\n",
    "                # Max Pooling\n",
    "                if mode == \"max\":\n",
    "                    pooled_output[h, w, c] = np.max(X_slice)\n",
    "                # Average Pooling\n",
    "                elif mode == \"average\":\n",
    "                    pooled_output[h, w, c] = np.mean(X_slice)\n",
    "\n",
    "    return pooled_output"
   ]
  },
  {
   "cell_type": "code",
   "execution_count": 20,
   "id": "84220382-95ad-4834-987d-87769cbe4a08",
   "metadata": {},
   "outputs": [],
   "source": [
    "# Girdi, 6x6 boyut, 1 kanal\n",
    "X = np.array([\n",
    "    [[41], [21], [15], [21], [69], [85]],\n",
    "    [[44], [31], [90], [56], [24], [92]],\n",
    "    [[28], [60], [81], [192], [184], [155]],\n",
    "    [[29], [50], [93], [96], [99], [100]],\n",
    "    [[161], [144], [169], [181], [240], [244]],\n",
    "    [[3], [5], [7], [28], [290], [261]]\n",
    "])"
   ]
  },
  {
   "cell_type": "code",
   "execution_count": 19,
   "id": "b096780f-86a6-47dc-a1fc-ee895ee10eb4",
   "metadata": {},
   "outputs": [
    {
     "name": "stdout",
     "output_type": "stream",
     "text": [
      "[[[ 44.]\n",
      "  [ 90.]\n",
      "  [ 90.]\n",
      "  [ 69.]\n",
      "  [ 92.]]\n",
      "\n",
      " [[ 60.]\n",
      "  [ 90.]\n",
      "  [192.]\n",
      "  [192.]\n",
      "  [184.]]\n",
      "\n",
      " [[ 60.]\n",
      "  [ 93.]\n",
      "  [192.]\n",
      "  [192.]\n",
      "  [184.]]\n",
      "\n",
      " [[161.]\n",
      "  [169.]\n",
      "  [181.]\n",
      "  [240.]\n",
      "  [244.]]\n",
      "\n",
      " [[161.]\n",
      "  [169.]\n",
      "  [181.]\n",
      "  [290.]\n",
      "  [290.]]]\n"
     ]
    }
   ],
   "source": [
    "# Max Pooling, 2x2 boyut, stride 1\n",
    "max_pool_stride_1 = pooling_layer(X, pool_size=2, stride=1, mode=\"max\")\n",
    "print(max_pool_stride_1)"
   ]
  },
  {
   "cell_type": "code",
   "execution_count": 21,
   "id": "48ccb89e-5e40-4eb0-87d3-8098ddd1584a",
   "metadata": {},
   "outputs": [
    {
     "name": "stdout",
     "output_type": "stream",
     "text": [
      "[[[ 44.]\n",
      "  [ 90.]\n",
      "  [ 92.]]\n",
      "\n",
      " [[ 60.]\n",
      "  [192.]\n",
      "  [184.]]\n",
      "\n",
      " [[161.]\n",
      "  [181.]\n",
      "  [290.]]]\n"
     ]
    }
   ],
   "source": [
    "max_pool_stride_2 = pooling_layer(X, pool_size=2, stride=2, mode=\"max\")\n",
    "print(max_pool_stride_2)"
   ]
  },
  {
   "cell_type": "code",
   "execution_count": null,
   "id": "a827eb91-938b-400c-837f-21a3fa88cf93",
   "metadata": {},
   "outputs": [],
   "source": []
  }
 ],
 "metadata": {
  "kernelspec": {
   "display_name": "Python 3 (ipykernel)",
   "language": "python",
   "name": "python3"
  },
  "language_info": {
   "codemirror_mode": {
    "name": "ipython",
    "version": 3
   },
   "file_extension": ".py",
   "mimetype": "text/x-python",
   "name": "python",
   "nbconvert_exporter": "python",
   "pygments_lexer": "ipython3",
   "version": "3.10.12"
  }
 },
 "nbformat": 4,
 "nbformat_minor": 5
}
