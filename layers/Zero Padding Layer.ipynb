{
 "cells": [
  {
   "cell_type": "code",
   "execution_count": 1,
   "id": "0d45282b-fa72-4097-b412-3161c5debaec",
   "metadata": {},
   "outputs": [],
   "source": [
    "import numpy as np"
   ]
  },
  {
   "cell_type": "code",
   "execution_count": 2,
   "id": "b0d71cbf-fadd-4182-9724-75d84852bdf3",
   "metadata": {},
   "outputs": [],
   "source": [
    "def zero_padding_layer(X, pad):\n",
    "    pad_h, pad_w = pad\n",
    "    X_padded = np.zeros((X.shape[0] + 2 * pad_h, X.shape[1] + 2 * pad_w))\n",
    "    X_padded[pad_h:X.shape[0] + pad_h, pad_w:X.shape[1] + pad_w] = X\n",
    "    return X_padded"
   ]
  },
  {
   "cell_type": "code",
   "execution_count": 3,
   "id": "3af8c27d-3860-4b34-9932-a4324bb003b6",
   "metadata": {},
   "outputs": [],
   "source": [
    "# Girdi (3x3)\n",
    "X = np.array([\n",
    "    [1, 2, 3],\n",
    "    [4, 5, 6],\n",
    "    [7, 8, 9]\n",
    "])"
   ]
  },
  {
   "cell_type": "code",
   "execution_count": 10,
   "id": "33764800-cb27-431b-8936-7f5eb17a2b10",
   "metadata": {},
   "outputs": [],
   "source": [
    "# Padding (her kenara 1 birim 0)\n",
    "pad = (1, 1)"
   ]
  },
  {
   "cell_type": "code",
   "execution_count": 11,
   "id": "1a7da192-e6cd-4867-bd52-2708e5871944",
   "metadata": {},
   "outputs": [
    {
     "name": "stdout",
     "output_type": "stream",
     "text": [
      "[[0. 0. 0. 0. 0.]\n",
      " [0. 1. 2. 3. 0.]\n",
      " [0. 4. 5. 6. 0.]\n",
      " [0. 7. 8. 9. 0.]\n",
      " [0. 0. 0. 0. 0.]]\n"
     ]
    }
   ],
   "source": [
    "output = zero_padding_layer(X, pad)\n",
    "print(output)"
   ]
  },
  {
   "cell_type": "code",
   "execution_count": null,
   "id": "b71db310-dfb8-417d-b9df-b2b13fe6a30c",
   "metadata": {},
   "outputs": [],
   "source": []
  }
 ],
 "metadata": {
  "kernelspec": {
   "display_name": "Python 3 (ipykernel)",
   "language": "python",
   "name": "python3"
  },
  "language_info": {
   "codemirror_mode": {
    "name": "ipython",
    "version": 3
   },
   "file_extension": ".py",
   "mimetype": "text/x-python",
   "name": "python",
   "nbconvert_exporter": "python",
   "pygments_lexer": "ipython3",
   "version": "3.10.12"
  }
 },
 "nbformat": 4,
 "nbformat_minor": 5
}
