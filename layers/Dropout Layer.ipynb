{
 "cells": [
  {
   "cell_type": "code",
   "execution_count": 2,
   "id": "93cf1c13-883f-48a4-89a0-67fceec18606",
   "metadata": {},
   "outputs": [],
   "source": [
    "import numpy as np"
   ]
  },
  {
   "cell_type": "code",
   "execution_count": 4,
   "id": "bb13e719-4938-4bac-875b-92adb1c09975",
   "metadata": {},
   "outputs": [],
   "source": [
    "def dropout_layer(X, dropout_rate):\n",
    "    dropout_mask = np.random.rand(*X.shape) > dropout_rate\n",
    "    X_dropped = X * dropout_mask\n",
    "    X_dropped /= (1 - dropout_rate)\n",
    "    return X_dropped"
   ]
  },
  {
   "cell_type": "code",
   "execution_count": 5,
   "id": "75d5ee48-cdb9-480b-886b-894eae4859b6",
   "metadata": {},
   "outputs": [],
   "source": [
    "X = np.array([\n",
    "    [0.1, 0.2, 0.3],\n",
    "    [0.4, 0.5, 0.6]\n",
    "])"
   ]
  },
  {
   "cell_type": "code",
   "execution_count": 7,
   "id": "b73ec546-12ae-4e86-b91c-398456ca380d",
   "metadata": {},
   "outputs": [],
   "source": [
    "dropout_rate = 0.2"
   ]
  },
  {
   "cell_type": "code",
   "execution_count": 8,
   "id": "557d2492-85ed-4ec5-9d5a-eb4cd9b2dd6f",
   "metadata": {},
   "outputs": [],
   "source": [
    "output = dropout_layer(X, dropout_rate)"
   ]
  },
  {
   "cell_type": "code",
   "execution_count": 9,
   "id": "c44e9376-7dda-4e9c-9d9a-03ac2f910420",
   "metadata": {},
   "outputs": [
    {
     "name": "stdout",
     "output_type": "stream",
     "text": [
      "[[0.125 0.25  0.375]\n",
      " [0.5   0.    0.   ]]\n"
     ]
    }
   ],
   "source": [
    "print(output)"
   ]
  },
  {
   "cell_type": "code",
   "execution_count": 10,
   "id": "bd1cccc2-77dc-4b7f-91a0-f35a5cc908b1",
   "metadata": {},
   "outputs": [],
   "source": [
    "output = dropout_layer(X, dropout_rate)"
   ]
  },
  {
   "cell_type": "code",
   "execution_count": 11,
   "id": "09ebe842-2c93-4d19-a8ae-a6c59194962e",
   "metadata": {},
   "outputs": [
    {
     "name": "stdout",
     "output_type": "stream",
     "text": [
      "[[0.125 0.25  0.375]\n",
      " [0.    0.625 0.75 ]]\n"
     ]
    }
   ],
   "source": [
    "print(output)"
   ]
  },
  {
   "cell_type": "code",
   "execution_count": null,
   "id": "73acb735-f44a-4411-9389-f4c6d334432b",
   "metadata": {},
   "outputs": [],
   "source": []
  }
 ],
 "metadata": {
  "kernelspec": {
   "display_name": "Python 3 (ipykernel)",
   "language": "python",
   "name": "python3"
  },
  "language_info": {
   "codemirror_mode": {
    "name": "ipython",
    "version": 3
   },
   "file_extension": ".py",
   "mimetype": "text/x-python",
   "name": "python",
   "nbconvert_exporter": "python",
   "pygments_lexer": "ipython3",
   "version": "3.10.12"
  }
 },
 "nbformat": 4,
 "nbformat_minor": 5
}
