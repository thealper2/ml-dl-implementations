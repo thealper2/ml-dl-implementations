{
 "cells": [
  {
   "cell_type": "code",
   "execution_count": 1,
   "id": "f5ba0673-fca3-4df9-a9fe-5779d5dddaf0",
   "metadata": {},
   "outputs": [],
   "source": [
    "import numpy as np"
   ]
  },
  {
   "cell_type": "code",
   "execution_count": 2,
   "id": "d84bb37f-9a69-4f02-b18a-49f05149afa1",
   "metadata": {},
   "outputs": [],
   "source": [
    "def convolution_layer(X, filters, stride=1, padding=0):\n",
    "    # Girdi boyutlari\n",
    "    # Height - Width - Channels\n",
    "    (n_H, n_W, n_C) = X.shape\n",
    "    (n_F, f_H, f_W, n_C_f) = filters.shape\n",
    "\n",
    "    # Kanallarin esit olup olmadigi kontrol edilir\n",
    "    assert n_C == n_C_f, \"Filtre ve giris ayni kanal sayisina sahip olmalidir.\"\n",
    "\n",
    "    # Padding islemi uygula\n",
    "    if padding > 0:\n",
    "        X = np.pad(\n",
    "            X,\n",
    "            ((padding, padding), (padding, padding), (0, 0)),\n",
    "            mode=\"constant\"\n",
    "        )\n",
    "\n",
    "    # Cikis boyutlari\n",
    "    out_height = (n_H - f_H + 2 * padding) // stride + 1\n",
    "    out_width = (n_W - f_W + 2 * padding) // stride + 1\n",
    "\n",
    "    # Cikis matrisi\n",
    "    output = np.zeros((out_height, out_width, n_F))\n",
    "\n",
    "    # Her filtre icin convolution islemi yapilir\n",
    "    for h in range(out_height):\n",
    "        for w in range(out_width):\n",
    "            for f in range(n_F):\n",
    "                # Her cikis noktasi ile ilgili pencere secilir\n",
    "                h_start = h * stride\n",
    "                h_end = h_start + f_H\n",
    "                w_start = w * stride\n",
    "                w_end = w_start + f_W\n",
    "\n",
    "                X_slice = X[h_start:h_end, w_start:w_end, :]\n",
    "\n",
    "                # Convolution islemi\n",
    "                output[h, w, f] = np.sum(X_slice * filters[f])\n",
    "\n",
    "    return output"
   ]
  },
  {
   "cell_type": "code",
   "execution_count": 3,
   "id": "4efdb7e0-70ac-47b0-9529-8f7400bc55aa",
   "metadata": {},
   "outputs": [],
   "source": [
    "# girdi, 3x3 boyut, 1 kanal\n",
    "X = np.array([\n",
    "    [[1], [2], [3]],\n",
    "    [[4], [5], [6]],\n",
    "    [[7], [8], [9]]\n",
    "])"
   ]
  },
  {
   "cell_type": "code",
   "execution_count": 7,
   "id": "2e31b3ce-c6f1-4c27-b3d8-848cefa60dd9",
   "metadata": {},
   "outputs": [],
   "source": [
    "# 1 filtre, 2x2 boyut, 1 kanal\n",
    "filters = np.array([\n",
    "    [\n",
    "        [[1], [0]],\n",
    "        [[-1], [0]]\n",
    "    ]\n",
    "])"
   ]
  },
  {
   "cell_type": "code",
   "execution_count": 8,
   "id": "b67e80dc-021a-4e89-af86-9b05a856daee",
   "metadata": {},
   "outputs": [
    {
     "name": "stdout",
     "output_type": "stream",
     "text": [
      "Cikti: [[[-3.]\n",
      "  [-3.]]\n",
      "\n",
      " [[-3.]\n",
      "  [-3.]]]\n"
     ]
    }
   ],
   "source": [
    "# Evrisim islemi\n",
    "output = convolution_layer(X, filters, stride=1, padding=0)\n",
    "print(\"Cikti:\", output)"
   ]
  },
  {
   "cell_type": "code",
   "execution_count": 9,
   "id": "08a7fc83-6cde-40dd-b28a-b96203793388",
   "metadata": {},
   "outputs": [
    {
     "data": {
      "text/plain": [
       "(2, 2, 1)"
      ]
     },
     "execution_count": 9,
     "metadata": {},
     "output_type": "execute_result"
    }
   ],
   "source": [
    "output.shape"
   ]
  },
  {
   "cell_type": "code",
   "execution_count": null,
   "id": "e25d0354-1644-4fdd-b6f1-b456dd94b963",
   "metadata": {},
   "outputs": [],
   "source": []
  }
 ],
 "metadata": {
  "kernelspec": {
   "display_name": "Python 3 (ipykernel)",
   "language": "python",
   "name": "python3"
  },
  "language_info": {
   "codemirror_mode": {
    "name": "ipython",
    "version": 3
   },
   "file_extension": ".py",
   "mimetype": "text/x-python",
   "name": "python",
   "nbconvert_exporter": "python",
   "pygments_lexer": "ipython3",
   "version": "3.10.12"
  }
 },
 "nbformat": 4,
 "nbformat_minor": 5
}
