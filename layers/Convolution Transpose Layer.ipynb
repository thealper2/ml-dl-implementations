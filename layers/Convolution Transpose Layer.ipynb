{
 "cells": [
  {
   "cell_type": "code",
   "execution_count": 1,
   "id": "5d09aac1-adbe-41ae-9506-957d9f60a197",
   "metadata": {},
   "outputs": [],
   "source": [
    "import numpy as np"
   ]
  },
  {
   "cell_type": "code",
   "execution_count": 2,
   "id": "00e3f5c6-3385-4f39-ad28-b4ea21ff5558",
   "metadata": {},
   "outputs": [],
   "source": [
    "def conv_transpose_layer(X, kernel, stride=1, padding=0):\n",
    "    # Girdi boyutlari\n",
    "    X_h, X_w = X.shape\n",
    "\n",
    "    # Kernel boyutlari\n",
    "    k_h, k_w = kernel.shape\n",
    "\n",
    "    # Cikis boyutlari\n",
    "    out_h = (X_h - 1) * stride + k_h - 2 * padding\n",
    "    out_w = (X_w - 1) * stride + k_w - 2 * padding\n",
    "\n",
    "    # Cikti\n",
    "    output = np.zeros((out_h, out_w))\n",
    "\n",
    "    # Transpose Convolution islemi\n",
    "    for i in range(X_h):\n",
    "        for j in range(X_w):\n",
    "            output[i * stride:i * stride + k_h, j * stride:j * stride + k_w] += X[i, j] * kernel\n",
    "\n",
    "    return output"
   ]
  },
  {
   "cell_type": "code",
   "execution_count": 3,
   "id": "f2623554-03e1-455c-819b-a206cb849f22",
   "metadata": {},
   "outputs": [],
   "source": [
    "# Girdi (3x3)\n",
    "X = np.array([\n",
    "    [1, 2, 3],\n",
    "    [4, 5, 6],\n",
    "    [7, 8, 9]\n",
    "])"
   ]
  },
  {
   "cell_type": "code",
   "execution_count": 4,
   "id": "d5be5b32-5e2b-4ac9-9f33-0f0ab25a5cba",
   "metadata": {},
   "outputs": [],
   "source": [
    "# Filtre (2x2)\n",
    "kernel = np.array([\n",
    "    [1, 0],\n",
    "    [0, -1]\n",
    "])"
   ]
  },
  {
   "cell_type": "code",
   "execution_count": 5,
   "id": "b56a0159-bd41-419c-8e3b-e54e984f7a9d",
   "metadata": {},
   "outputs": [
    {
     "name": "stdout",
     "output_type": "stream",
     "text": [
      "[[ 1.  2.  3.  0.]\n",
      " [ 4.  4.  4. -3.]\n",
      " [ 7.  4.  4. -6.]\n",
      " [ 0. -7. -8. -9.]]\n"
     ]
    }
   ],
   "source": [
    "output = conv_transpose_layer(X, kernel, stride=1, padding=0)\n",
    "print(output)"
   ]
  },
  {
   "cell_type": "code",
   "execution_count": null,
   "id": "33767c44-b133-44db-90d4-17a57f085cfa",
   "metadata": {},
   "outputs": [],
   "source": []
  }
 ],
 "metadata": {
  "kernelspec": {
   "display_name": "Python 3 (ipykernel)",
   "language": "python",
   "name": "python3"
  },
  "language_info": {
   "codemirror_mode": {
    "name": "ipython",
    "version": 3
   },
   "file_extension": ".py",
   "mimetype": "text/x-python",
   "name": "python",
   "nbconvert_exporter": "python",
   "pygments_lexer": "ipython3",
   "version": "3.10.12"
  }
 },
 "nbformat": 4,
 "nbformat_minor": 5
}
