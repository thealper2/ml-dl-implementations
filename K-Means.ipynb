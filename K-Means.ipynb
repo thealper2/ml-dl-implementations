{
 "cells": [
  {
   "cell_type": "markdown",
   "id": "19ed168f-36ed-4950-81e8-f9a9cf8181a6",
   "metadata": {},
   "source": [
    "# Problem Ne"
   ]
  },
  {
   "cell_type": "markdown",
   "id": "ba7982ec-01a4-49f0-a351-014524bc08be",
   "metadata": {},
   "source": [
    "- k = 2 için aşağıdaki belgeleri kmeans ile kümeleyelim.\n",
    "\n",
    "|  | X | Y |\n",
    "| - | - | -  |\n",
    "| Belge 1 | 4 | 2 |\n",
    "| Belge 2 | 6 | 4 |\n",
    "| Belge 3 | 5 | 1 |\n",
    "| Belge 4 | 10 | 6 |\n",
    "| Belge 5 | 11 | 8 |"
   ]
  },
  {
   "cell_type": "markdown",
   "id": "6f86e7a1-0217-47ad-8fc2-3ceecf677d3b",
   "metadata": {},
   "source": [
    "# Matematiksel Çözüm"
   ]
  },
  {
   "cell_type": "markdown",
   "id": "d4c6366f-8f1f-49d7-bee6-2227609d071a",
   "metadata": {},
   "source": [
    "Başlangıç adımında kümelerin rastgele atanarak:\n",
    "- $K_1$ = {Belge 1, Belge 2, Belge 4}\n",
    "- $K_2$ = {Belge 3, Belge 5}, olduğunu varsayalım."
   ]
  },
  {
   "cell_type": "markdown",
   "id": "2a31f29f-8f9b-40c9-9a4c-9032b526fb98",
   "metadata": {},
   "source": [
    "Buradan elemanları kullanarak her bir küme için merkezi hesaplayalım. Önce her bir küme içerisindeki X değerleri toplanıp o küme içerisindeki eleman sayısını bölünür. Daha sonra aynı işlem Y değerleri için yapılır.\n",
    "\n",
    "- $K_1$ = {(4 + 6 + 10) / 3, (2 + 4 + 6) / 3)} = {6.67, 4}]\n",
    "- $K_2$ = {(5 + 11) / 2, (1 + 8) / 2} = {8, 4.5}, başlangıç için küme merkezlerimiz bunlardır."
   ]
  },
  {
   "cell_type": "markdown",
   "id": "30112d1b-102f-40f2-9395-de154dafa8f8",
   "metadata": {},
   "source": [
    "Şimdi bu işlemleri bir iterasyon boyunca devam ettirerek k-means'i kümelemesini yapalım. Uzaklık hesaplaması için \"Euclidean Distance (Öklid Mesafesi)\" kullanacağız. Öklid mesafesinin formülü;\n",
    "\n",
    "$ \\sqrt{(x - M_x)^2 + (y - M_y)^2} $\n",
    "\n",
    "Burada:\n",
    "- $x$: Mevcut veri noktasının x değeri.\n",
    "- $y$: Mevcut veri noktasının y değeri.\n",
    "- $M_x$: Küme merkezi noktasının x değeri.\n",
    "- $M_y$: Küme merkezi noktasının y değeri."
   ]
  },
  {
   "cell_type": "markdown",
   "id": "1707bad8-0e50-473f-85b3-db3f2c06997e",
   "metadata": {},
   "source": [
    "MAX_ITER = 0 için (Bir nokta için M1 ve M2 mesafelerinden hangisi küçükse nokta o kümeye atanır.);\n",
    "\n",
    "| | M1 | M2 | k |\n",
    "| - | - | - | - |\n",
    "| $X_1$ | $ \\sqrt{(4 - 6.67)^2 + (2 - 4)^2} = 3.33 $ | $\\sqrt{(4 - 8)^2 + (2 - 4.5)^2} = 4.71 $ | $K_1$ |\n",
    "| $X_2$ | $ \\sqrt{(6 - 6.67)^2 + (4 - 4)^2} = 0.66 $ | $\\sqrt{(6 - 8)^2 + (4 - 4.5)^2} = 2.06 $ | $K_1$ |\n",
    "| $X_3$ | $ \\sqrt{(5 - 6.67)^2 + (1 - 4)^2} = 3.43 $ | $\\sqrt{(5 - 8)^2 + (1 - 4.5)^2} = 4.60 $ | $K_1$ |\n",
    "| $X_4$ | $ \\sqrt{(10 - 6.67)^2 + (6 - 4)^2} = 3.88 $ | $\\sqrt{(10 - 8)^2 + (6 - 4.5)^2} = 2.50 $ | $K_2$ |\n",
    "| $X_5$ | $ \\sqrt{(11 - 6.67)^2 + (8 - 4)^2} = 5.89 $ | $\\sqrt{(11 - 8)^2 + (8 - 4.5)^2} = 4.60 $ | $K_2$ |"
   ]
  },
  {
   "cell_type": "markdown",
   "id": "f5c47699-b807-404a-9a61-c797ed0cd65b",
   "metadata": {},
   "source": [
    "Başlangıç adımında $K_1$ kümemiz {Belge 1, Belge 2, Belge 4} ve $K_2$ kümemiz {Belge 3, Belge 5} belgelerinden oluşuyordu. Fakat ilk iterasyondan sonra görünüyorki Belge 3 $K_1$ kümesine, Belge 4 ise $K_2$ kümesine daha yakın. Dolayısıyla yeni kümelerimiz artık;\n",
    "\n",
    "- $K_1$ = {Belge 1, Belge 2, Belge 3}\n",
    "- $K_2$ = {Belge 4, Belge 5}, olmuş oldu.\n",
    "\n",
    "Şimdi yeni küme merkezlerimizi hesaplayalım.\n",
    "\n",
    "- $K_1$ = {(4 + 6 + 5) / 3, (2 + 4 + 1) / 3)} = {5, 2.33}]\n",
    "- $K_2$ = {(10 + 11) / 2, (6 + 8) / 2} = {10.5, 7}, yeni küme merkezlerimiz bunlardır."
   ]
  },
  {
   "cell_type": "markdown",
   "id": "1083b04a-ac32-471a-a813-c6977db4f259",
   "metadata": {},
   "source": [
    "MAX_ITER = 1 için;\n",
    "\n",
    "| | M1 | M2 | K (Eski) | K (Yeni) |\n",
    "| - | - | - | - | - |\n",
    "| $X_1$ | $ \\sqrt{(4 - 5)^2 + (2 - 2.33)^2} = 1.05 $ | $\\sqrt{(4 - 10.5)^2 + (2 - 7)^2} = 8.20 $ | $K_1$ | $K_1$ |\n",
    "| $X_2$ | $ \\sqrt{(6 - 5)^2 + (4 - 2.33)^2} = 1.94 $ | $\\sqrt{(6 - 10.5)^2 + (4 - 7)^2} = 5.40 $ | $K_1$ | $K_1$ | \n",
    "| $X_3$ | $ \\sqrt{(5 - 5)^2 + (1 - 2.33)^2} = 1.33 $ | $\\sqrt{(5 - 10.5)^2 + (1 - 7)^2} = 8.13 $ | $K_1$ | $K_1$ | \n",
    "| $X_4$ | $ \\sqrt{(10 - 5)^2 + (6 - 2.33)^2} = 6.20 $ | $\\sqrt{(10 - 10.5)^2 + (6 - 7)^2} = 1.11 $ | $K_2$ | $K_2$ |\n",
    "| $X_5$ | $ \\sqrt{(11 - 5)^2 + (8 - 2.33)^2} = 8.25 $ | $\\sqrt{(11 - 10.5)^2 + (8 - 7)^2} = 1.11 $ | $K_2$ | $K_2$ | "
   ]
  },
  {
   "cell_type": "markdown",
   "id": "6e29010b-a10b-4bed-8ce3-089ce6a9da76",
   "metadata": {},
   "source": [
    "Son adımdan da görüneceği gibi K (Eski) ve K (Yeni) sütunları birbirinin aynısı oldu. Yani nihai sonucu elde ettik. Bundan sonra iterasyon yapmamıza gerek yok. \n",
    "\n",
    "**Not**: Burada 2 adımda nihai sonucu elde ettik. K değerimiz de 2 idi. Genellikle iterasyon sayısı ve k değeri karıştırılır. K değeri kadar iterasyon yapılacağı düşünülür. Fakat bu tamamen yanlıştır."
   ]
  },
  {
   "cell_type": "markdown",
   "id": "f6f28963-7d71-4405-a493-b04f01699558",
   "metadata": {},
   "source": [
    "# Gerekli Kütüphaneler"
   ]
  },
  {
   "cell_type": "code",
   "execution_count": 98,
   "id": "ad7e5ec0-dc06-4596-a1d6-7b5aa67704c2",
   "metadata": {},
   "outputs": [],
   "source": [
    "import numpy as np\n",
    "import pandas as pd\n",
    "import random"
   ]
  },
  {
   "cell_type": "markdown",
   "id": "35c29a48-73dc-4618-9d57-ff7ac633e4db",
   "metadata": {},
   "source": [
    "# K-Means Implementasyonu"
   ]
  },
  {
   "cell_type": "code",
   "execution_count": 99,
   "id": "d400bab2-c740-492d-8ab8-b02b5b137961",
   "metadata": {},
   "outputs": [],
   "source": [
    "class KMeans:\n",
    "    def __init__(self, n_clusters=2, max_iter=300):\n",
    "        # Oluşturulacak küme sayısı (k)\n",
    "        self.n_clusters = n_clusters\n",
    "        # Maksimum iterasyon sayısı\n",
    "        self.max_iter = max_iter\n",
    "        # Küme merkezleri\n",
    "        self.centroids = None\n",
    "\n",
    "    def initialize_centroids(self, X):\n",
    "        # İlk olarak merkez rastgele seçilir.\n",
    "        centroids = [random.choice(X)]\n",
    "\n",
    "        # \"Euclidean Distance (Öklid mesafesi)\" ile diğer merkezler uzaklıklara göre seçilir. (K-Means++)\n",
    "        for _ in range(1, self.n_clusters):\n",
    "            # Her bir noktanın mevcut merkezlere olan minimum uzaklığı hesaplanır.\n",
    "            distances = np.min(np.linalg.norm(X - np.array(centroids)[:, np.newaxis], axis=2), axis=0)\n",
    "            # Olasılıklar normalize edilir.\n",
    "            distances /= np.sum(distances)\n",
    "\n",
    "            # Uzaklık olasılıklarına göre yeni merkez seçilir.\n",
    "            next_centroid = X[np.random.choice(len(X), p=distances)]\n",
    "            centroids.append(next_centroid)\n",
    "\n",
    "        return np.array(centroids).astype(\"float32\")\n",
    "\n",
    "    def assign_clusters(self, X):\n",
    "        # Her nokta en yakın merkeze atanır.\n",
    "        distances = np.linalg.norm(X[:, np.newaxis] - self.centroids, axis=2).astype(\"float32\")\n",
    "        return np.argmin(distances, axis=1)\n",
    "\n",
    "    def update_centroids(self, X, labels):\n",
    "        # Her kümenin yeni merkezini hesaplanır.\n",
    "        new_centroids = np.array([X[labels == i].mean(axis=0) if len(X[labels == i]) > 0 else self.centroids[i]\n",
    "                                  for i in range(self.n_clusters)]).astype(\"float32\")\n",
    "        return new_centroids\n",
    "\n",
    "    def fit(self, X):\n",
    "        # Merkezler başlatılır.\n",
    "        self.centroids = self.initialize_centroids(X)\n",
    "\n",
    "        for _ in range(self.max_iter):\n",
    "            # Her nokta en yakın merkeze atanır.\n",
    "            labels = self.assign_clusters(X)\n",
    "\n",
    "            # Yeni merkezler hesaplanır.\n",
    "            new_centroids = self.update_centroids(X, labels)\n",
    "\n",
    "            # Merkezler değişmediyse işlem tamamlanmıştır.\n",
    "            if np.allclose(self.centroids, new_centroids):\n",
    "                break\n",
    "\n",
    "            # Merkezler değiştiyse yeni merkezler mevcut merkezlerin yerine atanır.\n",
    "            self.centroids = new_centroids\n",
    "\n",
    "    def predict(self, X):\n",
    "        # Her veri noktası için en yakın merkezin indeksi alınır.\n",
    "        labels = self.assign_clusters(X)\n",
    "        # En yakın merkezin koordinatları döndürülür.\n",
    "        labels_coords = np.array([self.centroids[label] for label in labels]).astype(\"float32\")\n",
    "        return labels_coords, labels"
   ]
  },
  {
   "cell_type": "markdown",
   "id": "e3af388d-83fb-48be-9f8b-bba72743eb56",
   "metadata": {},
   "source": [
    "# Eğitim"
   ]
  },
  {
   "cell_type": "code",
   "execution_count": 100,
   "id": "34b49c70-1b25-498a-95ec-988283cdc952",
   "metadata": {},
   "outputs": [],
   "source": [
    "X = np.array([\n",
    "    [4, 2],\n",
    "    [6, 4],\n",
    "    [5, 1],\n",
    "    [10, 6],\n",
    "    [11, 8]\n",
    "])"
   ]
  },
  {
   "cell_type": "code",
   "execution_count": 101,
   "id": "e37dfff8-8aae-443a-8422-50dd98d561ae",
   "metadata": {},
   "outputs": [],
   "source": [
    "kmeans = KMeans(n_clusters=2)\n",
    "kmeans.fit(X)"
   ]
  },
  {
   "cell_type": "markdown",
   "id": "27546143-033d-4d09-acdd-3e177da9a0ca",
   "metadata": {},
   "source": [
    "# Tahmin"
   ]
  },
  {
   "cell_type": "code",
   "execution_count": 102,
   "id": "86d5e980-4268-4cd8-b42d-f5c9736b4741",
   "metadata": {},
   "outputs": [],
   "source": [
    "cluster_centers, classification = kmeans.predict(X)"
   ]
  },
  {
   "cell_type": "code",
   "execution_count": 103,
   "id": "f0a51c71-1055-4dfe-930a-62dfc0339072",
   "metadata": {},
   "outputs": [
    {
     "data": {
      "text/plain": [
       "(array([[ 5.       ,  2.3333333],\n",
       "        [ 5.       ,  2.3333333],\n",
       "        [ 5.       ,  2.3333333],\n",
       "        [10.5      ,  7.       ],\n",
       "        [10.5      ,  7.       ]], dtype=float32),\n",
       " array([1, 1, 1, 0, 0]))"
      ]
     },
     "execution_count": 103,
     "metadata": {},
     "output_type": "execute_result"
    }
   ],
   "source": [
    "cluster_centers, classification"
   ]
  },
  {
   "cell_type": "markdown",
   "id": "62045e00-0be0-43dc-bf92-8d528191bbdc",
   "metadata": {},
   "source": [
    "# Sonuç"
   ]
  },
  {
   "cell_type": "markdown",
   "id": "615c035d-43af-485c-abb0-08b275bb16b0",
   "metadata": {},
   "source": [
    "Göründüğü üzere matematiksel ispat ile aynı sonuçları elde ettik."
   ]
  }
 ],
 "metadata": {
  "kernelspec": {
   "display_name": "Python 3 (ipykernel)",
   "language": "python",
   "name": "python3"
  },
  "language_info": {
   "codemirror_mode": {
    "name": "ipython",
    "version": 3
   },
   "file_extension": ".py",
   "mimetype": "text/x-python",
   "name": "python",
   "nbconvert_exporter": "python",
   "pygments_lexer": "ipython3",
   "version": "3.10.12"
  }
 },
 "nbformat": 4,
 "nbformat_minor": 5
}
