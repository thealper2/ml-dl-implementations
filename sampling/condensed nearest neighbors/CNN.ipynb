{
 "cells": [
  {
   "cell_type": "code",
   "execution_count": 1,
   "id": "ccf18103-3a1f-4fc4-878b-4e97179266b8",
   "metadata": {},
   "outputs": [],
   "source": [
    "import random\n",
    "import numpy as np\n",
    "import matplotlib.pyplot as plt\n",
    "from collections import Counter\n",
    "from sklearn.datasets import load_iris\n",
    "from sklearn.neighbors import KNeighborsClassifier\n",
    "from sklearn.model_selection import train_test_split"
   ]
  },
  {
   "cell_type": "code",
   "execution_count": 2,
   "id": "aa7f0439-3422-4a13-8b9d-047ea4aa9688",
   "metadata": {},
   "outputs": [],
   "source": [
    "X, y = load_iris(return_X_y=True)"
   ]
  },
  {
   "cell_type": "code",
   "execution_count": 3,
   "id": "7318a58e-aa7f-4840-8828-441fc916d540",
   "metadata": {},
   "outputs": [],
   "source": [
    "X_train, X_test, y_train, y_test = train_test_split(X, y, test_size=0.15, random_state=42)"
   ]
  },
  {
   "cell_type": "code",
   "execution_count": 4,
   "id": "88d522e3-6e15-4d4c-9aa8-c16c261f8c4d",
   "metadata": {},
   "outputs": [],
   "source": [
    "class CondensedNearestNeighbors:\n",
    "    def __init__(self, k_neighbors=1):\n",
    "        self.k_neighbors = k_neighbors\n",
    "\n",
    "    def fit_resample(self, X, y):\n",
    "        class_counts = Counter(y)\n",
    "        min_class_size = min(class_counts.values())\n",
    "        classes = np.unique(y)\n",
    "\n",
    "        X_resampled = []\n",
    "        y_resampled = []\n",
    "\n",
    "        for class_label in classes:\n",
    "            X_class = X[y == class_label]\n",
    "            y_class = y[y == class_label]\n",
    "\n",
    "            idx_selected = [0]\n",
    "            knn = KNeighborsClassifier(n_neighbors=self.k_neighbors)\n",
    "\n",
    "            while len(idx_selected) < min_class_size:\n",
    "                X_selected = X_class[idx_selected]\n",
    "                y_selected = y_class[idx_selected]\n",
    "\n",
    "                knn.fit(X_selected, y_selected)\n",
    "\n",
    "                for i in range(len(X_class)):\n",
    "                    if i not in idx_selected:\n",
    "                        y_pred = knn.predict([X_class[i]])\n",
    "                        if y_pred != y_class[i]:\n",
    "                            idx_selected.append(i)\n",
    "\n",
    "                if len(idx_selected) > min_class_size:\n",
    "                    idx_selected = np.random.choice(idx_selected, min_class_size, replace=False)\n",
    "\n",
    "            X_resampled.append(X_class[idx_selected])\n",
    "            y_resampled.append(y_class[idx_selected])\n",
    "\n",
    "        X_resampled = np.vstack(X_resampled)\n",
    "        y_resampled = np.hstack(y_resampled)\n",
    "        return X_resampled, y_resampled"
   ]
  },
  {
   "cell_type": "code",
   "execution_count": null,
   "id": "3dc497b7-1df5-4666-bb96-7fcb919e5e0c",
   "metadata": {},
   "outputs": [],
   "source": [
    "cnn = CondensedNearestNeighbors()\n",
    "X_train_resampled, y_train_resampled = cnn.fit_resample(X_train, y_train)"
   ]
  },
  {
   "cell_type": "code",
   "execution_count": null,
   "id": "1d91e2c1-d838-4da1-983b-84a8235a0374",
   "metadata": {},
   "outputs": [],
   "source": [
    "print(\"y_train:\", Counter(y_train))\n",
    "print(\"y_train_resampled:\", Counter(y_train_resampled))"
   ]
  },
  {
   "cell_type": "code",
   "execution_count": null,
   "id": "768d1d5b-50e8-47d9-a3b9-a06babbf27a4",
   "metadata": {},
   "outputs": [],
   "source": [
    "plt.figure(figsize=(12, 8))\n",
    "plt.scatter(X_train[:, 0], y_train, color=\"r\", marker=\"o\")\n",
    "plt.scatter(X_train_resampled[:, 0], y_train_resampled, color=\"b\", marker=\"*\")\n",
    "plt.legend([\"Raw Data\", \"CNN Generated\"])\n",
    "plt.show()"
   ]
  },
  {
   "cell_type": "code",
   "execution_count": null,
   "id": "63ad1dfd-5f03-465d-ac81-da5184382cfe",
   "metadata": {},
   "outputs": [],
   "source": []
  }
 ],
 "metadata": {
  "kernelspec": {
   "display_name": "Python 3 (ipykernel)",
   "language": "python",
   "name": "python3"
  },
  "language_info": {
   "codemirror_mode": {
    "name": "ipython",
    "version": 3
   },
   "file_extension": ".py",
   "mimetype": "text/x-python",
   "name": "python",
   "nbconvert_exporter": "python",
   "pygments_lexer": "ipython3",
   "version": "3.10.12"
  }
 },
 "nbformat": 4,
 "nbformat_minor": 5
}
