{
 "cells": [
  {
   "cell_type": "code",
   "execution_count": 4,
   "id": "707fe31c-76a4-4d8f-adb9-b2124de0e482",
   "metadata": {},
   "outputs": [],
   "source": [
    "import random\n",
    "import numpy as np\n",
    "import matplotlib.pyplot as plt\n",
    "from collections import Counter\n",
    "from sklearn.datasets import load_iris\n",
    "from sklearn.neighbors import KNeighborsClassifier\n",
    "from sklearn.model_selection import train_test_split"
   ]
  },
  {
   "cell_type": "code",
   "execution_count": 2,
   "id": "a2fabe1e-5298-431e-84f0-77beff18256f",
   "metadata": {},
   "outputs": [],
   "source": [
    "X, y = load_iris(return_X_y=True)"
   ]
  },
  {
   "cell_type": "code",
   "execution_count": 3,
   "id": "dd83f081-45ae-48f7-98c4-2641ac78fa68",
   "metadata": {},
   "outputs": [],
   "source": [
    "X_train, X_test, y_train, y_test = train_test_split(X, y, test_size=0.15, random_state=42)"
   ]
  },
  {
   "cell_type": "code",
   "execution_count": 7,
   "id": "7b515ba7-2b32-4254-a9e3-68832bec2e7b",
   "metadata": {},
   "outputs": [],
   "source": [
    "class OneSidedSelection:\n",
    "    def __init__(self, k_neighbors=1):\n",
    "        self.k_neighbors = k_neighbors\n",
    "\n",
    "    def fit_resample(self, X, y):\n",
    "        class_counts = Counter(y)\n",
    "        minority_class = min(class_counts, key=class_counts.get)\n",
    "        minority_class_size = class_counts[minority_class]\n",
    "\n",
    "        X_resampled = []\n",
    "        y_resampled = []\n",
    "\n",
    "        for class_label, count in class_counts.items():\n",
    "            X_class = X[y == class_label]\n",
    "\n",
    "            if class_label != minority_class:\n",
    "                knn = KNeighborsClassifier(n_neighbors=self.k_neighbors)\n",
    "                knn.fit(X_class, np.full(X_class.shape[0], class_label))\n",
    "\n",
    "                selected_samples = []\n",
    "                for sample in X_class:\n",
    "                    neighbors = knn.kneighbors([sample], return_distance=False).flatten()\n",
    "                    if np.all(y[neighbors] == class_label):\n",
    "                        selected_samples.append(sample)\n",
    "\n",
    "                selected_samples = np.array(selected_samples)\n",
    "                if len(selected_samples) > minority_class_size:\n",
    "                    selected_samples = selected_samples[np.random.choice(len(selected_samples), \n",
    "                                                                         minority_class_size, \n",
    "                                                                         replace=False)]\n",
    "\n",
    "                X_resampled.append(selected_samples)\n",
    "                y_resampled.append(np.full(minority_class_size, class_label))\n",
    "            else:\n",
    "                X_resampled.append(X_class)\n",
    "                y_resampled.append(np.full(X_class.shape[0], class_label))\n",
    "\n",
    "        X_resampled = np.vstack(X_resampled)\n",
    "        y_resampled = np.hstack(y_resampled)\n",
    "\n",
    "        return X_resampled, y_resampled"
   ]
  },
  {
   "cell_type": "code",
   "execution_count": 9,
   "id": "e4704b42-f305-418f-982e-2616743b76b4",
   "metadata": {},
   "outputs": [],
   "source": [
    "oss = OneSidedSelection(k_neighbors=1)\n",
    "X_train_resampled, y_train_resampled = oss.fit_resample(X_train, y_train)"
   ]
  },
  {
   "cell_type": "code",
   "execution_count": 10,
   "id": "adcbb9fc-9382-4a80-9bed-a07df60bfab4",
   "metadata": {},
   "outputs": [
    {
     "name": "stdout",
     "output_type": "stream",
     "text": [
      "y_train: Counter({2: 44, 0: 42, 1: 41})\n",
      "y_train_resampled: Counter({2: 41, 0: 41, 1: 41})\n"
     ]
    }
   ],
   "source": [
    "print(\"y_train:\", Counter(y_train))\n",
    "print(\"y_train_resampled:\", Counter(y_train_resampled))"
   ]
  },
  {
   "cell_type": "code",
   "execution_count": null,
   "id": "2bccc223-e2cb-4866-a5a9-7e2a03b7bdb3",
   "metadata": {},
   "outputs": [],
   "source": []
  }
 ],
 "metadata": {
  "kernelspec": {
   "display_name": "Python 3 (ipykernel)",
   "language": "python",
   "name": "python3"
  },
  "language_info": {
   "codemirror_mode": {
    "name": "ipython",
    "version": 3
   },
   "file_extension": ".py",
   "mimetype": "text/x-python",
   "name": "python",
   "nbconvert_exporter": "python",
   "pygments_lexer": "ipython3",
   "version": "3.10.12"
  }
 },
 "nbformat": 4,
 "nbformat_minor": 5
}
