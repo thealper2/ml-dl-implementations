{
 "cells": [
  {
   "cell_type": "code",
   "execution_count": 1,
   "id": "8be76824-7a2b-4e14-acc6-c00e1b92a25e",
   "metadata": {},
   "outputs": [],
   "source": [
    "import numpy as np"
   ]
  },
  {
   "cell_type": "code",
   "execution_count": 23,
   "id": "02cb76ee-7247-4134-ba10-b55e736db0ae",
   "metadata": {},
   "outputs": [],
   "source": [
    "class FTRL:\n",
    "    def __init__(self, learning_rate=0.1, l1_term=0.1, l2_term=0.1):\n",
    "        self.learning_rate = learning_rate\n",
    "        self.l1_term = l1_term\n",
    "        self.l2_term = l2_term\n",
    "\n",
    "    def update(self, params, grads):\n",
    "        z = [np.zeros_like(param) for param in params]\n",
    "        n = [np.zeros_like(param) for param in params]\n",
    "        \n",
    "        updated_params = []\n",
    "        for i, (param, grad) in enumerate(zip(params, grads)):\n",
    "            n[i] += grad ** 2\n",
    "            sigma = (np.sqrt(n[i]) - np.sqrt(n[i] - grad ** 2)) / self.learning_rate\n",
    "            z[i] += grad - sigma * param\n",
    "\n",
    "            updated_param = np.where(\n",
    "                np.abs(z[i]) > self.l1_term,\n",
    "                - (z[i] - np.sign(z[i]) * self.l1_term) / ((1 + np.sqrt(n[i])) / self.learning_rate + self.l2_term),\n",
    "                0.0\n",
    "            )\n",
    "            updated_params.append(updated_param)\n",
    "        \n",
    "        return updated_params"
   ]
  },
  {
   "cell_type": "code",
   "execution_count": 28,
   "id": "cd3bad99-93c0-4e30-93e1-372c73c2e22d",
   "metadata": {},
   "outputs": [],
   "source": [
    "params = np.array([0.0])\n",
    "grads = np.array([-6.0])"
   ]
  },
  {
   "cell_type": "code",
   "execution_count": 29,
   "id": "4cfb2f69-927e-4942-bb3d-eb624c5cb15b",
   "metadata": {},
   "outputs": [
    {
     "data": {
      "text/plain": [
       "[array(0.08416548)]"
      ]
     },
     "execution_count": 29,
     "metadata": {},
     "output_type": "execute_result"
    }
   ],
   "source": [
    "ftrl = FTRL()\n",
    "ftrl.update(params, grads)"
   ]
  },
  {
   "cell_type": "code",
   "execution_count": null,
   "id": "a810dcde-8c23-461a-bee1-1bd29910f64b",
   "metadata": {},
   "outputs": [],
   "source": []
  }
 ],
 "metadata": {
  "kernelspec": {
   "display_name": "Python 3 (ipykernel)",
   "language": "python",
   "name": "python3"
  },
  "language_info": {
   "codemirror_mode": {
    "name": "ipython",
    "version": 3
   },
   "file_extension": ".py",
   "mimetype": "text/x-python",
   "name": "python",
   "nbconvert_exporter": "python",
   "pygments_lexer": "ipython3",
   "version": "3.10.12"
  }
 },
 "nbformat": 4,
 "nbformat_minor": 5
}
