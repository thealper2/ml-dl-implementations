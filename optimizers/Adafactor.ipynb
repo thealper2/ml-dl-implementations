{
 "cells": [
  {
   "cell_type": "code",
   "execution_count": 2,
   "id": "cf0a683d-e19b-4b91-a2d7-f1cea1f21940",
   "metadata": {},
   "outputs": [],
   "source": [
    "import numpy as np"
   ]
  },
  {
   "cell_type": "code",
   "execution_count": 3,
   "id": "61e5ce32-ed47-4e28-98f4-eb23c98fc4a3",
   "metadata": {},
   "outputs": [],
   "source": [
    "class Adafactor:\n",
    "    def __init__(self, learning_rate=1e-3, beta1=0.9, beta2=0.999, eps=1e-8, clip_threshold=1.0):\n",
    "        self.learning_rate = learning_rate\n",
    "        self.beta1 = beta1\n",
    "        self.beta2 = beta2\n",
    "        self.eps = eps\n",
    "        self.clip_threshold = clip_threshold\n",
    "    \n",
    "    def update(self, params, grads):\n",
    "        m = [np.zeros_like(param) for param in params]\n",
    "        v = [np.zeros_like(param) for param in params]\n",
    "\n",
    "        updated_params = []\n",
    "        for i, (param, grad) in enumerate(zip(params, grads)):\n",
    "            grad_squared = grad ** 2\n",
    "            if grad.ndim > 1:\n",
    "                row_mean = np.mean(grad_squared, axis=-1, keepdims=True)\n",
    "                col_mean = np.mean(grad_squared, axis=-2, keepdims=True)\n",
    "                m[i] = self.beta2 * m[i] + (1 - self.beta2) * grad_squared\n",
    "                r_factor = row_mean\n",
    "                c_factor = col_mean\n",
    "            else:\n",
    "                m[i] = self.beta2 * m[i] + (1 - self.beta2) * grad_squared\n",
    "                r_factor = c_factor = m[i]\n",
    "\n",
    "            grad_norm = np.linalg.norm(grad)\n",
    "            if grad_norm > self.clip_threshold:\n",
    "                grad = grad * (self.clip_threshold / grad_norm)\n",
    "\n",
    "            v[i] = self.beta1 * v[i] + (1 - self.beta1) * grad\n",
    "\n",
    "            update_step = grad / (np.sqrt(r_factor * c_factor) + self.eps)\n",
    "            param_update = param - self.learning_rate * update_step\n",
    "            updated_params.append(param_update)\n",
    "\n",
    "        return updated_params"
   ]
  },
  {
   "cell_type": "code",
   "execution_count": 4,
   "id": "ddecc49f-33ef-4ff5-96dd-b74e1d70ae68",
   "metadata": {},
   "outputs": [],
   "source": [
    "params = np.array([2.0])\n",
    "grads = np.array([4.0])"
   ]
  },
  {
   "cell_type": "code",
   "execution_count": 5,
   "id": "7bee854e-383b-41a7-9674-db0088de48bf",
   "metadata": {},
   "outputs": [
    {
     "data": {
      "text/plain": [
       "[1.9375000390624757]"
      ]
     },
     "execution_count": 5,
     "metadata": {},
     "output_type": "execute_result"
    }
   ],
   "source": [
    "adafactor = Adafactor()\n",
    "adafactor.update(params, grads)"
   ]
  },
  {
   "cell_type": "code",
   "execution_count": null,
   "id": "18007e4a-bb97-4129-9363-660177a8a589",
   "metadata": {},
   "outputs": [],
   "source": []
  }
 ],
 "metadata": {
  "kernelspec": {
   "display_name": "Python 3 (ipykernel)",
   "language": "python",
   "name": "python3"
  },
  "language_info": {
   "codemirror_mode": {
    "name": "ipython",
    "version": 3
   },
   "file_extension": ".py",
   "mimetype": "text/x-python",
   "name": "python",
   "nbconvert_exporter": "python",
   "pygments_lexer": "ipython3",
   "version": "3.10.12"
  }
 },
 "nbformat": 4,
 "nbformat_minor": 5
}
