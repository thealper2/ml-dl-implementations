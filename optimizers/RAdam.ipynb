{
 "cells": [
  {
   "cell_type": "code",
   "execution_count": 4,
   "id": "927d423b-2785-41a1-84d1-166f1aba41c6",
   "metadata": {},
   "outputs": [],
   "source": [
    "import numpy as np"
   ]
  },
  {
   "cell_type": "code",
   "execution_count": null,
   "id": "507315df-d97f-44e6-9846-9a1f6a027f53",
   "metadata": {},
   "outputs": [],
   "source": [
    "class Adadelta:\n",
    "    def __init__(self, rho=0.95, epsilon=1e-6, num_iterations=1000):\n",
    "        self.rho = rho\n",
    "        self.epsilon = epsilon\n",
    "        self.num_iterations = num_iterations\n",
    "\n",
    "    def loss_function(self, X, y):\n",
    "        m = len(y)\n",
    "        predictions = self.theta * X\n",
    "        return (1 / m) * np.sum((predictions - y) ** 2)\n",
    "\n",
    "    def grad(self, X, y):\n",
    "        return 2 / len(X) * X.T.dot(X.dot(self.theta) - y)    \n",
    "\n",
    "    def fit(self, X, y):\n",
    "        X = np.c_[np.ones((X.shape[0], 1)), X]\n",
    "\n",
    "        self.theta = np.zeros(X.shape[1])\n",
    "\n",
    "        Eg2 = np.zeros(X.shape[1])\n",
    "        Edx2 = np.zeros(X.shape[1])\n",
    "\n",
    "        for iteration in range(1, self.num_iterations + 1):\n",
    "            gradients = self.grad(X, y)\n",
    "\n",
    "            Eg2 = self.rho * Eg2 + (1 - self.rho) * gradients**2\n",
    "\n",
    "            dx = -np.sqrt(Edx2 + self.epsilon) / np.sqrt(Eg2 + self.epsilon) * gradients\n",
    "            Edx2 = self.rho * Edx2 + (1 - self.rho) * dx**2\n",
    "\n",
    "            self.theta += dx\n",
    "\n",
    "            if iteration % 100 == 0:\n",
    "                loss = self.loss_function(X, y)\n",
    "\n",
    "    def predict(self, X):\n",
    "        X = np.c_[np.ones((X.shape[0], 1)), X]\n",
    "        return X.dot(self.theta)"
   ]
  },
  {
   "cell_type": "code",
   "execution_count": 35,
   "id": "85ef76ee-28a7-4c82-b7a1-d98b74d259b6",
   "metadata": {},
   "outputs": [],
   "source": [
    "class RAdam:\n",
    "    def __init__(self, learning_rate=0.001, beta1=0.9, beta2=0.999, eps=1e-8, weight_decay=0, num_iterations=1000):\n",
    "        self.learning_rate = learning_rate\n",
    "        self.beta1 = beta1\n",
    "        self.beta2 = beta2\n",
    "        self.eps = eps\n",
    "        self.weight_decay = weight_decay\n",
    "        self.num_iterations = num_iterations\n",
    "\n",
    "    def loss_function(self, X, y):\n",
    "        return np.mean((X.dot(self.theta) - y) ** 2)\n",
    "\n",
    "    def grad(self, X, y):\n",
    "        return 2 / len(X) * X.T.dot(X.dot(self.theta) - y)    \n",
    "\n",
    "    def fit(self, X, y):\n",
    "        X = np.c_[np.ones((X.shape[0], 1)), X]\n",
    "\n",
    "        self.theta = np.zeros(X.shape[1])\n",
    "        self.m = np.zeros(X.shape[1])\n",
    "        self.v = np.zeros(X.shape[1])\n",
    "        self.t = 0\n",
    "\n",
    "        for iteration in range(1, self.num_iterations + 1):\n",
    "            gradients = self.grad(X, y)\n",
    "\n",
    "            self.t += 1\n",
    "            self.m = self.beta1 * self.m + (1 - self.beta1) * gradients\n",
    "            self.v = self.beta2 * self.v + (1 - self.beta2) * gradients**2\n",
    "\n",
    "            m_hat = self.m / (1 - self.beta1**self.t)\n",
    "            v_hat = self.v / (1 - self.beta2**self.t)\n",
    "\n",
    "            rho_inf = 2 / (1 - self.beta2) - 1\n",
    "            rho_t = rho_inf - 2 * self.t * (self.beta2**self.t) / (1 - self.beta2**self.t)\n",
    "\n",
    "            if rho_t > 4:\n",
    "                r_t = np.sqrt((rho_t - 4) * (rho_t - 2) * rho_inf / ((rho_inf - 4) * (rho_inf - 2) * rho_t))\n",
    "                lr_t = self.learning_rate * r_t / (np.sqrt(v_hat) + self.eps)\n",
    "            else:\n",
    "                lr_t = self.learning_rate / (np.sqrt(v_hat) + self.eps)\n",
    "\n",
    "            self.theta -= lr_t * m_hat\n",
    "\n",
    "            if iteration % 100 == 0:\n",
    "                loss = self.loss_function(X, y)\n",
    "\n",
    "    def predict(self, X):\n",
    "        X = np.c_[np.ones((X.shape[0], 1)), X]\n",
    "        return X.dot(self.theta)"
   ]
  },
  {
   "cell_type": "code",
   "execution_count": 36,
   "id": "2e17bd35-ac1c-4875-8466-a2d4de599a1b",
   "metadata": {},
   "outputs": [],
   "source": [
    "X = np.array([[1], [1]])\n",
    "y = np.array([2, 4])"
   ]
  },
  {
   "cell_type": "code",
   "execution_count": 37,
   "id": "4d81b31a-b4e7-4efe-bda2-1ddbc70ebdf7",
   "metadata": {},
   "outputs": [],
   "source": [
    "radam = RAdam(learning_rate=0.001, num_iterations=1)\n",
    "radam.fit(X, y)"
   ]
  },
  {
   "cell_type": "code",
   "execution_count": 38,
   "id": "edcb85b8-279d-456b-b341-6737f025f3d2",
   "metadata": {},
   "outputs": [
    {
     "name": "stdout",
     "output_type": "stream",
     "text": [
      "Predictions: [0.002 0.002]\n"
     ]
    }
   ],
   "source": [
    "predictions = radam.predict(X)\n",
    "print(f\"Predictions: {predictions}\")"
   ]
  },
  {
   "cell_type": "code",
   "execution_count": 39,
   "id": "5037cf7c-ff3a-4e40-9e05-87aa06e9a96d",
   "metadata": {},
   "outputs": [
    {
     "name": "stdout",
     "output_type": "stream",
     "text": [
      "Final Loss: 9.988004000019988\n",
      "Final Weights (Theta): [0.001 0.001]\n"
     ]
    }
   ],
   "source": [
    "final_loss = radam.loss_function(np.c_[np.ones((X.shape[0], 1)), X], y)\n",
    "print(f\"Final Loss: {final_loss}\")\n",
    "print(f\"Final Weights (Theta): {radam.theta}\")"
   ]
  },
  {
   "cell_type": "code",
   "execution_count": null,
   "id": "28ad15ca-c845-452e-b001-955d4fbca785",
   "metadata": {},
   "outputs": [],
   "source": []
  }
 ],
 "metadata": {
  "kernelspec": {
   "display_name": "Python 3 (ipykernel)",
   "language": "python",
   "name": "python3"
  },
  "language_info": {
   "codemirror_mode": {
    "name": "ipython",
    "version": 3
   },
   "file_extension": ".py",
   "mimetype": "text/x-python",
   "name": "python",
   "nbconvert_exporter": "python",
   "pygments_lexer": "ipython3",
   "version": "3.10.12"
  }
 },
 "nbformat": 4,
 "nbformat_minor": 5
}
