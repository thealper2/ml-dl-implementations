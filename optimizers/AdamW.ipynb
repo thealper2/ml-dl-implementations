{
 "cells": [
  {
   "cell_type": "code",
   "execution_count": 3,
   "id": "5f8e658b-444d-47ef-ad1f-344c38b05f26",
   "metadata": {},
   "outputs": [],
   "source": [
    "import numpy as np"
   ]
  },
  {
   "cell_type": "code",
   "execution_count": 4,
   "id": "ebc06d61-0789-46e5-85b0-2c5bcbf8c5dd",
   "metadata": {},
   "outputs": [],
   "source": [
    "class AdamW:\n",
    "    def __init__(self,\n",
    "                 learning_rate=0.001,\n",
    "                 beta1=0.9,\n",
    "                 beta2=0.999,\n",
    "                 epsilon=1e-8,\n",
    "                 weight_decay=0.01,\n",
    "                 num_iterations=1000):\n",
    "\n",
    "        self.learning_rate = learning_rate\n",
    "        self.beta1 = beta1\n",
    "        self.beta2 = beta2\n",
    "        self.epsilon = epsilon\n",
    "        self.weight_decay = weight_decay\n",
    "        self.num_iterations = num_iterations\n",
    "\n",
    "    def loss_function(self, X, y):\n",
    "        m = len(y)\n",
    "        predictions = self.theta * X\n",
    "        return (1 / m) * np.sum((predictions - y) ** 2)\n",
    "\n",
    "    def grad(self, X, y):\n",
    "        return 2 / len(X) * X.T.dot(X.dot(self.theta) - y)\n",
    "\n",
    "    def fit(self, X, y):\n",
    "        X = np.c_[np.ones((X.shape[0], 1)), X]\n",
    "\n",
    "        self.theta = np.zeros(X.shape[1])\n",
    "\n",
    "        m = np.zeros(X.shape[1])\n",
    "        v = np.zeros(X.shape[1])\n",
    "\n",
    "        for iteration in range(1, self.num_iterations + 1):\n",
    "            gradients = self.grad(X, y)\n",
    "\n",
    "            m = self.beta1 * m + (1 - self.beta1) * gradients\n",
    "            v = self.beta2 * v + (1 - self.beta2) * gradients ** 2\n",
    "\n",
    "            m_hat = m / (1 - self.beta1 ** iteration)\n",
    "            v_hat = v / (1 - self.beta2 ** iteration)\n",
    "\n",
    "            self.theta -= self.learning_rate * (m_hat / (np.sqrt(v_hat) + self.epsilon) + self.weight_decay * self.theta)\n",
    "\n",
    "            if iteration % 100 == 0:\n",
    "                loss = self.loss_function(X, y)\n",
    "\n",
    "    def predict(self, X):\n",
    "        X = np.c_[np.ones((X.shape[0], 1)), X]\n",
    "        return X.dot(self.theta)"
   ]
  },
  {
   "cell_type": "code",
   "execution_count": 12,
   "id": "40da29b7-a841-4ba0-a94a-9fd9cf5d1e02",
   "metadata": {},
   "outputs": [],
   "source": [
    "X = np.array([[1], [2]])\n",
    "y = np.array([2, 4])"
   ]
  },
  {
   "cell_type": "code",
   "execution_count": 22,
   "id": "514f0c5d-d813-448e-9a1f-6af461466fcc",
   "metadata": {},
   "outputs": [],
   "source": [
    "adamw = AdamW(learning_rate=0.1, weight_decay=0.01, num_iterations=1)\n",
    "adamw.fit(X, y)"
   ]
  },
  {
   "cell_type": "code",
   "execution_count": 23,
   "id": "16bdf9a4-8f39-40f4-a1b7-5e8aca091d0d",
   "metadata": {},
   "outputs": [
    {
     "name": "stdout",
     "output_type": "stream",
     "text": [
      "Predictions: [0.2 0.3]\n"
     ]
    }
   ],
   "source": [
    "predictions = adamw.predict(X)\n",
    "print(f\"Predictions: {predictions}\")"
   ]
  },
  {
   "cell_type": "code",
   "execution_count": 24,
   "id": "5b1bb89b-f282-4938-9c73-81bff14eac44",
   "metadata": {},
   "outputs": [
    {
     "name": "stdout",
     "output_type": "stream",
     "text": [
      "Final Loss: 18.435000001783333\n",
      "Final Weights (Theta): [0.1 0.1]\n"
     ]
    }
   ],
   "source": [
    "final_loss = adamw.loss_function(np.c_[np.ones((X.shape[0], 1)), X], y)\n",
    "print(f\"Final Loss: {final_loss}\")\n",
    "print(f\"Final Weights (Theta): {adamw.theta}\")"
   ]
  },
  {
   "cell_type": "code",
   "execution_count": null,
   "id": "c864049c-ec2f-43c2-a617-52c235b35632",
   "metadata": {},
   "outputs": [],
   "source": []
  }
 ],
 "metadata": {
  "kernelspec": {
   "display_name": "Python 3 (ipykernel)",
   "language": "python",
   "name": "python3"
  },
  "language_info": {
   "codemirror_mode": {
    "name": "ipython",
    "version": 3
   },
   "file_extension": ".py",
   "mimetype": "text/x-python",
   "name": "python",
   "nbconvert_exporter": "python",
   "pygments_lexer": "ipython3",
   "version": "3.10.12"
  }
 },
 "nbformat": 4,
 "nbformat_minor": 5
}
