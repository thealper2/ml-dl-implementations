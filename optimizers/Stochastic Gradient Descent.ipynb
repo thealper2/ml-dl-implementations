{
 "cells": [
  {
   "cell_type": "code",
   "execution_count": 1,
   "id": "927d423b-2785-41a1-84d1-166f1aba41c6",
   "metadata": {},
   "outputs": [],
   "source": [
    "import numpy as np"
   ]
  },
  {
   "cell_type": "code",
   "execution_count": 21,
   "id": "1493d0b2-d776-48aa-a550-70dc4aadc1b8",
   "metadata": {},
   "outputs": [],
   "source": [
    "class SGD:\n",
    "    def __init__(self, learning_rate=0.01, num_iterations=1000):\n",
    "        self.learning_rate = learning_rate\n",
    "        self.num_iterations = num_iterations\n",
    "\n",
    "    def loss_function(self, X, y):\n",
    "        return np.mean((X.dot(self.theta) - y) ** 2)\n",
    "\n",
    "    def grad(self, X, y):\n",
    "        return 2 / len(X) * X.T.dot(X.dot(self.theta) - y)\n",
    "    \n",
    "    def fit(self, X, y):\n",
    "        X = np.c_[np.ones((X.shape[0], 1)), X]\n",
    "\n",
    "        self.theta = np.zeros(X.shape[1])\n",
    "\n",
    "        for iteration in range(self.num_iterations):\n",
    "            gradients = self.grad(X, y)\n",
    "\n",
    "            self.theta -= self.learning_rate * gradients\n",
    "\n",
    "            if iteration % 100 == 0:\n",
    "                loss = self.loss_function(X, y)\n",
    "\n",
    "    def predict(self, X):\n",
    "        X = np.c_[np.ones((X.shape[0], 1)), X]\n",
    "        return X.dot(self.theta)"
   ]
  },
  {
   "cell_type": "code",
   "execution_count": 22,
   "id": "2e17bd35-ac1c-4875-8466-a2d4de599a1b",
   "metadata": {},
   "outputs": [],
   "source": [
    "X = np.array([[1], [2], [3]])\n",
    "y = np.array([2, 4, 6])"
   ]
  },
  {
   "cell_type": "code",
   "execution_count": 23,
   "id": "4d81b31a-b4e7-4efe-bda2-1ddbc70ebdf7",
   "metadata": {},
   "outputs": [],
   "source": [
    "sgd = SGD(learning_rate=0.1, num_iterations=1)\n",
    "sgd.fit(X, y)"
   ]
  },
  {
   "cell_type": "code",
   "execution_count": 24,
   "id": "edcb85b8-279d-456b-b341-6737f025f3d2",
   "metadata": {},
   "outputs": [
    {
     "name": "stdout",
     "output_type": "stream",
     "text": [
      "Predictions: [2.66666667 4.53333333 6.4       ]\n"
     ]
    }
   ],
   "source": [
    "predictions = sgd.predict(X)\n",
    "print(f\"Predictions: {predictions}\")"
   ]
  },
  {
   "cell_type": "code",
   "execution_count": 25,
   "id": "5037cf7c-ff3a-4e40-9e05-87aa06e9a96d",
   "metadata": {},
   "outputs": [
    {
     "name": "stdout",
     "output_type": "stream",
     "text": [
      "Final Loss: 0.29629629629629606\n",
      "Final Weights (Theta): [0.8        1.86666667]\n"
     ]
    }
   ],
   "source": [
    "final_loss = sgd.loss_function(np.c_[np.ones((X.shape[0], 1)), X], y)\n",
    "print(f\"Final Loss: {final_loss}\")\n",
    "print(f\"Final Weights (Theta): {sgd.theta}\")"
   ]
  },
  {
   "cell_type": "code",
   "execution_count": null,
   "id": "28ad15ca-c845-452e-b001-955d4fbca785",
   "metadata": {},
   "outputs": [],
   "source": []
  }
 ],
 "metadata": {
  "kernelspec": {
   "display_name": "Python 3 (ipykernel)",
   "language": "python",
   "name": "python3"
  },
  "language_info": {
   "codemirror_mode": {
    "name": "ipython",
    "version": 3
   },
   "file_extension": ".py",
   "mimetype": "text/x-python",
   "name": "python",
   "nbconvert_exporter": "python",
   "pygments_lexer": "ipython3",
   "version": "3.10.12"
  }
 },
 "nbformat": 4,
 "nbformat_minor": 5
}
