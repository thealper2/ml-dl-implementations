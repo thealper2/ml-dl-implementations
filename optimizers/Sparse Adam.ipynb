{
 "cells": [
  {
   "cell_type": "code",
   "execution_count": 1,
   "id": "68a210f5-8d5e-4ac9-94fb-b1726a960b1a",
   "metadata": {},
   "outputs": [],
   "source": [
    "import numpy as np"
   ]
  },
  {
   "cell_type": "code",
   "execution_count": 32,
   "id": "3ff7a698-2783-4482-9c18-9aba45c99ed0",
   "metadata": {},
   "outputs": [],
   "source": [
    "class SparseAdam:\n",
    "    def __init__(self, learning_rate=0.001, beta1=0.9, beta2=0.999, epsilon=1e-8, num_iterations=1000):\n",
    "        self.learning_rate = learning_rate\n",
    "        self.beta1 = beta1\n",
    "        self.beta2 = beta2\n",
    "        self.epsilon = epsilon\n",
    "        self.num_iterations = num_iterations\n",
    "\n",
    "    def loss_function(self, theta):\n",
    "        return (theta - 4) ** 2\n",
    "\n",
    "    def grad(self, X, y):\n",
    "        return 2 / len(X) * X.T.dot(X.dot(self.theta) - y)    \n",
    "\n",
    "    def fit(self, X, y):\n",
    "        X = np.c_[np.ones((X.shape[0], 1)), X]\n",
    "\n",
    "        self.theta = np.zeros(X.shape[1])\n",
    "        self.m = np.zeros(X.shape[1])\n",
    "        self.v = np.zeros(X.shape[1])\n",
    "        self.t = 0\n",
    "\n",
    "        for iteration in range(1, self.num_iterations + 1):\n",
    "            gradients = self.grad(X, y)\n",
    "\n",
    "            non_zero_indices = np.where(gradients != 0)\n",
    "\n",
    "            self.t += 1\n",
    "\n",
    "            self.m[non_zero_indices] = (self.beta1 * self.m[non_zero_indices] +\n",
    "                                        (1 - self.beta1) * gradients[non_zero_indices])\n",
    "            \n",
    "            self.v[non_zero_indices] = (self.beta2 * self.v[non_zero_indices] +\n",
    "                                        (1 - self.beta2) * (gradients[non_zero_indices] ** 2))\n",
    "\n",
    "            m_hat = self.m[non_zero_indices] / (1 - self.beta1 ** self.t)\n",
    "            v_hat = self.v[non_zero_indices] / (1 - self.beta2 ** self.t)\n",
    "\n",
    "            self.theta[non_zero_indices] -= self.learning_rate * m_hat / (np.sqrt(v_hat) + self.epsilon)\n",
    "\n",
    "            if iteration % 100 == 0:\n",
    "                loss = self.loss_function(self.theta)\n",
    "\n",
    "    def predict(self, X):\n",
    "        X = np.c_[np.ones((X.shape[0], 1)), X]\n",
    "        return X.dot(self.theta)"
   ]
  },
  {
   "cell_type": "code",
   "execution_count": 47,
   "id": "76f9b9ee-bf65-4a24-a577-db09904bc746",
   "metadata": {},
   "outputs": [],
   "source": [
    "X = np.array([1.0, 2.0, 3.0])\n",
    "y = np.array([2.0, 4.0, 6.0])"
   ]
  },
  {
   "cell_type": "code",
   "execution_count": 48,
   "id": "229e2f3a-9d1d-43d2-8ae4-cf558c6c0c1f",
   "metadata": {},
   "outputs": [],
   "source": [
    "sparse_adam = SparseAdam(learning_rate=0.002, num_iterations=1)\n",
    "sparse_adam.fit(X, y)"
   ]
  },
  {
   "cell_type": "code",
   "execution_count": 49,
   "id": "ec739cb5-1e85-4aa7-ae60-db08b4f0fb0f",
   "metadata": {},
   "outputs": [
    {
     "name": "stdout",
     "output_type": "stream",
     "text": [
      "Predictions: [0.004 0.006 0.008]\n"
     ]
    }
   ],
   "source": [
    "predictions = sparse_adam.predict(X)\n",
    "print(f\"Predictions: {predictions}\")"
   ]
  },
  {
   "cell_type": "code",
   "execution_count": 50,
   "id": "68495404-1011-4cdc-82cc-d0080439b4b7",
   "metadata": {},
   "outputs": [
    {
     "name": "stdout",
     "output_type": "stream",
     "text": [
      "Final Loss: [15.984004 15.984004]\n",
      "Final Weights (Theta): [0.002 0.002]\n"
     ]
    }
   ],
   "source": [
    "final_loss = sparse_adam.loss_function(sparse_adam.theta)\n",
    "print(f\"Final Loss: {final_loss}\")\n",
    "print(f\"Final Weights (Theta): {sparse_adam.theta}\")"
   ]
  },
  {
   "cell_type": "code",
   "execution_count": null,
   "id": "82549ddc-46f7-4f25-8508-f0c1ca9294fc",
   "metadata": {},
   "outputs": [],
   "source": []
  }
 ],
 "metadata": {
  "kernelspec": {
   "display_name": "Python 3 (ipykernel)",
   "language": "python",
   "name": "python3"
  },
  "language_info": {
   "codemirror_mode": {
    "name": "ipython",
    "version": 3
   },
   "file_extension": ".py",
   "mimetype": "text/x-python",
   "name": "python",
   "nbconvert_exporter": "python",
   "pygments_lexer": "ipython3",
   "version": "3.10.12"
  }
 },
 "nbformat": 4,
 "nbformat_minor": 5
}
