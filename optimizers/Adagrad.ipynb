{
 "cells": [
  {
   "cell_type": "code",
   "execution_count": 1,
   "id": "296f6a93-6af0-4207-93fe-137768d1d9d0",
   "metadata": {},
   "outputs": [],
   "source": [
    "import numpy as np"
   ]
  },
  {
   "cell_type": "code",
   "execution_count": 32,
   "id": "94fee6db-5edf-481f-973f-121cf1b41f03",
   "metadata": {},
   "outputs": [],
   "source": [
    "class Adagrad:\n",
    "    def __init__(self, learning_rate=0.01, epsilon=1e-8, num_iterations=1000):\n",
    "        self.learning_rate = learning_rate\n",
    "        self.epsilon = epsilon\n",
    "        self.num_iterations = num_iterations\n",
    "\n",
    "    def loss_function(self, X, y):\n",
    "        m = len(y)\n",
    "        predictions = self.theta * X\n",
    "        return (1 / m) * np.sum((predictions - y) ** 2)\n",
    "\n",
    "    def grad(self, X, y):\n",
    "        return 2 / len(X) * X.T.dot(X.dot(self.theta) - y)    \n",
    "\n",
    "    def fit(self, X, y):\n",
    "        X = np.c_[np.ones((X.shape[0], 1)), X]\n",
    "\n",
    "        self.theta = np.zeros(X.shape[1])\n",
    "\n",
    "        G = np.zeros(X.shape[1])\n",
    "        \n",
    "        for iteration in range(1, self.num_iterations + 1):\n",
    "            gradients = self.grad(X, y)\n",
    "\n",
    "            G += gradients ** 2\n",
    "\n",
    "            self.theta += self.learning_rate / (np.sqrt(G) + self.epsilon) * gradients\n",
    "\n",
    "            if iteration % 100 == 0:\n",
    "                loss = self.loss_function(X, y)\n",
    "\n",
    "    def predict(self, X):\n",
    "        X = np.c_[np.ones((X.shape[0], 1)), X]\n",
    "        return X.dot(self.theta)"
   ]
  },
  {
   "cell_type": "code",
   "execution_count": 54,
   "id": "7a99a3df-e2fe-43ee-9593-e34313aabe31",
   "metadata": {},
   "outputs": [],
   "source": [
    "X = np.array([[1], [2]])\n",
    "y = np.array([2, 4])"
   ]
  },
  {
   "cell_type": "code",
   "execution_count": 64,
   "id": "387e6424-76f5-4b4f-a4bd-100f7f1b81a6",
   "metadata": {},
   "outputs": [],
   "source": [
    "adagrad = Adagrad(learning_rate=0.1, num_iterations=1)\n",
    "adagrad.fit(X, y)"
   ]
  },
  {
   "cell_type": "code",
   "execution_count": 65,
   "id": "b1069722-c4f3-4c8b-8927-85b51edb47a5",
   "metadata": {},
   "outputs": [
    {
     "name": "stdout",
     "output_type": "stream",
     "text": [
      "Predictions: [-0.2 -0.3]\n"
     ]
    }
   ],
   "source": [
    "predictions = adagrad.predict(X)\n",
    "print(f\"Predictions: {predictions}\")"
   ]
  },
  {
   "cell_type": "code",
   "execution_count": 66,
   "id": "296777ce-a6e1-4e3b-b586-8100b1efeb23",
   "metadata": {},
   "outputs": [
    {
     "name": "stdout",
     "output_type": "stream",
     "text": [
      "Final Loss: 21.63499999805\n",
      "Final Weights (Theta): [-0.1 -0.1]\n"
     ]
    }
   ],
   "source": [
    "final_loss = adagrad.loss_function(np.c_[np.ones((X.shape[0], 1)), X], y)\n",
    "print(f\"Final Loss: {final_loss}\")\n",
    "print(f\"Final Weights (Theta): {adagrad.theta}\")"
   ]
  },
  {
   "cell_type": "code",
   "execution_count": null,
   "id": "f6e2e5f6-dcfe-4d40-b52d-168ae8b30c43",
   "metadata": {},
   "outputs": [],
   "source": []
  },
  {
   "cell_type": "code",
   "execution_count": null,
   "id": "54d50b5d-384f-42cf-abde-f704488b7e57",
   "metadata": {},
   "outputs": [],
   "source": []
  }
 ],
 "metadata": {
  "kernelspec": {
   "display_name": "Python 3 (ipykernel)",
   "language": "python",
   "name": "python3"
  },
  "language_info": {
   "codemirror_mode": {
    "name": "ipython",
    "version": 3
   },
   "file_extension": ".py",
   "mimetype": "text/x-python",
   "name": "python",
   "nbconvert_exporter": "python",
   "pygments_lexer": "ipython3",
   "version": "3.10.12"
  }
 },
 "nbformat": 4,
 "nbformat_minor": 5
}
