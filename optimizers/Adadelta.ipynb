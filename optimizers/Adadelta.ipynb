{
 "cells": [
  {
   "cell_type": "code",
   "execution_count": 2,
   "id": "cb6e264a-a489-4e83-aa95-9375f09326f8",
   "metadata": {},
   "outputs": [],
   "source": [
    "import numpy as np"
   ]
  },
  {
   "cell_type": "code",
   "execution_count": 3,
   "id": "e5b899d3-6979-495e-8589-84b113aeae1b",
   "metadata": {},
   "outputs": [],
   "source": [
    "class Adadelta:\n",
    "    def __init__(self, rho=0.95, epsilon=1e-6, num_iterations=1000):\n",
    "        self.rho = rho\n",
    "        self.epsilon = epsilon\n",
    "        self.num_iterations = num_iterations\n",
    "\n",
    "    def loss_function(self, theta):\n",
    "        return (theta - 4) ** 2\n",
    "\n",
    "    def grad(self, X, y):\n",
    "        return 2 / len(X) * X.T.dot(X.dot(self.theta) - y)    \n",
    "\n",
    "    def fit(self, X, y):\n",
    "        X = np.c_[np.ones((X.shape[0], 1)), X]\n",
    "\n",
    "        self.theta = np.zeros(X.shape[1])\n",
    "\n",
    "        Eg2 = np.zeros(X.shape[1])\n",
    "        Edx2 = np.zeros(X.shape[1])\n",
    "\n",
    "        for iteration in range(1, self.num_iterations + 1):\n",
    "            gradients = self.grad(X, y)\n",
    "\n",
    "            Eg2 = self.rho * Eg2 + (1 - self.rho) * gradients**2\n",
    "\n",
    "            dx = -np.sqrt(Edx2 + self.epsilon) / np.sqrt(Eg2 + self.epsilon) * gradients\n",
    "            Edx2 = self.rho * Edx2 + (1 - self.rho) * dx**2\n",
    "\n",
    "            self.theta += dx\n",
    "\n",
    "            if iteration % 100 == 0:\n",
    "                loss = self.loss_function(self.theta)\n",
    "\n",
    "    def predict(self, X):\n",
    "        X = np.c_[np.ones((X.shape[0], 1)), X]\n",
    "        return X.dot(self.theta)"
   ]
  },
  {
   "cell_type": "code",
   "execution_count": 4,
   "id": "ae70a30c-6f99-4c74-b0d9-40d54f712655",
   "metadata": {},
   "outputs": [],
   "source": [
    "X = np.array([[1], [2]])\n",
    "y = np.array([2, 4])"
   ]
  },
  {
   "cell_type": "code",
   "execution_count": 10,
   "id": "e965753b-9ea0-447b-8b2c-9c22bc32229d",
   "metadata": {},
   "outputs": [],
   "source": [
    "adadelta = Adadelta(rho=0.95, num_iterations=1)\n",
    "adadelta.fit(X, y)"
   ]
  },
  {
   "cell_type": "code",
   "execution_count": 11,
   "id": "acbb550f-ec5b-4b31-a3c8-7c467fc0ed21",
   "metadata": {},
   "outputs": [
    {
     "name": "stdout",
     "output_type": "stream",
     "text": [
      "Predictions: [0.00894427 0.01341641]\n"
     ]
    }
   ],
   "source": [
    "predictions = adadelta.predict(X)\n",
    "print(f\"Predictions: {predictions}\")"
   ]
  },
  {
   "cell_type": "code",
   "execution_count": 12,
   "id": "a971de15-0bda-43ec-acc0-70f54e2f05ea",
   "metadata": {},
   "outputs": [
    {
     "name": "stdout",
     "output_type": "stream",
     "text": [
      "Final Loss: 19.928515835034496\n",
      "Final Weights (Theta): [0.00447213 0.00447214]\n"
     ]
    }
   ],
   "source": [
    "final_loss = adadelta.loss_function(np.c_[np.ones((X.shape[0], 1)), X], y)\n",
    "print(f\"Final Loss: {final_loss}\")\n",
    "print(f\"Final Weights (Theta): {adadelta.theta}\")"
   ]
  },
  {
   "cell_type": "code",
   "execution_count": null,
   "id": "321676a9-c3b3-4f91-b841-3afb9522d9ac",
   "metadata": {},
   "outputs": [],
   "source": []
  }
 ],
 "metadata": {
  "kernelspec": {
   "display_name": "Python 3 (ipykernel)",
   "language": "python",
   "name": "python3"
  },
  "language_info": {
   "codemirror_mode": {
    "name": "ipython",
    "version": 3
   },
   "file_extension": ".py",
   "mimetype": "text/x-python",
   "name": "python",
   "nbconvert_exporter": "python",
   "pygments_lexer": "ipython3",
   "version": "3.10.12"
  }
 },
 "nbformat": 4,
 "nbformat_minor": 5
}
