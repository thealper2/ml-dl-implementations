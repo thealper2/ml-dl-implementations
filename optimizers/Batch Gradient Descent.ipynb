{
 "cells": [
  {
   "cell_type": "code",
   "execution_count": 1,
   "id": "80fa30ed-ce79-416d-8044-ef3f291df470",
   "metadata": {},
   "outputs": [],
   "source": [
    "import numpy as np"
   ]
  },
  {
   "cell_type": "code",
   "execution_count": 14,
   "id": "69081ced-e03b-4fb7-b743-aa5e22d27a3a",
   "metadata": {},
   "outputs": [],
   "source": [
    "class BatchGradientDescent:\n",
    "    def __init__(self, learning_rate=0.01, num_iterations=1000):\n",
    "        self.learning_rate = learning_rate\n",
    "        self.num_iterations = num_iterations\n",
    "\n",
    "    def loss_function(self, X, y):\n",
    "        return np.mean((X.dot(self.theta) - y) ** 2)\n",
    "\n",
    "    def grad(self, X, y):\n",
    "        return 2 / len(X) * X.T.dot(X.dot(self.theta) - y)\n",
    "    \n",
    "    def fit(self, X, y):\n",
    "        X = np.c_[np.ones((X.shape[0], 1)), X]\n",
    "\n",
    "        self.theta = np.zeros(X.shape[1])\n",
    "\n",
    "        for iteration in range(self.num_iterations):\n",
    "            gradients = self.grad(X, y)\n",
    "\n",
    "            self.theta -= self.learning_rate * gradients\n",
    "\n",
    "            if iteration % 100 == 0:\n",
    "                loss = self.loss_function(X, y)\n",
    "\n",
    "    def predict(self, X):\n",
    "        X = np.c_[np.ones((X.shape[0], 1)), X]\n",
    "        return X.dot(self.theta)"
   ]
  },
  {
   "cell_type": "code",
   "execution_count": 15,
   "id": "fd252593-139e-4bbe-a84b-4bcb5029e829",
   "metadata": {},
   "outputs": [],
   "source": [
    "X = np.array([[1], [2], [3]])\n",
    "y = np.array([2, 4, 6])"
   ]
  },
  {
   "cell_type": "code",
   "execution_count": 16,
   "id": "b3223db7-58c2-4e75-a879-e2fd3785d511",
   "metadata": {},
   "outputs": [],
   "source": [
    "bgd = BatchGradientDescent(learning_rate=0.1, num_iterations=1)\n",
    "bgd.fit(X, y)"
   ]
  },
  {
   "cell_type": "code",
   "execution_count": 17,
   "id": "957c10ec-5ec0-414b-aec4-878ae264ea47",
   "metadata": {},
   "outputs": [
    {
     "name": "stdout",
     "output_type": "stream",
     "text": [
      "Predictions: [2.66666667 4.53333333 6.4       ]\n"
     ]
    }
   ],
   "source": [
    "predictions = bgd.predict(X)\n",
    "print(f\"Predictions: {predictions}\")"
   ]
  },
  {
   "cell_type": "code",
   "execution_count": 18,
   "id": "d7519dcc-60ab-4b4b-9f85-ff87644e7bfd",
   "metadata": {},
   "outputs": [
    {
     "name": "stdout",
     "output_type": "stream",
     "text": [
      "Final Loss: 0.29629629629629606\n",
      "Final Weights (Theta): [0.8        1.86666667]\n"
     ]
    }
   ],
   "source": [
    "final_loss = bgd.loss_function(np.c_[np.ones((X.shape[0], 1)), X], y)\n",
    "print(f\"Final Loss: {final_loss}\")\n",
    "print(f\"Final Weights (Theta): {bgd.theta}\")"
   ]
  },
  {
   "cell_type": "code",
   "execution_count": null,
   "id": "d79db1cb-b42e-4ce0-97c1-b5407fdbfd88",
   "metadata": {},
   "outputs": [],
   "source": []
  }
 ],
 "metadata": {
  "kernelspec": {
   "display_name": "Python 3 (ipykernel)",
   "language": "python",
   "name": "python3"
  },
  "language_info": {
   "codemirror_mode": {
    "name": "ipython",
    "version": 3
   },
   "file_extension": ".py",
   "mimetype": "text/x-python",
   "name": "python",
   "nbconvert_exporter": "python",
   "pygments_lexer": "ipython3",
   "version": "3.10.12"
  }
 },
 "nbformat": 4,
 "nbformat_minor": 5
}
