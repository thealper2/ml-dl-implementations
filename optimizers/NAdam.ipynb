{
 "cells": [
  {
   "cell_type": "code",
   "execution_count": 1,
   "id": "d3fdd635-6d42-430c-8a69-51b8dbcfe53a",
   "metadata": {},
   "outputs": [],
   "source": [
    "import numpy as np"
   ]
  },
  {
   "cell_type": "code",
   "execution_count": 5,
   "id": "34c93689-fb7a-4d78-b07a-9ffee0a13bc2",
   "metadata": {},
   "outputs": [],
   "source": [
    "class NAdam:\n",
    "    def __init__(self, learning_rate=0.002, beta1=0.9, beta2=0.999, epsilon=1e-8):\n",
    "        self.learning_rate = learning_rate\n",
    "        self.beta1 = beta1\n",
    "        self.beta2 = beta2\n",
    "        self.epsilon = epsilon\n",
    "\n",
    "        self.t = 0\n",
    "\n",
    "    def update(self, params, grads):\n",
    "        m = [np.zeros_like(param) for param in params]\n",
    "        v = [np.zeros_like(param) for param in params]\n",
    "\n",
    "        updated_params = []\n",
    "        self.t += 1\n",
    "\n",
    "        for i, (param, grad) in enumerate(zip(params, grads)):\n",
    "            m[i] = self.beta1 * m[i] + (1 - self.beta1) * grad\n",
    "            v[i] = self.beta2 * v[i] + (1 - self.beta2) * (grad ** 2)\n",
    "\n",
    "            m_hat = m[i] / (1 - self.beta1 ** self.t)\n",
    "            v_hat = v[i] / (1 - self.beta2 ** self.t)\n",
    "\n",
    "            m_nesterov = (self.beta1 * m_hat) + ((1 - self.beta1) * grad)\n",
    "\n",
    "            param_update = param - self.learning_rate * m_nesterov / (np.sqrt(v_hat) + self.epsilon)\n",
    "            updated_params.append(param_update)\n",
    "\n",
    "        return updated_params"
   ]
  },
  {
   "cell_type": "code",
   "execution_count": 6,
   "id": "5531c480-9007-4774-b387-853536d801ca",
   "metadata": {},
   "outputs": [],
   "source": [
    "params = np.array([0.0])\n",
    "grads = np.array([-6.0])"
   ]
  },
  {
   "cell_type": "code",
   "execution_count": 7,
   "id": "e891fe5f-d1e2-439b-882a-df48e48b40b5",
   "metadata": {},
   "outputs": [
    {
     "data": {
      "text/plain": [
       "[0.001999999996666667]"
      ]
     },
     "execution_count": 7,
     "metadata": {},
     "output_type": "execute_result"
    }
   ],
   "source": [
    "nadam = NAdam()\n",
    "nadam.update(params, grads)"
   ]
  },
  {
   "cell_type": "code",
   "execution_count": null,
   "id": "5299b07a-5d64-480c-a1fc-5154193ed3a0",
   "metadata": {},
   "outputs": [],
   "source": []
  }
 ],
 "metadata": {
  "kernelspec": {
   "display_name": "Python 3 (ipykernel)",
   "language": "python",
   "name": "python3"
  },
  "language_info": {
   "codemirror_mode": {
    "name": "ipython",
    "version": 3
   },
   "file_extension": ".py",
   "mimetype": "text/x-python",
   "name": "python",
   "nbconvert_exporter": "python",
   "pygments_lexer": "ipython3",
   "version": "3.10.12"
  }
 },
 "nbformat": 4,
 "nbformat_minor": 5
}
