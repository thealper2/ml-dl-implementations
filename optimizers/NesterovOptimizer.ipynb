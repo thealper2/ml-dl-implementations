{
 "cells": [
  {
   "cell_type": "code",
   "execution_count": 1,
   "id": "ad253da7",
   "metadata": {},
   "outputs": [],
   "source": [
    "import numpy as np\n",
    "from typing import Optional, Callable, Tuple"
   ]
  },
  {
   "cell_type": "code",
   "execution_count": 2,
   "id": "04109ffb",
   "metadata": {},
   "outputs": [],
   "source": [
    "class NesterovOptimizer:\n",
    "    def __init__(\n",
    "        self,\n",
    "        learning_rate: float = 0.01,\n",
    "        momentum: float = 0.9,\n",
    "        max_iters: int = 100,\n",
    "        tol: float = 1e-6,\n",
    "    ):\n",
    "        self.learning_rate = learning_rate\n",
    "        self.momentum = momentum\n",
    "        self.max_iters = max_iters\n",
    "        self.tol = tol\n",
    "\n",
    "        self.velocity: Optional[np.ndarray] = None\n",
    "        self.iter_count: int = 0\n",
    "\n",
    "    def step(\n",
    "        self,\n",
    "        grad_func: Callable[[np.ndarray], np.ndarray],\n",
    "        x: np.ndarray,\n",
    "    ) -> Tuple[np.ndarray, float]:\n",
    "        if self.velocity is None:\n",
    "            self.velocity = np.zeros_like(x)\n",
    "\n",
    "        x_ahead = x + self.momentum * self.velocity\n",
    "        \n",
    "        grad = grad_func(x_ahead)\n",
    "\n",
    "        self.velocity = self.momentum * self.velocity - self.learning_rate * grad\n",
    "\n",
    "        x_new = x + self.velocity\n",
    "\n",
    "        loss = np.linalg.norm(grad)\n",
    "\n",
    "        self.iter_count += 1\n",
    "\n",
    "        return x_new, loss\n",
    "\n",
    "    def optimize(\n",
    "        self,\n",
    "        grad_func: Callable[[np.ndarray], np.ndarray],\n",
    "        x0: np.ndarray,\n",
    "    ) -> Tuple[np.ndarray, list]:\n",
    "        x = x0.copy()\n",
    "        loss_history = []\n",
    "\n",
    "        for _ in range(self.max_iters):\n",
    "            x, loss = self.step(grad_func, x)\n",
    "            loss_history.append(loss)\n",
    "\n",
    "            if loss < self.tol:\n",
    "                break\n",
    "\n",
    "        return x, loss_history"
   ]
  },
  {
   "cell_type": "code",
   "execution_count": 3,
   "id": "5fdc05b7",
   "metadata": {},
   "outputs": [],
   "source": [
    "def quadratic_loss(x):\n",
    "    return (x - 3)**2\n",
    "\n",
    "def quadratic_grad(x):\n",
    "    return 2 * (x - 3)"
   ]
  },
  {
   "cell_type": "code",
   "execution_count": 4,
   "id": "bc76851a",
   "metadata": {},
   "outputs": [],
   "source": [
    "optimizer = NesterovOptimizer(learning_rate=0.1, momentum=0.9)"
   ]
  },
  {
   "cell_type": "code",
   "execution_count": 5,
   "id": "958982d6",
   "metadata": {},
   "outputs": [],
   "source": [
    "x0 = np.array([0.0])"
   ]
  },
  {
   "cell_type": "code",
   "execution_count": 6,
   "id": "63eeea12",
   "metadata": {},
   "outputs": [],
   "source": [
    "x_opt, loss_history = optimizer.optimize(quadratic_grad, x0)"
   ]
  },
  {
   "cell_type": "code",
   "execution_count": 7,
   "id": "a559f667",
   "metadata": {},
   "outputs": [
    {
     "name": "stdout",
     "output_type": "stream",
     "text": [
      "X opt: [2.99999962]\n"
     ]
    }
   ],
   "source": [
    "print('X opt:', x_opt)"
   ]
  },
  {
   "cell_type": "code",
   "execution_count": 8,
   "id": "df70ca85",
   "metadata": {},
   "outputs": [
    {
     "name": "stdout",
     "output_type": "stream",
     "text": [
      "Min val: [1.42710532e-13]\n"
     ]
    }
   ],
   "source": [
    "print('Min val:', quadratic_loss(x_opt))"
   ]
  },
  {
   "cell_type": "code",
   "execution_count": null,
   "id": "16dc0965",
   "metadata": {},
   "outputs": [],
   "source": []
  }
 ],
 "metadata": {
  "kernelspec": {
   "display_name": "Python 3",
   "language": "python",
   "name": "python3"
  },
  "language_info": {
   "codemirror_mode": {
    "name": "ipython",
    "version": 3
   },
   "file_extension": ".py",
   "mimetype": "text/x-python",
   "name": "python",
   "nbconvert_exporter": "python",
   "pygments_lexer": "ipython3",
   "version": "3.10.12"
  }
 },
 "nbformat": 4,
 "nbformat_minor": 5
}
