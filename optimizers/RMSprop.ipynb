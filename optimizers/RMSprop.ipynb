{
 "cells": [
  {
   "cell_type": "code",
   "execution_count": 1,
   "id": "cb3d7aea-5411-42c2-b507-c8c2708b6b6f",
   "metadata": {},
   "outputs": [],
   "source": [
    "import numpy as np"
   ]
  },
  {
   "cell_type": "code",
   "execution_count": 2,
   "id": "e9689ef3-af31-4a08-b1e9-4ea34e679eec",
   "metadata": {},
   "outputs": [],
   "source": [
    "class RMSprop:\n",
    "    def __init__(self, learning_rate=0.01, rho=0.9, epsilon=1e-8, num_iterations=1000):\n",
    "        self.learning_rate = learning_rate\n",
    "        self.rho = rho\n",
    "        self.epsilon = epsilon\n",
    "        self.num_iterations = num_iterations\n",
    "\n",
    "    def loss_function(self, X, y):\n",
    "        m = len(y)\n",
    "        predictions = self.theta * X\n",
    "        return (1 / m) * np.sum((predictions - y) ** 2)\n",
    "\n",
    "    def grad(self, X, y):\n",
    "        return 2 / len(X) * X.T.dot(X.dot(self.theta) - y)\n",
    "    \n",
    "    def fit(self, X, y):\n",
    "        X = np.c_[np.ones((X.shape[0], 1)), X]\n",
    "\n",
    "        self.theta = np.zeros(X.shape[1])\n",
    "\n",
    "        Eg2 = np.zeros(X.shape[1])\n",
    "\n",
    "        for iteration in range(1, self.num_iterations + 1):\n",
    "            gradients = self.grad(X, y)\n",
    "\n",
    "            Eg2 = self.rho * Eg2 + (1 - self.rho) * gradients ** 2\n",
    "\n",
    "            self.theta -= self.learning_rate / (np.sqrt(Eg2) + self.epsilon) * gradients\n",
    "\n",
    "            if iteration % 100 == 0:\n",
    "                loss = self.loss_function(X, y)\n",
    "\n",
    "    def predict(self, X):\n",
    "        X = np.c_[np.ones((X.shape[0], 1)), X]\n",
    "        return X.dot(self.theta)"
   ]
  },
  {
   "cell_type": "code",
   "execution_count": 3,
   "id": "73877625-8ae1-4ff7-b491-058e45338688",
   "metadata": {},
   "outputs": [],
   "source": [
    "X = np.array([[1], [2]])\n",
    "y = np.array([2, 4])"
   ]
  },
  {
   "cell_type": "code",
   "execution_count": 11,
   "id": "3f9c8d7e-b5c0-443a-abb7-4edddf9280ae",
   "metadata": {},
   "outputs": [],
   "source": [
    "rmsprop = RMSprop(learning_rate=0.1, rho=0.9, num_iterations=1)\n",
    "rmsprop.fit(X, y)"
   ]
  },
  {
   "cell_type": "code",
   "execution_count": 12,
   "id": "b757be1a-922f-47cc-826a-fc71a451c5fe",
   "metadata": {},
   "outputs": [
    {
     "name": "stdout",
     "output_type": "stream",
     "text": [
      "Predictions: [0.63245553 0.94868329]\n"
     ]
    }
   ],
   "source": [
    "predictions = rmsprop.predict(X)\n",
    "print(f\"Predictions: {predictions}\")"
   ]
  },
  {
   "cell_type": "code",
   "execution_count": 13,
   "id": "13603762-2d8c-46c0-80eb-88e4b1dd299f",
   "metadata": {},
   "outputs": [
    {
     "name": "stdout",
     "output_type": "stream",
     "text": [
      "Final Loss: 15.29035575976203\n",
      "Final Weights (Theta): [0.31622776 0.31622777]\n"
     ]
    }
   ],
   "source": [
    "final_loss = rmsprop.loss_function(np.c_[np.ones((X.shape[0], 1)), X], y)\n",
    "print(f\"Final Loss: {final_loss}\")\n",
    "print(f\"Final Weights (Theta): {rmsprop.theta}\")"
   ]
  },
  {
   "cell_type": "code",
   "execution_count": null,
   "id": "dbe3913e-a49a-4a69-b6c7-061e2dc20b88",
   "metadata": {},
   "outputs": [],
   "source": []
  }
 ],
 "metadata": {
  "kernelspec": {
   "display_name": "Python 3 (ipykernel)",
   "language": "python",
   "name": "python3"
  },
  "language_info": {
   "codemirror_mode": {
    "name": "ipython",
    "version": 3
   },
   "file_extension": ".py",
   "mimetype": "text/x-python",
   "name": "python",
   "nbconvert_exporter": "python",
   "pygments_lexer": "ipython3",
   "version": "3.10.12"
  }
 },
 "nbformat": 4,
 "nbformat_minor": 5
}
