{
 "cells": [
  {
   "cell_type": "code",
   "execution_count": 1,
   "id": "7c6569a5-2151-443e-9acd-38f88079d157",
   "metadata": {},
   "outputs": [],
   "source": [
    "import numpy as np"
   ]
  },
  {
   "cell_type": "code",
   "execution_count": 55,
   "id": "08153943-c93b-49f9-9fd0-be94f6608d73",
   "metadata": {},
   "outputs": [],
   "source": [
    "class MiniBatchGradientDescent:\n",
    "    def __init__(self, learning_rate=0.01, num_iterations=100, batch_size=32):\n",
    "        self.learning_rate = learning_rate\n",
    "        self.num_iterations = num_iterations\n",
    "        self.batch_size = batch_size\n",
    "\n",
    "    def loss_function(self, X, y):\n",
    "        return np.mean((X.dot(self.theta) - y) ** 2)\n",
    "        \n",
    "    def grad(self, X, y):\n",
    "        return 2 / len(X) * X.T.dot(X.dot(self.theta) - y)\n",
    "    \n",
    "    def fit(self, X, y):\n",
    "        X = np.c_[np.ones((X.shape[0], 1)), X]\n",
    "\n",
    "        self.theta = np.zeros(X.shape[1])\n",
    "        \n",
    "        for iteration in range(1, self.num_iterations + 1):\n",
    "            indices = np.random.permutation(len(X))\n",
    "            X_shuffled = X[indices]\n",
    "            y_shuffled = y[indices]\n",
    "\n",
    "            for i in range(0, len(X), self.batch_size):\n",
    "                X_batch = X_shuffled[i:i + self.batch_size]\n",
    "                y_batch = y_shuffled[i:i + self.batch_size]\n",
    "\n",
    "                gradients = self.grad(X, y)\n",
    "                self.theta -= self.learning_rate * gradients\n",
    "\n",
    "            if iteration % 100 == 0:\n",
    "                loss = self.loss_function(X, y)\n",
    "\n",
    "    def predict(self, X):\n",
    "        X = np.c_[np.ones((X.shape[0], 1)), X]\n",
    "        return X.dot(self.theta)"
   ]
  },
  {
   "cell_type": "code",
   "execution_count": 66,
   "id": "53dabd2a-cb5c-4df0-920a-29730a1a3388",
   "metadata": {},
   "outputs": [],
   "source": [
    "X = np.array([[1], [2], [3]])\n",
    "y = np.array([2, 4, 6])"
   ]
  },
  {
   "cell_type": "code",
   "execution_count": 67,
   "id": "50073b6d-b6b1-44f1-aaac-e4a56b3684ef",
   "metadata": {},
   "outputs": [],
   "source": [
    "mbgd = MiniBatchGradientDescent(learning_rate=0.1, num_iterations=1, batch_size=2)\n",
    "mbgd.fit(X, y)"
   ]
  },
  {
   "cell_type": "code",
   "execution_count": 68,
   "id": "6979b0fb-396a-451c-a588-1e5ee2b5f78f",
   "metadata": {},
   "outputs": [
    {
     "name": "stdout",
     "output_type": "stream",
     "text": [
      "Predictions: [2.36444444 4.03555556 5.70666667]\n"
     ]
    }
   ],
   "source": [
    "predictions = mbgd.predict(X)\n",
    "print(f\"Predictions: {predictions}\")"
   ]
  },
  {
   "cell_type": "code",
   "execution_count": 69,
   "id": "bbd5ea93-6e47-4ad1-9ce1-238e77140eac",
   "metadata": {},
   "outputs": [
    {
     "name": "stdout",
     "output_type": "stream",
     "text": [
      "Final Loss: 0.07337613168724294\n",
      "Final Weights (Theta): [0.69333333 1.67111111]\n"
     ]
    }
   ],
   "source": [
    "final_loss = mbgd.loss_function(np.c_[np.ones((X.shape[0], 1)), X], y)\n",
    "print(f\"Final Loss: {final_loss}\")\n",
    "print(f\"Final Weights (Theta): {mbgd.theta}\")"
   ]
  },
  {
   "cell_type": "code",
   "execution_count": null,
   "id": "88ed5895-b0cf-4077-b96d-08e6d4cd6f59",
   "metadata": {},
   "outputs": [],
   "source": []
  }
 ],
 "metadata": {
  "kernelspec": {
   "display_name": "Python 3 (ipykernel)",
   "language": "python",
   "name": "python3"
  },
  "language_info": {
   "codemirror_mode": {
    "name": "ipython",
    "version": 3
   },
   "file_extension": ".py",
   "mimetype": "text/x-python",
   "name": "python",
   "nbconvert_exporter": "python",
   "pygments_lexer": "ipython3",
   "version": "3.10.12"
  }
 },
 "nbformat": 4,
 "nbformat_minor": 5
}
