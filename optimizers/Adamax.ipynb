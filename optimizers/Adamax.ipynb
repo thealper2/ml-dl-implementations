{
 "cells": [
  {
   "cell_type": "code",
   "execution_count": 3,
   "id": "cf0a683d-e19b-4b91-a2d7-f1cea1f21940",
   "metadata": {},
   "outputs": [],
   "source": [
    "import numpy as np"
   ]
  },
  {
   "cell_type": "code",
   "execution_count": 7,
   "id": "61e5ce32-ed47-4e28-98f4-eb23c98fc4a3",
   "metadata": {},
   "outputs": [],
   "source": [
    "class Adamax:\n",
    "    def __init__(self, learning_rate=0.002, beta1=0.9, beta2=0.999, epsilon=1e-8):\n",
    "        self.learning_rate = learning_rate\n",
    "        self.beta1 = beta1\n",
    "        self.beta2 = beta2\n",
    "        self.epsilon = epsilon\n",
    "\n",
    "        self.t = 0\n",
    "    \n",
    "    def update(self, params, grads):\n",
    "        m = [np.zeros_like(param) for param in params]\n",
    "        u = [np.zeros_like(param) for param in params]\n",
    "\n",
    "        updated_params = []\n",
    "\n",
    "        self.t += 1\n",
    "\n",
    "        for i, (param, grad) in enumerate(zip(params, grads)):\n",
    "            m[i] = self.beta1 * m[i] + (1 - self.beta1) * grad\n",
    "\n",
    "            u[i] = np.maximum(self.beta2 * u[i], np.abs(grad))\n",
    "\n",
    "            m_hat = m[i] / (1 - self.beta1 ** self.t)\n",
    "\n",
    "            param_update = param - (self.learning_rate / (u[i] + self.epsilon)) * m_hat\n",
    "            updated_params.append(param_update)\n",
    "\n",
    "        return updated_params"
   ]
  },
  {
   "cell_type": "code",
   "execution_count": 8,
   "id": "ddecc49f-33ef-4ff5-96dd-b74e1d70ae68",
   "metadata": {},
   "outputs": [],
   "source": [
    "params = np.array([2.0])\n",
    "grads = np.array([4.0])"
   ]
  },
  {
   "cell_type": "code",
   "execution_count": 9,
   "id": "7bee854e-383b-41a7-9674-db0088de48bf",
   "metadata": {},
   "outputs": [
    {
     "data": {
      "text/plain": [
       "[1.998000000005]"
      ]
     },
     "execution_count": 9,
     "metadata": {},
     "output_type": "execute_result"
    }
   ],
   "source": [
    "adamax = Adamax()\n",
    "adamax.update(params, grads)"
   ]
  },
  {
   "cell_type": "code",
   "execution_count": null,
   "id": "18007e4a-bb97-4129-9363-660177a8a589",
   "metadata": {},
   "outputs": [],
   "source": []
  }
 ],
 "metadata": {
  "kernelspec": {
   "display_name": "Python 3 (ipykernel)",
   "language": "python",
   "name": "python3"
  },
  "language_info": {
   "codemirror_mode": {
    "name": "ipython",
    "version": 3
   },
   "file_extension": ".py",
   "mimetype": "text/x-python",
   "name": "python",
   "nbconvert_exporter": "python",
   "pygments_lexer": "ipython3",
   "version": "3.10.12"
  }
 },
 "nbformat": 4,
 "nbformat_minor": 5
}
