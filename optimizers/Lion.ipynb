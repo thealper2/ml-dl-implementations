{
 "cells": [
  {
   "cell_type": "code",
   "execution_count": 1,
   "id": "4187ef8e-da53-4aa7-bce2-adf0fc2d08fe",
   "metadata": {},
   "outputs": [],
   "source": [
    "import numpy as np"
   ]
  },
  {
   "cell_type": "code",
   "execution_count": 5,
   "id": "82cb6cd7-37fa-4233-8f8f-f010156d228a",
   "metadata": {},
   "outputs": [],
   "source": [
    "class Lion:\n",
    "    def __init__(self, learning_rate=0.1, beta1=0.9):\n",
    "        self.learning_rate = learning_rate\n",
    "        self.beta1 = beta1\n",
    "\n",
    "    def update(self, params, grads):\n",
    "        m = [np.zeros_like(param) for param in params]\n",
    "\n",
    "        updated_params = []\n",
    "        for i, (param, grad) in enumerate(zip(params, grads)):\n",
    "            m[i] = self.beta1 * m[i] + (1 - self.beta1) * grad\n",
    "\n",
    "            update = self.learning_rate * np.sign(m[i])\n",
    "\n",
    "            param_update = param - update\n",
    "            updated_params.append(param_update)\n",
    "\n",
    "        return updated_params"
   ]
  },
  {
   "cell_type": "code",
   "execution_count": 8,
   "id": "21e8752c-ae72-43d2-890c-52593a5d3531",
   "metadata": {},
   "outputs": [],
   "source": [
    "params = np.array([0.0])\n",
    "grads = np.array([-4.0])"
   ]
  },
  {
   "cell_type": "code",
   "execution_count": 9,
   "id": "8143a757-8005-4669-8137-1dcf5ba27911",
   "metadata": {},
   "outputs": [
    {
     "data": {
      "text/plain": [
       "[0.1]"
      ]
     },
     "execution_count": 9,
     "metadata": {},
     "output_type": "execute_result"
    }
   ],
   "source": [
    "lion = Lion()\n",
    "lion.update(params, grads)"
   ]
  },
  {
   "cell_type": "code",
   "execution_count": null,
   "id": "6c6d200e-e2de-435f-8194-5cb1f1d6761a",
   "metadata": {},
   "outputs": [],
   "source": []
  }
 ],
 "metadata": {
  "kernelspec": {
   "display_name": "Python 3 (ipykernel)",
   "language": "python",
   "name": "python3"
  },
  "language_info": {
   "codemirror_mode": {
    "name": "ipython",
    "version": 3
   },
   "file_extension": ".py",
   "mimetype": "text/x-python",
   "name": "python",
   "nbconvert_exporter": "python",
   "pygments_lexer": "ipython3",
   "version": "3.10.12"
  }
 },
 "nbformat": 4,
 "nbformat_minor": 5
}
