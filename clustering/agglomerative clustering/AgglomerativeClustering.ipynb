{
 "cells": [
  {
   "cell_type": "markdown",
   "id": "2b156d5b-9ea7-4500-94c8-1f8db7860c0c",
   "metadata": {},
   "source": [
    "# Gerekli Kütüphaneler"
   ]
  },
  {
   "cell_type": "code",
   "execution_count": 1,
   "id": "3c2e9a91-ffe5-45e5-bc32-d611f132ad36",
   "metadata": {},
   "outputs": [],
   "source": [
    "import random\n",
    "import numpy as np\n",
    "import pandas as pd\n",
    "import matplotlib.pyplot as plt\n",
    "from sklearn.datasets import make_blobs\n",
    "from sklearn import metrics\n",
    "\n",
    "seed = 42\n",
    "np.random.seed(seed)\n",
    "random.seed(seed)"
   ]
  },
  {
   "cell_type": "markdown",
   "id": "d2a3ce86-62a8-448b-acad-8ac69d635613",
   "metadata": {},
   "source": [
    "# Veri Seti"
   ]
  },
  {
   "cell_type": "code",
   "execution_count": 2,
   "id": "1100602f-a9bf-4f60-adb8-f9d6ccf18f03",
   "metadata": {},
   "outputs": [],
   "source": [
    "X, y = make_blobs(n_samples=100, centers=3, n_features=2, random_state=seed)"
   ]
  },
  {
   "cell_type": "markdown",
   "id": "91b71a0f-bb26-4c8d-bc8d-7c9c1576b269",
   "metadata": {},
   "source": [
    "# Agglomerative Clustering"
   ]
  },
  {
   "cell_type": "code",
   "execution_count": 3,
   "id": "f6e66db5-242b-4272-8bbf-b2e0ca7858e2",
   "metadata": {},
   "outputs": [],
   "source": [
    "class AgglomerativeClustering:\n",
    "    def __init__(self, n_clusters=2, linkage=\"single\"):\n",
    "        # Kume sayisi\n",
    "        self.n_clusters = n_clusters\n",
    "        # Linkage -> ['single', 'complete', 'average']\n",
    "        self.linkage = linkage\n",
    "        # Etiketler\n",
    "        self.labels_ = None\n",
    "\n",
    "    def fit(self, X):\n",
    "        n_samples = X.shape[0]\n",
    "\n",
    "        # Her veri noktasi baslangicta ayri bir kume olarak kabul edilir\n",
    "        clusters = {i: [i] for i in range(n_samples)}\n",
    "\n",
    "        # Veri noktalari arasindaki mesafe hesaplanir\n",
    "        distances = np.zeros((n_samples, n_samples))\n",
    "\n",
    "        for i in range(n_samples):\n",
    "            for j in range(i + 1, n_samples):\n",
    "                distances[i, j] = np.sqrt(np.sum((X[i] - X[j]) ** 2))\n",
    "                distances[j, i] = distances[i, j]\n",
    "\n",
    "        while len(clusters) > self.n_clusters:\n",
    "            # Iki kume arasindaki minimum mesafe bulunur\n",
    "            min_dist = np.inf\n",
    "            closest_clusters = None\n",
    "\n",
    "            for c1 in clusters:\n",
    "                for c2 in clusters:\n",
    "                    if c1 != c2:\n",
    "                        if self.linkage == \"single\":\n",
    "                            dist = np.min([distances[i, j] for i in clusters[c1] for j in clusters[c2]])\n",
    "                        elif self.linkage == \"complete\":\n",
    "                            dist = np.max([distances[i, j] for i in clusters[c1] for j in clusters[c2]])\n",
    "                        elif self.linkage == \"average\":\n",
    "                            dist = np.mean([distances[i, j] for i in clusters[c1] for j in clusters[c2]])\n",
    "\n",
    "                        if dist < min_dist:\n",
    "                            min_dist = dist\n",
    "                            closest_clusters = (c1, c2)\n",
    "\n",
    "            c1, c2 = closest_clusters\n",
    "\n",
    "            # Iki kumeyi birlestir\n",
    "            clusters[c1].extend(clusters[c2])\n",
    "            del clusters[c2]\n",
    "\n",
    "            # Mesafe matrisini guncelle\n",
    "            new_distances = np.zeros_like(distances)\n",
    "\n",
    "            for c1 in clusters:\n",
    "                for c2 in clusters:\n",
    "                    if c1 != c2:\n",
    "                        if self.linkage == \"single\":\n",
    "                            dist = np.min([distances[i, j] for i in clusters[c1] for j in clusters[c2]])\n",
    "                        elif self.linkage == \"complete\":\n",
    "                            dist = np.max([distances[i, j] for i in clusters[c1] for j in clusters[c2]])\n",
    "                        elif self.linkage == \"average\":\n",
    "                            dist = np.mean([distances[i, j] for i in clusters[c1] for j in clusters[c2]])\n",
    "                        \n",
    "                        new_distances[c1, c2] = dist\n",
    "                        new_distances[c2, c1] = new_distances[c1, c2]\n",
    "\n",
    "            distances = new_distances\n",
    "\n",
    "        # Kumeleri etiketle\n",
    "        labels = np.zeros(n_samples, dtype=int)\n",
    "    \n",
    "        for cluster_idx, cluster in enumerate(clusters.values()):\n",
    "            for sample_idx in cluster:\n",
    "                labels[sample_idx] = cluster_idx\n",
    "    \n",
    "        self.labels_ = labels"
   ]
  },
  {
   "cell_type": "markdown",
   "id": "7eb1818d-8d65-4dcd-9a64-1c80aea1d46e",
   "metadata": {},
   "source": [
    "# Eğitim"
   ]
  },
  {
   "cell_type": "code",
   "execution_count": 4,
   "id": "78f94dea-f9a4-4f9d-a93f-bd88f7b04abd",
   "metadata": {},
   "outputs": [],
   "source": [
    "agg_cluster = AgglomerativeClustering(n_clusters=2, linkage=\"complete\")\n",
    "agg_cluster.fit(X)"
   ]
  },
  {
   "cell_type": "markdown",
   "id": "149a03e8-96bc-4e43-aeb2-c33df04c0e31",
   "metadata": {},
   "source": [
    "# Sonuçlar"
   ]
  },
  {
   "cell_type": "code",
   "execution_count": 5,
   "id": "c75c240b-e2bc-4a54-b6a9-75819a5cb242",
   "metadata": {},
   "outputs": [],
   "source": [
    "cluster_centers = agg_cluster.labels_"
   ]
  },
  {
   "cell_type": "code",
   "execution_count": 6,
   "id": "ff50e9da-e618-43d0-a7f9-1543a65bfa65",
   "metadata": {},
   "outputs": [
    {
     "name": "stdout",
     "output_type": "stream",
     "text": [
      "Homogeneity: 0.577\n",
      "Completeness: 1.000\n",
      "V-measure: 0.732\n",
      "Adjusted Rand Index: 0.563\n",
      "Adjusted Mutual Information: 0.729\n",
      "Silhouette Coefficient: 0.702\n"
     ]
    }
   ],
   "source": [
    "print(f\"Homogeneity: {metrics.homogeneity_score(y, cluster_centers):.3f}\")\n",
    "print(f\"Completeness: {metrics.completeness_score(y, cluster_centers):.3f}\")\n",
    "print(f\"V-measure: {metrics.v_measure_score(y, cluster_centers):.3f}\")\n",
    "print(f\"Adjusted Rand Index: {metrics.adjusted_rand_score(y, cluster_centers):.3f}\")\n",
    "print(f\"Adjusted Mutual Information: {metrics.adjusted_mutual_info_score(y, cluster_centers):.3f}\")\n",
    "print(f\"Silhouette Coefficient: {metrics.silhouette_score(X, cluster_centers):.3f}\")"
   ]
  },
  {
   "cell_type": "code",
   "execution_count": null,
   "id": "6662fe59-56f8-4504-85ac-73a54cb3474d",
   "metadata": {},
   "outputs": [],
   "source": []
  }
 ],
 "metadata": {
  "kernelspec": {
   "display_name": "Python 3 (ipykernel)",
   "language": "python",
   "name": "python3"
  },
  "language_info": {
   "codemirror_mode": {
    "name": "ipython",
    "version": 3
   },
   "file_extension": ".py",
   "mimetype": "text/x-python",
   "name": "python",
   "nbconvert_exporter": "python",
   "pygments_lexer": "ipython3",
   "version": "3.10.12"
  }
 },
 "nbformat": 4,
 "nbformat_minor": 5
}
