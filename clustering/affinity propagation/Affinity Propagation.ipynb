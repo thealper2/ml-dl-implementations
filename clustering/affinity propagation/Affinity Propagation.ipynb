{
 "cells": [
  {
   "cell_type": "markdown",
   "id": "70394eac-9310-460c-8f09-b16fe1db6b58",
   "metadata": {},
   "source": [
    "# Gerekli Kütüphaneler"
   ]
  },
  {
   "cell_type": "code",
   "execution_count": 1,
   "id": "c1804a3d-4a67-4545-b944-3a3455c6d7e6",
   "metadata": {},
   "outputs": [],
   "source": [
    "import random\n",
    "import numpy as np\n",
    "import pandas as pd\n",
    "import matplotlib.pyplot as plt\n",
    "from collections import deque\n",
    "from sklearn.datasets import make_blobs\n",
    "from sklearn import metrics\n",
    "\n",
    "seed = 42\n",
    "np.random.seed(seed)\n",
    "random.seed(seed)"
   ]
  },
  {
   "cell_type": "markdown",
   "id": "ed44f81e-2760-43f2-95de-55b9727b32d6",
   "metadata": {},
   "source": [
    "# Veri Seti "
   ]
  },
  {
   "cell_type": "code",
   "execution_count": 2,
   "id": "6e93fb84-b8ac-4854-bb1f-21e8d1ce128d",
   "metadata": {},
   "outputs": [],
   "source": [
    "X, y = make_blobs(n_samples=100, centers=3, n_features=2, random_state=0)"
   ]
  },
  {
   "cell_type": "markdown",
   "id": "56f4a6b5-710d-4325-8710-db82db5cef97",
   "metadata": {},
   "source": [
    "# Affinity Propagation"
   ]
  },
  {
   "cell_type": "code",
   "execution_count": 3,
   "id": "75173d77-a5af-4619-8ada-5b5945c5e714",
   "metadata": {},
   "outputs": [],
   "source": [
    "class AffinityPropagation:\n",
    "    def __init__(self, damping=0.9, max_iter=100, convergence_iter=15):\n",
    "        # Damping faktoru (0.5 < damping < 1.0)\n",
    "        self.damping = damping\n",
    "        # Maksimum iterasyon sayisi\n",
    "        self.max_iter = max_iter\n",
    "        # Konsensus iterasyon sayisi\n",
    "        self.convergence_iter = convergence_iter\n",
    "\n",
    "    def fit(self, X):\n",
    "        n_samples = X.shape[0]\n",
    "        # Baslangicta tercih negativ en kucuk degerlerden olusur\n",
    "        preference = np.median(X)\n",
    "\n",
    "        # Sorumluluk (responsibility) matrisi\n",
    "        R = np.zeros((n_samples, n_samples))\n",
    "        # Kullanilabilirlik (availability) matrisi\n",
    "        A = np.zeros((n_samples, n_samples))\n",
    "\n",
    "        # Benzerlikler guncellenir\n",
    "        S = X.copy()\n",
    "        np.fill_diagonal(S, preference)\n",
    "\n",
    "        for iteration in range(self.max_iter):\n",
    "            # Sorumluluk guncellemesi\n",
    "            for i in range(n_samples):\n",
    "                for k in range(n_samples):\n",
    "                    max_s = np.max(A[i, :] + S[i, :])\n",
    "                    R[i, k] = self.damping * R[i, k] + (1 - self.damping) * (S[i, k] - max_s)\n",
    "\n",
    "            # Kullanilabilirlik guncellemesi\n",
    "            for i in range(n_samples):\n",
    "                for k in range(n_samples):\n",
    "                    if i == k:\n",
    "                        A[i, k] = self.damping * A[i, k] + (1 - self.damping) * np.sum(np.maximum(R[:, k], 0))\n",
    "                    else:\n",
    "                        A[i, k] = self.damping * A[i, k] + (1 - self.damping) * np.minimum(0, R[k, k] + np.sum(np.maximum(R[:, k], 0) - R[i, k]))\n",
    "\n",
    "            # Konsensus kontrolu\n",
    "            exemplars = np.where((A + R).diagonal() > 0)[0]\n",
    "\n",
    "            if len(exemplars) > 0 and iteration >= self.convergence_iter:\n",
    "                break\n",
    "\n",
    "        # Kume merkezlerini (exemplar) belirlenir\n",
    "        cluster_centers_indices = np.where((A + R).diagonal() > 0)[0]\n",
    "\n",
    "        # Kumeleri atanir\n",
    "        labels = np.zeros(n_samples)\n",
    "        for i in range(n_samples):\n",
    "            labels[i] = np.argmax(S[i, cluster_centers_indices])\n",
    "\n",
    "        self.cluster_centers_indices_ = cluster_centers_indices\n",
    "        self.labels_ = labels\n",
    "\n",
    "    def predict(self, X):\n",
    "        return self.labels_"
   ]
  },
  {
   "cell_type": "markdown",
   "id": "763a5619-5647-4bc1-b459-ab900760aa97",
   "metadata": {},
   "source": [
    "# Eğitim"
   ]
  },
  {
   "cell_type": "code",
   "execution_count": 4,
   "id": "ebe2f563-9ae7-4c78-a92c-aba0987f7686",
   "metadata": {},
   "outputs": [],
   "source": [
    "similarity_matrix = -metrics.pairwise_distances(X)"
   ]
  },
  {
   "cell_type": "code",
   "execution_count": 5,
   "id": "1b59279a-550a-48cc-8f28-462f67117135",
   "metadata": {},
   "outputs": [],
   "source": [
    "ap = AffinityPropagation(damping=0.5, max_iter=200)\n",
    "ap.fit(similarity_matrix)"
   ]
  },
  {
   "cell_type": "markdown",
   "id": "c7ace0c0-c5e6-4997-93f2-dcc5de29b6bd",
   "metadata": {},
   "source": [
    "# Sonuçlar"
   ]
  },
  {
   "cell_type": "code",
   "execution_count": 6,
   "id": "7e1e96b3-29e8-42ac-87a5-6429c4fffedb",
   "metadata": {},
   "outputs": [],
   "source": [
    "cluster_centers = ap.cluster_centers_indices_"
   ]
  },
  {
   "cell_type": "code",
   "execution_count": 11,
   "id": "a2c1f30d-0723-4354-8089-f2e7c3772a5a",
   "metadata": {},
   "outputs": [],
   "source": [
    "labels = ap.labels_"
   ]
  },
  {
   "cell_type": "code",
   "execution_count": 12,
   "id": "dae421fe-d75d-4f47-b0ec-7d568ee0cbcc",
   "metadata": {},
   "outputs": [
    {
     "name": "stdout",
     "output_type": "stream",
     "text": [
      "Homogeneity: 0.632\n",
      "Completeness: 0.378\n",
      "V-measure: 0.473\n",
      "Adjusted Rand Index: 0.296\n",
      "Adjusted Mutual Information: 0.437\n",
      "Silhouette Coefficient: 0.121\n"
     ]
    }
   ],
   "source": [
    "print(f\"Homogeneity: {metrics.homogeneity_score(y, labels):.3f}\")\n",
    "print(f\"Completeness: {metrics.completeness_score(y, labels):.3f}\")\n",
    "print(f\"V-measure: {metrics.v_measure_score(y, labels):.3f}\")\n",
    "print(f\"Adjusted Rand Index: {metrics.adjusted_rand_score(y, labels):.3f}\")\n",
    "print(f\"Adjusted Mutual Information: {metrics.adjusted_mutual_info_score(y, labels):.3f}\")\n",
    "print(f\"Silhouette Coefficient: {metrics.silhouette_score(X, labels):.3f}\")"
   ]
  },
  {
   "cell_type": "code",
   "execution_count": null,
   "id": "d16b7d48-d98e-4f84-a446-f53e9b53cada",
   "metadata": {},
   "outputs": [],
   "source": []
  }
 ],
 "metadata": {
  "kernelspec": {
   "display_name": "Python 3 (ipykernel)",
   "language": "python",
   "name": "python3"
  },
  "language_info": {
   "codemirror_mode": {
    "name": "ipython",
    "version": 3
   },
   "file_extension": ".py",
   "mimetype": "text/x-python",
   "name": "python",
   "nbconvert_exporter": "python",
   "pygments_lexer": "ipython3",
   "version": "3.10.12"
  }
 },
 "nbformat": 4,
 "nbformat_minor": 5
}
