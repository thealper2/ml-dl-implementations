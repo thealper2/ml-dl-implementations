{
 "cells": [
  {
   "cell_type": "markdown",
   "id": "11f61c13-763a-44f3-a3c5-eaf88a782fbf",
   "metadata": {},
   "source": [
    "# Gerekli Kütüphaneler"
   ]
  },
  {
   "cell_type": "code",
   "execution_count": 1,
   "id": "7bf39740-0569-46af-8eb9-060313c653bf",
   "metadata": {},
   "outputs": [],
   "source": [
    "import random\n",
    "import numpy as np\n",
    "import pandas as pd\n",
    "import matplotlib.pyplot as plt\n",
    "from sklearn.datasets import make_blobs\n",
    "from sklearn import metrics\n",
    "\n",
    "seed = 42\n",
    "np.random.seed(seed)\n",
    "random.seed(seed)"
   ]
  },
  {
   "cell_type": "markdown",
   "id": "a990e90d-c86f-42b0-bd05-eeea8fe5ddda",
   "metadata": {},
   "source": [
    "# Veri Seti"
   ]
  },
  {
   "cell_type": "code",
   "execution_count": 2,
   "id": "318824da-6745-4cca-82f7-d622805d23f3",
   "metadata": {},
   "outputs": [],
   "source": [
    "X, y = make_blobs(n_samples=100, centers=3, n_features=2, random_state=seed)"
   ]
  },
  {
   "cell_type": "markdown",
   "id": "82c7c526-4bde-461d-af57-854a7c281a00",
   "metadata": {},
   "source": [
    "# Mean Shift"
   ]
  },
  {
   "cell_type": "code",
   "execution_count": 19,
   "id": "5142e023-83b0-486f-8abc-1a9f4236bb90",
   "metadata": {},
   "outputs": [],
   "source": [
    "class MeanShift:\n",
    "    def __init__(self, bandwidth=None, max_iter=100, tol=1e-3):\n",
    "        self.bandwidth = bandwidth\n",
    "        self.max_iter = max_iter\n",
    "        self.tol = tol\n",
    "        self.cluster_centers_ = None\n",
    "        self.labels_ = None\n",
    "\n",
    "    def fit(self, X):\n",
    "        if self.bandwidth is None:\n",
    "            # Scott kurali\n",
    "            self.bandwidth = np.mean(np.std(X, axis=0)) * 1.06 * X.shape[0] ** (-1 / 5.)\n",
    "\n",
    "        # Veri noktalari kopyalanir\n",
    "        points = np.copy(X)\n",
    "        for _ in range(self.max_iter):\n",
    "            new_points = []\n",
    "            for point in points:\n",
    "                # Bandwidth icinde olan noktalar bulunur\n",
    "                in_bandwidth = []\n",
    "                for x in X:\n",
    "                    dist = np.sqrt(np.sum((point - x) ** 2))\n",
    "                    if dist < self.bandwidth:\n",
    "                        in_bandwidth.append(x)\n",
    "    \n",
    "                new_point = np.mean(in_bandwidth, axis=0)\n",
    "                new_points.append(new_point)\n",
    "\n",
    "            new_points = np.array(new_points)\n",
    "            # Degisim miktari\n",
    "            shift = np.linalg.norm(new_points - points, axis=1)\n",
    "            if np.all(shift < self.tol):\n",
    "                break\n",
    "\n",
    "            points = new_points\n",
    "\n",
    "        # Kume merkezleri belirlenir\n",
    "        unique_points = np.unique(np.round(points, decimals=5), axis=0)\n",
    "        self.cluster_centers_ = unique_points\n",
    "\n",
    "        # Etiketler\n",
    "        self.labels_ = np.array([np.argmin([np.sqrt(np.sum((x - center) ** 2)) for center in self.cluster_centers_]) for x in X])\n",
    "\n",
    "    def predict(self, X):\n",
    "        labels = np.array([np.argmin([np.sqrt(np.sum((x - center) ** 2)) for center in self.cluster_centers_]) for x in X])\n",
    "        return labels"
   ]
  },
  {
   "cell_type": "markdown",
   "id": "7f02e03f-a443-4090-8669-729bd3684787",
   "metadata": {},
   "source": [
    "# Eğitim"
   ]
  },
  {
   "cell_type": "code",
   "execution_count": 20,
   "id": "64af64a4-faff-411b-9d19-fb26d5badad5",
   "metadata": {
    "scrolled": true
   },
   "outputs": [],
   "source": [
    "ms = MeanShift(bandwidth=2.0)\n",
    "ms.fit(X)"
   ]
  },
  {
   "cell_type": "markdown",
   "id": "ea379ba9-95b3-479c-8019-54ccf956fdfc",
   "metadata": {},
   "source": [
    "# Sonuçlar"
   ]
  },
  {
   "cell_type": "code",
   "execution_count": 23,
   "id": "1af81dc3-011b-4a9e-8822-331d58bcbb04",
   "metadata": {},
   "outputs": [],
   "source": [
    "cluster_centers = ms.predict(X)"
   ]
  },
  {
   "cell_type": "code",
   "execution_count": 24,
   "id": "079e0949-eb04-4f12-93bc-6aadc1ad4406",
   "metadata": {},
   "outputs": [
    {
     "name": "stdout",
     "output_type": "stream",
     "text": [
      "Homogeneity: 1.000\n",
      "Completeness: 0.557\n",
      "V-measure: 0.715\n",
      "Adjusted Rand Index: 0.498\n",
      "Adjusted Mutual Information: 0.700\n",
      "Silhouette Coefficient: 0.265\n"
     ]
    }
   ],
   "source": [
    "print(f\"Homogeneity: {metrics.homogeneity_score(y, cluster_centers):.3f}\")\n",
    "print(f\"Completeness: {metrics.completeness_score(y, cluster_centers):.3f}\")\n",
    "print(f\"V-measure: {metrics.v_measure_score(y, cluster_centers):.3f}\")\n",
    "print(f\"Adjusted Rand Index: {metrics.adjusted_rand_score(y, cluster_centers):.3f}\")\n",
    "print(f\"Adjusted Mutual Information: {metrics.adjusted_mutual_info_score(y, cluster_centers):.3f}\")\n",
    "print(f\"Silhouette Coefficient: {metrics.silhouette_score(X, cluster_centers):.3f}\")"
   ]
  },
  {
   "cell_type": "code",
   "execution_count": null,
   "id": "5062149f-e8f5-42a9-8ce9-09b4e6ff30a9",
   "metadata": {},
   "outputs": [],
   "source": []
  }
 ],
 "metadata": {
  "kernelspec": {
   "display_name": "Python 3 (ipykernel)",
   "language": "python",
   "name": "python3"
  },
  "language_info": {
   "codemirror_mode": {
    "name": "ipython",
    "version": 3
   },
   "file_extension": ".py",
   "mimetype": "text/x-python",
   "name": "python",
   "nbconvert_exporter": "python",
   "pygments_lexer": "ipython3",
   "version": "3.10.12"
  }
 },
 "nbformat": 4,
 "nbformat_minor": 5
}
