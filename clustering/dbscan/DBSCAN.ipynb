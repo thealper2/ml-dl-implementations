{
 "cells": [
  {
   "cell_type": "markdown",
   "id": "6acbc0f2-2e83-4cef-9f7b-ec9c07ed9e29",
   "metadata": {},
   "source": [
    "# Gerekli Kütüphaneler"
   ]
  },
  {
   "cell_type": "code",
   "execution_count": 3,
   "id": "32149ce8-3635-44c3-afba-d3a033da5577",
   "metadata": {},
   "outputs": [],
   "source": [
    "import random\n",
    "import numpy as np\n",
    "import pandas as pd\n",
    "import matplotlib.pyplot as plt\n",
    "from collections import deque\n",
    "from sklearn.datasets import make_blobs\n",
    "from sklearn import metrics\n",
    "\n",
    "seed = 42\n",
    "np.random.seed(seed)\n",
    "random.seed(seed)"
   ]
  },
  {
   "cell_type": "markdown",
   "id": "80e1f3d1-cf92-42ac-85a6-35bee6f057ff",
   "metadata": {},
   "source": [
    "# Veri Seti"
   ]
  },
  {
   "cell_type": "code",
   "execution_count": 4,
   "id": "b20d91cf-7a43-48bb-b960-c3017a33f265",
   "metadata": {},
   "outputs": [],
   "source": [
    "X, y = make_blobs(n_samples=100, centers=3, n_features=2, random_state=seed)"
   ]
  },
  {
   "cell_type": "markdown",
   "id": "4dc311d3-c3d6-46a0-bbfa-be66b17ed319",
   "metadata": {},
   "source": [
    "# DBSCAN"
   ]
  },
  {
   "cell_type": "code",
   "execution_count": 5,
   "id": "e7245f44-0775-45ca-a219-02b3492a024b",
   "metadata": {},
   "outputs": [],
   "source": [
    "class DBSCAN:\n",
    "    def __init__(self, eps=0.5, min_samples=5):\n",
    "        # Komsuluk mesafesi (eps)\n",
    "        self.eps = eps\n",
    "        # Minimum komsu sayisi\n",
    "        self.min_samples = min_samples\n",
    "        # Etiketler (Gurultu icin -1 alir)\n",
    "        self.labels = None\n",
    "\n",
    "    def fit(self, X):\n",
    "        n_samples = X.shape[0]\n",
    "        # Baslangicta tum noktalar gurultu olarak kabul edilir (-1)\n",
    "        self.labels = -np.ones(n_samples)\n",
    "        cluster_id = 0\n",
    "\n",
    "        for point_idx in range(n_samples):\n",
    "            if self.labels[point_idx] != -1:\n",
    "                continue\n",
    "\n",
    "            # Komsulari bul\n",
    "            neighbors = []\n",
    "            for i in range(X.shape[0]):\n",
    "                if np.linalg.norm(X[point_idx] - X[i]) <= self.eps:\n",
    "                    neighbors.append(i)\n",
    "\n",
    "            # Eger komsu sayisi min_samples'dan az ise, bu nokta gurultudur\n",
    "            if len(neighbors) < self.min_samples:\n",
    "                self.labels[point_idx] = -1\n",
    "            else:\n",
    "                # Yeni bir kume olustur ve genislet\n",
    "                self.labels[point_idx] = cluster_id\n",
    "                queue = deque(neighbors)\n",
    "        \n",
    "                while queue:\n",
    "                    neighbor_idx = queue.popleft()\n",
    "        \n",
    "                    if self.labels[neighbor_idx] == -1:\n",
    "                        # Gurultu noktalarini kumeye ekle\n",
    "                        self.labels[neighbor_idx] = cluster_id\n",
    "        \n",
    "                    if self.labels[neighbor_idx] != -1:\n",
    "                        continue\n",
    "        \n",
    "                    # Bu noktayi kumeye ekle\n",
    "                    self.labels[neighbor_idx] = cluster_id\n",
    "        \n",
    "                    # Bu komsunun komsularini bul\n",
    "                    new_neighbors  = []\n",
    "                    for i in range(X.shape[0]):\n",
    "                        if np.linalg.norm(X[point_idx] - X[i]) <= self.eps:\n",
    "                            new_neighbors .append(i)\n",
    "        \n",
    "                    if len(new_neighbors) >= self.min_samples:\n",
    "                        queue.extend(new_neighbors)\n",
    "\n",
    "                cluster_id += 1\n",
    "\n",
    "    def predict(self, X):\n",
    "        return self.labels"
   ]
  },
  {
   "cell_type": "markdown",
   "id": "ac7ea387-61c6-4afd-b767-213f0a4d4d4c",
   "metadata": {},
   "source": [
    "# Eğitim"
   ]
  },
  {
   "cell_type": "code",
   "execution_count": 6,
   "id": "906a42d7-7154-4846-9ee8-372831312c02",
   "metadata": {},
   "outputs": [],
   "source": [
    "dbs = DBSCAN(eps=1.5, min_samples=2)\n",
    "dbs.fit(X)"
   ]
  },
  {
   "cell_type": "markdown",
   "id": "8ac2f63d-1ec5-49f1-936b-221e99791c9d",
   "metadata": {},
   "source": [
    "# Sonuçlar"
   ]
  },
  {
   "cell_type": "code",
   "execution_count": 7,
   "id": "3f4755d5-ac64-48ee-a09a-53a21b31b446",
   "metadata": {},
   "outputs": [],
   "source": [
    "cluster_centers = dbs.predict(X)"
   ]
  },
  {
   "cell_type": "code",
   "execution_count": 8,
   "id": "f62ac8c7-474d-408e-a830-957e6aa2bdd9",
   "metadata": {},
   "outputs": [
    {
     "name": "stdout",
     "output_type": "stream",
     "text": [
      "Homogeneity: 0.694\n",
      "Completeness: 0.362\n",
      "V-measure: 0.476\n",
      "Adjusted Rand Index: 0.306\n",
      "Adjusted Mutual Information: 0.431\n",
      "Silhouette Coefficient: 0.214\n"
     ]
    }
   ],
   "source": [
    "print(f\"Homogeneity: {metrics.homogeneity_score(y, cluster_centers):.3f}\")\n",
    "print(f\"Completeness: {metrics.completeness_score(y, cluster_centers):.3f}\")\n",
    "print(f\"V-measure: {metrics.v_measure_score(y, cluster_centers):.3f}\")\n",
    "print(f\"Adjusted Rand Index: {metrics.adjusted_rand_score(y, cluster_centers):.3f}\")\n",
    "print(f\"Adjusted Mutual Information: {metrics.adjusted_mutual_info_score(y, cluster_centers):.3f}\")\n",
    "print(f\"Silhouette Coefficient: {metrics.silhouette_score(X, cluster_centers):.3f}\")"
   ]
  },
  {
   "cell_type": "code",
   "execution_count": null,
   "id": "c10355d0-b2a9-40b2-bee5-909513ff275e",
   "metadata": {},
   "outputs": [],
   "source": []
  }
 ],
 "metadata": {
  "kernelspec": {
   "display_name": "Python 3 (ipykernel)",
   "language": "python",
   "name": "python3"
  },
  "language_info": {
   "codemirror_mode": {
    "name": "ipython",
    "version": 3
   },
   "file_extension": ".py",
   "mimetype": "text/x-python",
   "name": "python",
   "nbconvert_exporter": "python",
   "pygments_lexer": "ipython3",
   "version": "3.10.12"
  }
 },
 "nbformat": 4,
 "nbformat_minor": 5
}
