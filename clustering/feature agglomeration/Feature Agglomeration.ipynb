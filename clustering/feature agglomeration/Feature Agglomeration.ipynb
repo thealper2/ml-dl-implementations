{
 "cells": [
  {
   "cell_type": "markdown",
   "id": "1febb399-e666-458f-ac78-246a04312575",
   "metadata": {},
   "source": [
    "# Gerekli Kütüphaneler"
   ]
  },
  {
   "cell_type": "code",
   "execution_count": 7,
   "id": "ba511863-a61e-4615-9363-7d1d921fc732",
   "metadata": {},
   "outputs": [],
   "source": [
    "import random\n",
    "import numpy as np\n",
    "import pandas as pd\n",
    "import matplotlib.pyplot as plt\n",
    "from sklearn.datasets import make_blobs\n",
    "from sklearn import metrics\n",
    "\n",
    "seed = 42\n",
    "np.random.seed(seed)\n",
    "random.seed(seed)"
   ]
  },
  {
   "cell_type": "markdown",
   "id": "72f74ff4-d43c-440f-b145-8d6193653f87",
   "metadata": {},
   "source": [
    "# Veri Seti"
   ]
  },
  {
   "cell_type": "code",
   "execution_count": 34,
   "id": "2fc7fe66-82df-41b8-8dd2-b7dd20a4228b",
   "metadata": {},
   "outputs": [],
   "source": [
    "X, y = make_blobs(n_samples=100, centers=3, n_features=10, random_state=seed)"
   ]
  },
  {
   "cell_type": "markdown",
   "id": "a8f15b6a-cb3c-459c-b944-ff0185bc0015",
   "metadata": {},
   "source": [
    "# Feature Agglomeration"
   ]
  },
  {
   "cell_type": "code",
   "execution_count": 35,
   "id": "22132e99-3826-4be8-ab39-ce062150a3b5",
   "metadata": {},
   "outputs": [],
   "source": [
    "class FeatureAgglomeration:\n",
    "    def __init__(self, n_clusters=2):\n",
    "        self.n_clusters = n_clusters\n",
    "        self.labels_ = None\n",
    "\n",
    "    def fit(self, X):\n",
    "        n_features = X.shape[1]\n",
    "\n",
    "        # Baslangicta her ozellilk bir kume olarak belirlenir\n",
    "        clusters = {i: [i] for i in range(n_features)}\n",
    "        self.labels_ = np.arange(n_features)\n",
    "\n",
    "        # Ozellikler arasindaki mesafe hesaplanir\n",
    "        distances = np.zeros((n_features, n_features))\n",
    "        for i in range(n_features):\n",
    "            for j in range(i + 1, n_features):\n",
    "                distances[i, j] = np.linalg.norm(X[:, i] - X[:, j])\n",
    "                distances[j, i] = distances[i, j]\n",
    "\n",
    "        # Kumeleme islemi\n",
    "        while len(clusters) > self.n_clusters:\n",
    "            # Kucuk mesafe bulunur\n",
    "            min_dist = np.inf\n",
    "            min_pair = None\n",
    "\n",
    "            for i in clusters:\n",
    "                for j in clusters:\n",
    "                    if i < j:\n",
    "                        # Iki kume arasindaki ortalama mesafe hesaplanir\n",
    "                        dist = np.mean([distances[p1, p2] for p1 in clusters[i] for p2 in clusters[i]])\n",
    "                        if dist < min_dist:\n",
    "                            min_dist = dist\n",
    "                            min_pair = (i, j)\n",
    "\n",
    "            # Kume ciftleri birlestirilir\n",
    "            i, j = min_pair\n",
    "            clusters[i].extend(clusters[j])\n",
    "            del clusters[j]\n",
    "\n",
    "            # Etiketler guncellenir\n",
    "            for feature in clusters[i]:\n",
    "                self.labels_[feature] = i\n",
    "\n",
    "        return self\n",
    "\n",
    "    def transform(self, X):\n",
    "        X_reduced = np.zeros((X.shape[0], self.n_clusters))\n",
    "        for i in range(self.n_clusters):\n",
    "            X_reduced[:, i] = np.mean(X[:, self.labels_ == i], axis=1)\n",
    "\n",
    "        return X_reduced"
   ]
  },
  {
   "cell_type": "markdown",
   "id": "7ea0db7a-5db8-43ec-8d8b-30a276251ce5",
   "metadata": {},
   "source": [
    "# Eğitim"
   ]
  },
  {
   "cell_type": "code",
   "execution_count": 36,
   "id": "1ab6fb76-9299-4b1a-9638-cfc898bc5b58",
   "metadata": {},
   "outputs": [
    {
     "data": {
      "text/plain": [
       "<__main__.FeatureAgglomeration at 0x7fa972613e20>"
      ]
     },
     "execution_count": 36,
     "metadata": {},
     "output_type": "execute_result"
    }
   ],
   "source": [
    "fa = FeatureAgglomeration(n_clusters=2)\n",
    "fa.fit(X)"
   ]
  },
  {
   "cell_type": "markdown",
   "id": "061da8c5-c1bd-4179-afce-76a2a8f3694b",
   "metadata": {},
   "source": [
    "# Sonuçlar"
   ]
  },
  {
   "cell_type": "code",
   "execution_count": 37,
   "id": "9b1244a8-2a03-4776-ad39-f3dba0887b80",
   "metadata": {},
   "outputs": [],
   "source": [
    "X_reduced = fa.transform(X)"
   ]
  },
  {
   "cell_type": "code",
   "execution_count": 38,
   "id": "9f2c2643-0ac1-410e-9ac3-29241d18e113",
   "metadata": {},
   "outputs": [
    {
     "name": "stdout",
     "output_type": "stream",
     "text": [
      "(100, 10)\n"
     ]
    }
   ],
   "source": [
    "print(X.shape)"
   ]
  },
  {
   "cell_type": "code",
   "execution_count": 39,
   "id": "52e07d71-858b-4c43-a186-3ab736e5bf14",
   "metadata": {},
   "outputs": [
    {
     "name": "stdout",
     "output_type": "stream",
     "text": [
      "(100, 2)\n"
     ]
    }
   ],
   "source": [
    "print(X_reduced.shape)"
   ]
  },
  {
   "cell_type": "code",
   "execution_count": null,
   "id": "0032964c-a1bf-4ece-abc8-5c13bba89f86",
   "metadata": {},
   "outputs": [],
   "source": []
  }
 ],
 "metadata": {
  "kernelspec": {
   "display_name": "Python 3 (ipykernel)",
   "language": "python",
   "name": "python3"
  },
  "language_info": {
   "codemirror_mode": {
    "name": "ipython",
    "version": 3
   },
   "file_extension": ".py",
   "mimetype": "text/x-python",
   "name": "python",
   "nbconvert_exporter": "python",
   "pygments_lexer": "ipython3",
   "version": "3.10.12"
  }
 },
 "nbformat": 4,
 "nbformat_minor": 5
}
