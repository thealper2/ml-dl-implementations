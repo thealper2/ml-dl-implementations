{
 "cells": [
  {
   "cell_type": "markdown",
   "id": "979e9900-68df-49a8-b35a-7840f5cb0b88",
   "metadata": {},
   "source": [
    "# Gerekli Kütüphaneler"
   ]
  },
  {
   "cell_type": "code",
   "execution_count": 7,
   "id": "d96cb115-f608-4d1e-8b03-c1bc53070b98",
   "metadata": {},
   "outputs": [],
   "source": [
    "import numpy as np\n",
    "import matplotlib.pyplot as plt\n",
    "from sklearn.model_selection import train_test_split\n",
    "from sklearn.metrics import r2_score, mean_squared_error\n",
    "from sklearn.tree import DecisionTreeRegressor\n",
    "from sklearn.ensemble import AdaBoostRegressor as SKAdaBoostRegressor\n",
    "from sklearn import datasets\n",
    "\n",
    "seed = 42\n",
    "np.random.seed(seed)"
   ]
  },
  {
   "cell_type": "markdown",
   "id": "e4506e7e-36ed-4dd9-8fd0-37a1238e73be",
   "metadata": {},
   "source": [
    "# Veri Seti"
   ]
  },
  {
   "cell_type": "code",
   "execution_count": 2,
   "id": "6eb6fab4-4909-4b1c-9991-4f3fa928ff8b",
   "metadata": {},
   "outputs": [],
   "source": [
    "X, y = datasets.make_regression(\n",
    "    n_samples=200,\n",
    "    n_features=1,\n",
    "    noise=15,\n",
    "    random_state=seed\n",
    ")"
   ]
  },
  {
   "cell_type": "code",
   "execution_count": 3,
   "id": "9107f03d-ca20-4033-a30b-c5ee9dbc02f8",
   "metadata": {},
   "outputs": [],
   "source": [
    "X_train, X_test, y_train, y_test = train_test_split(X, y, test_size=0.1, random_state=seed)"
   ]
  },
  {
   "cell_type": "markdown",
   "id": "8e966bf6-b124-4435-945c-856c21dd2e26",
   "metadata": {},
   "source": [
    "# Adaptive Boosting"
   ]
  },
  {
   "cell_type": "code",
   "execution_count": 11,
   "id": "992165e8-233c-4ab1-aa39-e8fdecc5fabb",
   "metadata": {},
   "outputs": [],
   "source": [
    "class AdaBoostRegressor:\n",
    "    def __init__(self, n_estimators=50):\n",
    "        # Zayif ogrenici sayisi\n",
    "        self.n_estimators = n_estimators\n",
    "        # Zayif modeller\n",
    "        self.models = []\n",
    "        # Zayif modellerin katki orani\n",
    "        self.alphas = []\n",
    "\n",
    "    def fit(self, X, y):\n",
    "        n_samples, n_features = X.shape\n",
    "        w = np.ones(n_samples) / n_samples\n",
    "\n",
    "        for _ in range(self.n_estimators):\n",
    "            stump = DecisionTreeRegressor(max_depth=1)\n",
    "            stump.fit(X, y, sample_weight=w)\n",
    "\n",
    "            y_pred = stump.predict(X)\n",
    "            error = np.sum(w * np.abs(y - y_pred)) / np.sum(w)\n",
    "\n",
    "            alpha = 0.5 * np.log((1 - error) / (error + 1e-10))\n",
    "\n",
    "            self.alphas.append(alpha)\n",
    "            self.models.append(stump)\n",
    "\n",
    "            w *= np.exp(-alpha * (y - y_pred) ** 2)\n",
    "            w /= np.sum(w)\n",
    "\n",
    "    def predict(self, X):\n",
    "        pred = np.sum([alpha * model.predict(X) for alpha, model in zip(self.alphas, self.models)], axis=0)\n",
    "        return pred"
   ]
  },
  {
   "cell_type": "markdown",
   "id": "23a691e1-a02a-457d-bdb2-7fb69ac5884c",
   "metadata": {},
   "source": [
    "# Eğitim"
   ]
  },
  {
   "cell_type": "code",
   "execution_count": null,
   "id": "9cdc5448-b03d-49d7-b190-b462bdd65b53",
   "metadata": {},
   "outputs": [],
   "source": [
    "ada = AdaBoostRegressor()\n",
    "ada.fit(X_train, y_train)"
   ]
  },
  {
   "cell_type": "markdown",
   "id": "c736d3b9-a617-4e94-9948-e79600d96a9f",
   "metadata": {},
   "source": [
    "# Tahmin"
   ]
  },
  {
   "cell_type": "code",
   "execution_count": null,
   "id": "055f346c-ead7-4b5b-a0ae-61e3473cbe8e",
   "metadata": {},
   "outputs": [],
   "source": [
    "y_pred = ada.predict(X_test)"
   ]
  },
  {
   "cell_type": "code",
   "execution_count": null,
   "id": "33a68cde-b348-41bd-bbd4-76b917427db6",
   "metadata": {},
   "outputs": [],
   "source": [
    "print(\"R^2 Score:\", r2_score(y_test, y_pred))"
   ]
  },
  {
   "cell_type": "code",
   "execution_count": null,
   "id": "8a6f3c11-d951-4e13-9e5a-6490ae0fc1fb",
   "metadata": {},
   "outputs": [],
   "source": [
    "print(\"MSE Score:\", mean_squared_error(y_test, y_pred))"
   ]
  },
  {
   "cell_type": "markdown",
   "id": "81150488-8340-41fa-8f2c-9791e789e505",
   "metadata": {},
   "source": [
    "# Sonuçlar"
   ]
  },
  {
   "cell_type": "code",
   "execution_count": null,
   "id": "02dde470-83d6-4575-a31b-eecde20073c5",
   "metadata": {},
   "outputs": [],
   "source": [
    "plt.figure(figsize=(3, 4))\n",
    "plt.plot(X_test, y_test, \"rx\")\n",
    "plt.plot(X_test, y_pred, \"b\")\n",
    "plt.show()"
   ]
  }
 ],
 "metadata": {
  "kernelspec": {
   "display_name": "Python 3 (ipykernel)",
   "language": "python",
   "name": "python3"
  },
  "language_info": {
   "codemirror_mode": {
    "name": "ipython",
    "version": 3
   },
   "file_extension": ".py",
   "mimetype": "text/x-python",
   "name": "python",
   "nbconvert_exporter": "python",
   "pygments_lexer": "ipython3",
   "version": "3.10.12"
  }
 },
 "nbformat": 4,
 "nbformat_minor": 5
}
