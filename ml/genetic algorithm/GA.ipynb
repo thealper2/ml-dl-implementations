{
 "cells": [
  {
   "cell_type": "code",
   "execution_count": 23,
   "id": "9a09176a-db0d-4667-920b-b416b6465839",
   "metadata": {},
   "outputs": [],
   "source": [
    "import numpy as np\n",
    "import matplotlib.pyplot as plt"
   ]
  },
  {
   "cell_type": "code",
   "execution_count": 24,
   "id": "17be41bb-2d1f-470e-b42a-3108e81b6c7f",
   "metadata": {},
   "outputs": [],
   "source": [
    "# Populasyon buyuklugu\n",
    "POPULATION_SIZE = 100\n",
    "# Mutasyon orani\n",
    "MUTATION_RATE = 0.01\n",
    "# Caprazlama orani\n",
    "CROSSOVER_RATE = 0.8\n",
    "# Maksimum jenerasyon sayisi\n",
    "GENERATIONS = 50\n",
    "# Gen uzunlugu (binary)\n",
    "CHROMOSOME_LENGTH = 8"
   ]
  },
  {
   "cell_type": "code",
   "execution_count": 25,
   "id": "df705462-9a4a-442c-8d8a-afef9ef1ae77",
   "metadata": {},
   "outputs": [],
   "source": [
    "population = [np.random.randint(2, size=CHROMOSOME_LENGTH) for _ in range(POPULATION_SIZE)]"
   ]
  },
  {
   "cell_type": "code",
   "execution_count": 26,
   "id": "2c448ee6-5813-449e-b279-abd3f1c8985c",
   "metadata": {},
   "outputs": [
    {
     "data": {
      "text/plain": [
       "[array([1, 1, 0, 0, 1, 0, 1, 0]),\n",
       " array([1, 0, 1, 1, 1, 1, 0, 1]),\n",
       " array([0, 1, 0, 1, 1, 1, 1, 1]),\n",
       " array([1, 0, 1, 0, 1, 0, 1, 1]),\n",
       " array([1, 1, 1, 0, 0, 0, 0, 0])]"
      ]
     },
     "execution_count": 26,
     "metadata": {},
     "output_type": "execute_result"
    }
   ],
   "source": [
    "population[:5]"
   ]
  },
  {
   "cell_type": "code",
   "execution_count": 27,
   "id": "b8c7b782-5b72-4e90-b789-bedd3302a46c",
   "metadata": {},
   "outputs": [],
   "source": [
    "def fitness_function(individual):\n",
    "    x = int(\"\".join(map(str, individual)), 2)\n",
    "    return x ** 2"
   ]
  },
  {
   "cell_type": "code",
   "execution_count": 28,
   "id": "1543efc1-e11f-400a-8298-44076f594b1c",
   "metadata": {},
   "outputs": [
    {
     "name": "stdout",
     "output_type": "stream",
     "text": [
      "Generation 1: Best Fitness = 63001, Best Individual = 251\n",
      "Generation 2: Best Fitness = 65025, Best Individual = 255\n",
      "Generation 3: Best Fitness = 65025, Best Individual = 255\n",
      "Generation 4: Best Fitness = 65025, Best Individual = 255\n",
      "Generation 5: Best Fitness = 65025, Best Individual = 255\n",
      "Generation 6: Best Fitness = 65025, Best Individual = 255\n",
      "Generation 7: Best Fitness = 65025, Best Individual = 255\n",
      "Generation 8: Best Fitness = 65025, Best Individual = 255\n",
      "Generation 9: Best Fitness = 65025, Best Individual = 255\n",
      "Generation 10: Best Fitness = 65025, Best Individual = 255\n",
      "Generation 11: Best Fitness = 65025, Best Individual = 255\n",
      "Generation 12: Best Fitness = 65025, Best Individual = 255\n",
      "Generation 13: Best Fitness = 65025, Best Individual = 255\n",
      "Generation 14: Best Fitness = 65025, Best Individual = 255\n",
      "Generation 15: Best Fitness = 65025, Best Individual = 255\n",
      "Generation 16: Best Fitness = 65025, Best Individual = 255\n",
      "Generation 17: Best Fitness = 65025, Best Individual = 255\n",
      "Generation 18: Best Fitness = 65025, Best Individual = 255\n",
      "Generation 19: Best Fitness = 65025, Best Individual = 255\n",
      "Generation 20: Best Fitness = 65025, Best Individual = 255\n",
      "Generation 21: Best Fitness = 65025, Best Individual = 255\n",
      "Generation 22: Best Fitness = 65025, Best Individual = 255\n",
      "Generation 23: Best Fitness = 65025, Best Individual = 255\n",
      "Generation 24: Best Fitness = 65025, Best Individual = 255\n",
      "Generation 25: Best Fitness = 65025, Best Individual = 255\n",
      "Generation 26: Best Fitness = 65025, Best Individual = 255\n",
      "Generation 27: Best Fitness = 65025, Best Individual = 255\n",
      "Generation 28: Best Fitness = 65025, Best Individual = 255\n",
      "Generation 29: Best Fitness = 65025, Best Individual = 255\n",
      "Generation 30: Best Fitness = 65025, Best Individual = 255\n",
      "Generation 31: Best Fitness = 65025, Best Individual = 255\n",
      "Generation 32: Best Fitness = 65025, Best Individual = 255\n",
      "Generation 33: Best Fitness = 65025, Best Individual = 255\n",
      "Generation 34: Best Fitness = 65025, Best Individual = 255\n",
      "Generation 35: Best Fitness = 65025, Best Individual = 255\n",
      "Generation 36: Best Fitness = 65025, Best Individual = 255\n",
      "Generation 37: Best Fitness = 65025, Best Individual = 255\n",
      "Generation 38: Best Fitness = 65025, Best Individual = 255\n",
      "Generation 39: Best Fitness = 65025, Best Individual = 255\n",
      "Generation 40: Best Fitness = 65025, Best Individual = 255\n",
      "Generation 41: Best Fitness = 65025, Best Individual = 255\n",
      "Generation 42: Best Fitness = 65025, Best Individual = 255\n",
      "Generation 43: Best Fitness = 65025, Best Individual = 255\n",
      "Generation 44: Best Fitness = 65025, Best Individual = 255\n",
      "Generation 45: Best Fitness = 65025, Best Individual = 255\n",
      "Generation 46: Best Fitness = 65025, Best Individual = 255\n",
      "Generation 47: Best Fitness = 65025, Best Individual = 255\n",
      "Generation 48: Best Fitness = 65025, Best Individual = 255\n",
      "Generation 49: Best Fitness = 65025, Best Individual = 255\n",
      "Generation 50: Best Fitness = 65025, Best Individual = 255\n"
     ]
    }
   ],
   "source": [
    "for generation in range(GENERATIONS):\n",
    "    # Fitness skorlari hesaplanir\n",
    "    fitness_scores = []\n",
    "    for individual in population:\n",
    "        score = fitness_score(individual)\n",
    "        fitness_scores.append(score)\n",
    "\n",
    "    # Yeni populasyon olusturulur\n",
    "    new_population = []\n",
    "\n",
    "    for _ in range(POPULATION_SIZE // 2):\n",
    "        # Turnuva ile ebevenyler secilir\n",
    "        participants = np.random.choice(len(population), size=3, replace=False)\n",
    "        best = max(participants, key=lambda idx: fitness_scores[idx])\n",
    "        parent1 = population[best]\n",
    "\n",
    "        participants = np.random.choice(len(population), size=3, replace=False)\n",
    "        best = max(participants, key=lambda idx: fitness_scores[idx])\n",
    "        parent2 = population[best]\n",
    "\n",
    "        # Caprazlama yapilir\n",
    "        if np.random.rand() < CROSSOVER_RATE:\n",
    "            point = np.random.randint(1, CHROMOSOME_LENGTH - 1)\n",
    "            child1 = np.concatenate((parent1[:point], parent2[point:]))\n",
    "            child2 = np.concatenate((parent2[:point], parent2[point:]))\n",
    "        else:\n",
    "            child1 = parent1\n",
    "            child2 = parent2\n",
    "\n",
    "        # Mutasyon\n",
    "        for i in range(CHROMOSOME_LENGTH):\n",
    "            if np.random.rand() < MUTATION_RATE:\n",
    "                child1[i] = 1 - child1[i]  # 1 ise 0 yap, 0 ise 1 yap\n",
    "\n",
    "        for i in range(CHROMOSOME_LENGTH):\n",
    "            if np.random.rand() < MUTATION_RATE:\n",
    "                child2[i] = 1 - child2[i]  # 1 ise 0 yap, 0 ise 1 yap\n",
    "\n",
    "        \n",
    "        # Yeni bireyler populasyona eklenir\n",
    "        new_population.append(child1)\n",
    "        new_population.append(child2)\n",
    "\n",
    "    population = new_population\n",
    "\n",
    "    # En iyi bireyi bul\n",
    "    best_individual = max(population, key=lambda ind: fitness_function(ind))\n",
    "    best_fitness = fitness_function(best_individual)\n",
    "    print(f\"Generation {generation + 1}: Best Fitness = {best_fitness}, Best Individual = {int(''.join(map(str, best_individual)), 2)}\")"
   ]
  },
  {
   "cell_type": "code",
   "execution_count": null,
   "id": "bc06fc30-a7c0-46b6-964b-44d1484e1f97",
   "metadata": {},
   "outputs": [],
   "source": []
  }
 ],
 "metadata": {
  "kernelspec": {
   "display_name": "Python 3 (ipykernel)",
   "language": "python",
   "name": "python3"
  },
  "language_info": {
   "codemirror_mode": {
    "name": "ipython",
    "version": 3
   },
   "file_extension": ".py",
   "mimetype": "text/x-python",
   "name": "python",
   "nbconvert_exporter": "python",
   "pygments_lexer": "ipython3",
   "version": "3.10.12"
  }
 },
 "nbformat": 4,
 "nbformat_minor": 5
}
