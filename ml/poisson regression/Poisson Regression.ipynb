{
 "cells": [
  {
   "cell_type": "markdown",
   "id": "1a044adc-9a1e-4233-a3a2-872ba2a74030",
   "metadata": {},
   "source": [
    "# Gerekli Kütüphaneler"
   ]
  },
  {
   "cell_type": "code",
   "execution_count": 1,
   "id": "e2d5369a-fc32-46e1-af9f-58d9523f4b0f",
   "metadata": {},
   "outputs": [],
   "source": [
    "import numpy as np\n",
    "import matplotlib.pyplot as plt\n",
    "from sklearn.model_selection import train_test_split\n",
    "from sklearn.metrics import r2_score, mean_squared_error\n",
    "from sklearn.linear_model import PoissonRegressor as SKPoissonRegressor\n",
    "from sklearn import datasets\n",
    "\n",
    "seed = 42\n",
    "np.random.seed(seed)"
   ]
  },
  {
   "cell_type": "markdown",
   "id": "c40834ab-1a39-40d2-a239-8e4fe08fca61",
   "metadata": {},
   "source": [
    "# Veri Seti"
   ]
  },
  {
   "cell_type": "code",
   "execution_count": 2,
   "id": "e858379e-286b-4b57-bc80-6738ee63e628",
   "metadata": {},
   "outputs": [],
   "source": [
    "X, y = datasets.make_regression(\n",
    "    n_samples=200,\n",
    "    n_features=1,\n",
    "    noise=15,\n",
    "    random_state=seed\n",
    ")"
   ]
  },
  {
   "cell_type": "code",
   "execution_count": 3,
   "id": "0c2b9232-436c-44da-8921-3d5c06f6cae0",
   "metadata": {},
   "outputs": [],
   "source": [
    "X_train, X_test, y_train, y_test = train_test_split(X, y, test_size=0.1, random_state=seed)"
   ]
  },
  {
   "cell_type": "markdown",
   "id": "00920555-c4e6-4264-b04c-2fc98c6d6179",
   "metadata": {},
   "source": [
    "# Poisson Regression"
   ]
  },
  {
   "cell_type": "code",
   "execution_count": 5,
   "id": "126b8e04-8f20-47ad-ac60-aedf1c9571c1",
   "metadata": {},
   "outputs": [],
   "source": [
    "class PoissonRegression:\n",
    "    def __init__(self, lr=0.01, n_iters=1000):\n",
    "        # Ogrenme orani\n",
    "        self.lr = lr\n",
    "        # Iterasyon sayisi\n",
    "        self.n_iters = n_iters\n",
    "        # Agirlik\n",
    "        self.W = None\n",
    "        # Bias\n",
    "        self.b = None\n",
    "\n",
    "    def fit(self, X, y):\n",
    "        n_samples, n_features = X.shape\n",
    "\n",
    "        # Agirlik ve bias ayarlanir\n",
    "        self.W = np.zeros(n_features)\n",
    "        self.b = 0\n",
    "\n",
    "        for _ in range(self.n_iters):\n",
    "            linear_model = np.dot(X, self.W) + self.b\n",
    "            y_pred = np.exp(linear_model)\n",
    "\n",
    "            # Gradyan hesaplanir.\n",
    "            dW = (1 / n_samples) * np.dot(X.T, (y_pred - y))\n",
    "            db = (1 / n_samples) * np.sum(y_pred - y)\n",
    "\n",
    "            # Agirlik ve bias guncellenir.\n",
    "            self.W -= self.lr * dW\n",
    "            self.b -= self.lr * db\n",
    "\n",
    "            # Poisson loss\n",
    "            loss = np.mean(y_pred - y * np.log(y_pred + 1e-9))\n",
    "\n",
    "    def predict(self, X):\n",
    "        linear_model = np.dot(X, self.W) + self.b\n",
    "        y_pred = np.exp(linear_model)\n",
    "        return y_pred"
   ]
  },
  {
   "cell_type": "markdown",
   "id": "772e0e9e-68d2-4cb7-a0a7-f38c3db41399",
   "metadata": {},
   "source": [
    "# Eğitim"
   ]
  },
  {
   "cell_type": "code",
   "execution_count": 6,
   "id": "c6e969ed-976a-4b46-827b-ae72900a68e0",
   "metadata": {},
   "outputs": [],
   "source": [
    "poi = PoissonRegression()\n",
    "poi.fit(X_train, y_train)"
   ]
  },
  {
   "cell_type": "markdown",
   "id": "aa250ab4-9810-4ad2-b22b-12c23646e74a",
   "metadata": {},
   "source": [
    "# Tahmin"
   ]
  },
  {
   "cell_type": "code",
   "execution_count": 8,
   "id": "f1a41f70-41a2-49b2-b16b-9d680fd13529",
   "metadata": {},
   "outputs": [],
   "source": [
    "y_pred = poi.predict(X_test)"
   ]
  },
  {
   "cell_type": "code",
   "execution_count": 9,
   "id": "b6acb513-46d4-48f7-b88f-763b27ce9c86",
   "metadata": {},
   "outputs": [
    {
     "name": "stdout",
     "output_type": "stream",
     "text": [
      "R^2 Score: -0.15793225900311003\n"
     ]
    }
   ],
   "source": [
    "print(\"R^2 Score:\", r2_score(y_test, y_pred))"
   ]
  },
  {
   "cell_type": "code",
   "execution_count": 10,
   "id": "138e10b8-24bc-4ab9-a2d1-f7dd55028692",
   "metadata": {},
   "outputs": [
    {
     "name": "stdout",
     "output_type": "stream",
     "text": [
      "MSE Score: 7137.185653790536\n"
     ]
    }
   ],
   "source": [
    "print(\"MSE Score:\", mean_squared_error(y_test, y_pred))"
   ]
  },
  {
   "cell_type": "markdown",
   "id": "c2bba0ca-96d6-448c-8e5b-7f656f60014d",
   "metadata": {},
   "source": [
    "# Sonuçlar"
   ]
  },
  {
   "cell_type": "code",
   "execution_count": 11,
   "id": "8cfe8306-b3cc-4f4a-970e-f4e8ef14d243",
   "metadata": {},
   "outputs": [
    {
     "data": {
      "image/png": "[encoded data removed]",
      "text/plain": [
       "<Figure size 300x400 with 1 Axes>"
      ]
     },
     "metadata": {},
     "output_type": "display_data"
    }
   ],
   "source": [
    "plt.figure(figsize=(3, 4))\n",
    "plt.plot(X_test, y_test, \"rx\")\n",
    "plt.plot(X_test, y_pred, \"b\")\n",
    "plt.show()"
   ]
  },
  {
   "cell_type": "code",
   "execution_count": null,
   "id": "33ceda3e-163d-4080-9b0e-a665b7124f6d",
   "metadata": {},
   "outputs": [],
   "source": []
  }
 ],
 "metadata": {
  "kernelspec": {
   "display_name": "Python 3 (ipykernel)",
   "language": "python",
   "name": "python3"
  },
  "language_info": {
   "codemirror_mode": {
    "name": "ipython",
    "version": 3
   },
   "file_extension": ".py",
   "mimetype": "text/x-python",
   "name": "python",
   "nbconvert_exporter": "python",
   "pygments_lexer": "ipython3",
   "version": "3.10.12"
  }
 },
 "nbformat": 4,
 "nbformat_minor": 5
}
